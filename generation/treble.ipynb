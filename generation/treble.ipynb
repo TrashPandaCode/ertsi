{
 "cells": [
  {
   "cell_type": "code",
   "execution_count": 1,
   "id": "6a009b62",
   "metadata": {},
   "outputs": [],
   "source": [
    "from treble_tsdk.tsdk import TSDK, TSDKCredentials\n",
    "from treble_tsdk import display_data as dd\n",
    "from treble_tsdk import treble\n",
    "import random\n",
    "import json\n",
    "from tqdm import tqdm\n",
    "import glob\n",
    "import math\n",
    "from typing import List, Tuple\n",
    "from collections import defaultdict"
   ]
  },
  {
   "cell_type": "code",
   "execution_count": 32,
   "id": "6eeb1926",
   "metadata": {},
   "outputs": [
    {
     "name": "stderr",
     "output_type": "stream",
     "text": [
      "Loading room data: 100%|██████████| 3/3 [00:00<00:00, 1414.76it/s]\n"
     ]
    },
    {
     "name": "stdout",
     "output_type": "stream",
     "text": [
      "== SDK package is up to date ==\n"
     ]
    }
   ],
   "source": [
    "data_dir = \"data\"\n",
    "\n",
    "rooms_data = []\n",
    "for filename in tqdm(glob.glob(f\"{data_dir}/**/*.json\", recursive=True), desc=\"Loading room data\"):\n",
    "    with open(filename, \"r\") as f:\n",
    "        data = json.load(f)\n",
    "        room_name = filename.split(\"/\")[-2]\n",
    "        data[\"room_name\"] = room_name\n",
    "        rooms_data.append(data)\n",
    "\n",
    "tsdk = TSDK(TSDKCredentials.from_file(\"./creds/tsdk.cred\"))\n"
   ]
  },
  {
   "cell_type": "code",
   "execution_count": 33,
   "id": "e64484c4",
   "metadata": {},
   "outputs": [],
   "source": [
    "project = tsdk.get_or_create_project(\"ertsi_11\")"
   ]
  },
  {
   "cell_type": "code",
   "execution_count": 34,
   "id": "0414bf0f",
   "metadata": {},
   "outputs": [],
   "source": [
    "def sort_points_clockwise(points: List[List[float]]) -> List[List[float]]:\n",
    "    # Compute centroid\n",
    "    centroid_x = sum(x for x, y in points) / len(points)\n",
    "    centroid_y = sum(y for x, y in points) / len(points)\n",
    "    \n",
    "    # Function to compute angle from centroid\n",
    "    def angle_from_centroid(point):\n",
    "        x, y = point\n",
    "        return math.atan2(y - centroid_y, x - centroid_x)\n",
    "    \n",
    "    # Sort points by angle (clockwise)\n",
    "    return sorted(points, key=angle_from_centroid, reverse=True)"
   ]
  },
  {
   "cell_type": "code",
   "execution_count": 35,
   "id": "b3c80eef",
   "metadata": {},
   "outputs": [
    {
     "name": "stdout",
     "output_type": "stream",
     "text": [
      "jojo_8_unsorted [[-15.351582527160645, 3.730515480041504], [-11.191547393798828, 11.191547393798828], [11.191547393798828, 11.191547393798828], [15.351582527160645, 3.730515956878662], [15.351582527160645, -3.730515480041504], [11.191547393798828, -11.191547393798828], [-11.191547393798828, -11.191547393798828], [-15.351582527160645, -3.730515956878662]]\n",
      "jojo_7_sorted [[1.0, -1.0], [1.0, 10.0], [-14.0, 10.0], [-14.0, 4.5], [-7.0, 4.5], [-7.0, -1.0]]\n",
      "jojo_6_unsorted [[-10.0, 18.0], [10.0, 18.0], [10.0, -1.0], [-10.0, -1.0]]\n"
     ]
    },
    {
     "data": {
      "text/plain": [
       "[GeometryDefinition(geometry_component_count=0.,\n",
       " GeometryDefinition(geometry_component_count=0.,\n",
       " GeometryDefinition(geometry_component_count=0.]"
      ]
     },
     "execution_count": 35,
     "metadata": {},
     "output_type": "execute_result"
    }
   ],
   "source": [
    "room_definitions = []\n",
    "for i, room_data in enumerate(rooms_data):\n",
    "    edge_points_hexagon = sort_points_clockwise(room_data[\"room_verts\"]) if not \"sorted\" in room_data else room_data[\"room_verts\"]\n",
    "    room_height = 3\n",
    "    print(room_data[\"room_name\"], edge_points_hexagon)\n",
    "    room = treble.GeometryDefinitionGenerator.create_polygon_room(\n",
    "        points_xy=edge_points_hexagon, height_z=room_height, join_wall_layers=True\n",
    "    )\n",
    "\n",
    "    room_definitions.append(room)\n",
    "room_definitions"
   ]
  },
  {
   "cell_type": "code",
   "execution_count": 36,
   "id": "2dec96ae",
   "metadata": {},
   "outputs": [
    {
     "name": "stdout",
     "output_type": "stream",
     "text": [
      "=== Populating rooms with geometry components ===\n"
     ]
    },
    {
     "name": "stderr",
     "output_type": "stream",
     "text": [
      "0it [00:00, ?it/s]"
     ]
    },
    {
     "name": "stdout",
     "output_type": "stream",
     "text": [
      "Populating room jojo_8_unsorted with geometry components\n"
     ]
    },
    {
     "name": "stderr",
     "output_type": "stream",
     "text": [
      "1it [00:05,  5.67s/it]"
     ]
    },
    {
     "name": "stdout",
     "output_type": "stream",
     "text": [
      "Populating room jojo_7_sorted with geometry components\n"
     ]
    },
    {
     "name": "stderr",
     "output_type": "stream",
     "text": [
      "2it [00:09,  4.31s/it]"
     ]
    },
    {
     "name": "stdout",
     "output_type": "stream",
     "text": [
      "Populating room jojo_6_unsorted with geometry components\n"
     ]
    },
    {
     "name": "stderr",
     "output_type": "stream",
     "text": [
      "3it [00:13,  4.46s/it]\n"
     ]
    }
   ],
   "source": [
    "generated_rooms = []\n",
    "\n",
    "print(\"=== Populating rooms with geometry components ===\")\n",
    "for i, (room_def, room_data) in tqdm(enumerate(zip(room_definitions, rooms_data))):\n",
    "    print(f\"Populating room {room_data[\"room_name\"]} with geometry components\")\n",
    "    room_def.clear_geometry_components()\n",
    "    placements = []\n",
    "\n",
    "    if room_data[\"chair_count\"] > 0:\n",
    "        placements += [\n",
    "            treble.GeometryComponentPlacement(\n",
    "                components=tsdk.geometry_component_library.query(group=\"chair\"),\n",
    "            preferred_count=room_data[\"chair_count\"],\n",
    "            rotation_settings=treble.ComponentAnglePool([0, 90, 180, 270]),\n",
    "            min_dist_from_objects=0.5,\n",
    "            min_dist_from_walls=0.5,\n",
    "            )\n",
    "        ]\n",
    "    if room_data[\"desk_count\"] > 0:\n",
    "        placements += [\n",
    "            treble.GeometryComponentPlacement(\n",
    "               components=tsdk.geometry_component_library.query(group=\"desk\"),\n",
    "            preferred_count=room_data[\"desk_count\"],\n",
    "            rotation_settings=treble.ComponentAnglePool([0, 90, 180, 270]),\n",
    "            min_dist_from_objects=0.5,\n",
    "            min_dist_from_walls=0.5,\n",
    "            )\n",
    "        ]\n",
    "        \n",
    "    room_def.populate_with_geometry_components(\n",
    "        components=placements,\n",
    "        selection_algorithm=treble.ComponentSelectionAlgorithm.random,\n",
    "    )\n",
    "\n",
    "    try:\n",
    "        model = project.add_model(f\"room_{i}\", room_def)\n",
    "        generated_rooms.append(model)\n",
    "    except Exception as e:\n",
    "        print(f\"Error adding model for room {room_data[\"room_name\"]}: {e}\")\n",
    "        continue"
   ]
  },
  {
   "cell_type": "code",
   "execution_count": 41,
   "id": "d1fe77c5",
   "metadata": {},
   "outputs": [
    {
     "data": {
      "text/html": [
       "\n",
       "        <iframe\n",
       "            width=\"100%\"\n",
       "            height=\"700\"\n",
       "            src=\"http://127.0.0.1:55660/\"\n",
       "            frameborder=\"0\"\n",
       "            allowfullscreen\n",
       "            \n",
       "        ></iframe>\n",
       "        "
      ],
      "text/plain": [
       "<IPython.lib.display.IFrame at 0x764da91f6d50>"
      ]
     },
     "metadata": {},
     "output_type": "display_data"
    }
   ],
   "source": [
    "random_model = random.choice(generated_rooms)\n",
    "random_model.plot()"
   ]
  },
  {
   "cell_type": "code",
   "execution_count": 42,
   "id": "a3f80e15",
   "metadata": {},
   "outputs": [
    {
     "data": {
      "text/html": [
       "<pre style=\"white-space:pre;overflow-x:auto;line-height:normal;font-family:Menlo,'DejaVu Sans Mono',consolas,'Courier New',monospace\"><span style=\"font-style: italic\">                                                 Models                                                 </span>\n",
       "┏━━━━━━━┳━━━━━━━━┳━━━━━━━━━━━━━━━━━━━━━━━━━━━━━━━━━━━━━━┳━━━━━━━━━━━━━━━━━━━━━━━━━━━━━━┳━━━━━━━━━━━━━━━┓\n",
       "┃<span style=\"font-weight: bold\"> Index </span>┃<span style=\"font-weight: bold\"> Name   </span>┃<span style=\"font-weight: bold\"> Id                                   </span>┃<span style=\"font-weight: bold\"> Created At                   </span>┃<span style=\"font-weight: bold\"> Is Watertight </span>┃\n",
       "┡━━━━━━━╇━━━━━━━━╇━━━━━━━━━━━━━━━━━━━━━━━━━━━━━━━━━━━━━━╇━━━━━━━━━━━━━━━━━━━━━━━━━━━━━━╇━━━━━━━━━━━━━━━┩\n",
       "│ 0     │ room_0 │ 422a2822-83e4-45c1-a0dc-b9cc5d0e22fc │ 2025-05-28T14:36:51.2104487Z │ False         │\n",
       "│ 1     │ room_1 │ 63e2c151-e42e-4c10-b158-3134ede9469e │ 2025-05-28 14:36:54          │ True          │\n",
       "│ 2     │ room_2 │ 9cd0afff-2ddd-4861-8a06-febe57cbd96e │ 2025-05-28 14:36:58          │ True          │\n",
       "└───────┴────────┴──────────────────────────────────────┴──────────────────────────────┴───────────────┘\n",
       "</pre>\n"
      ],
      "text/plain": [
       "\u001b[3m                                                 Models                                                 \u001b[0m\n",
       "┏━━━━━━━┳━━━━━━━━┳━━━━━━━━━━━━━━━━━━━━━━━━━━━━━━━━━━━━━━┳━━━━━━━━━━━━━━━━━━━━━━━━━━━━━━┳━━━━━━━━━━━━━━━┓\n",
       "┃\u001b[1m \u001b[0m\u001b[1mIndex\u001b[0m\u001b[1m \u001b[0m┃\u001b[1m \u001b[0m\u001b[1mName  \u001b[0m\u001b[1m \u001b[0m┃\u001b[1m \u001b[0m\u001b[1mId                                  \u001b[0m\u001b[1m \u001b[0m┃\u001b[1m \u001b[0m\u001b[1mCreated At                  \u001b[0m\u001b[1m \u001b[0m┃\u001b[1m \u001b[0m\u001b[1mIs Watertight\u001b[0m\u001b[1m \u001b[0m┃\n",
       "┡━━━━━━━╇━━━━━━━━╇━━━━━━━━━━━━━━━━━━━━━━━━━━━━━━━━━━━━━━╇━━━━━━━━━━━━━━━━━━━━━━━━━━━━━━╇━━━━━━━━━━━━━━━┩\n",
       "│ 0     │ room_0 │ 422a2822-83e4-45c1-a0dc-b9cc5d0e22fc │ 2025-05-28T14:36:51.2104487Z │ False         │\n",
       "│ 1     │ room_1 │ 63e2c151-e42e-4c10-b158-3134ede9469e │ 2025-05-28 14:36:54          │ True          │\n",
       "│ 2     │ room_2 │ 9cd0afff-2ddd-4861-8a06-febe57cbd96e │ 2025-05-28 14:36:58          │ True          │\n",
       "└───────┴────────┴──────────────────────────────────────┴──────────────────────────────┴───────────────┘\n"
      ]
     },
     "metadata": {},
     "output_type": "display_data"
    }
   ],
   "source": [
    "dd.display(generated_rooms)"
   ]
  },
  {
   "cell_type": "code",
   "execution_count": 43,
   "id": "ace80ab5",
   "metadata": {},
   "outputs": [
    {
     "name": "stderr",
     "output_type": "stream",
     "text": [
      "3it [00:00, 23.28it/s]\n"
     ]
    },
    {
     "data": {
      "text/html": [
       "<pre style=\"white-space:pre;overflow-x:auto;line-height:normal;font-family:Menlo,'DejaVu Sans Mono',consolas,'Courier New',monospace\"><span style=\"font-style: italic\">                     Material assignment                     </span>\n",
       "┏━━━━━━━━━━━━━━━━━━━━━━┳━━━━━━━━━━━━━━━━━━━━━━━━━━━━━━━━━━━━┓\n",
       "┃<span style=\"font-weight: bold\"> Layer name           </span>┃<span style=\"font-weight: bold\"> Material name                      </span>┃\n",
       "┡━━━━━━━━━━━━━━━━━━━━━━╇━━━━━━━━━━━━━━━━━━━━━━━━━━━━━━━━━━━━┩\n",
       "│ polygon_room_floor   │ Linoleum or vinyl on concrete      │\n",
       "│ Furniture/Bar Stool  │ Heavily upholstered concert chairs │\n",
       "│ Furniture/Chair      │ Heavily upholstered concert chairs │\n",
       "│ Furniture/Desk       │ Plywood panelling, 1 cm thick      │\n",
       "│ polygon_room_ceiling │ Smooth painted concrete            │\n",
       "│ Furniture/Chair A    │ Heavily upholstered concert chairs │\n",
       "│ polygon_room_walls   │ Gypsum/Plaster on solid backing    │\n",
       "└──────────────────────┴────────────────────────────────────┘\n",
       "</pre>\n"
      ],
      "text/plain": [
       "\u001b[3m                     Material assignment                     \u001b[0m\n",
       "┏━━━━━━━━━━━━━━━━━━━━━━┳━━━━━━━━━━━━━━━━━━━━━━━━━━━━━━━━━━━━┓\n",
       "┃\u001b[1m \u001b[0m\u001b[1mLayer name          \u001b[0m\u001b[1m \u001b[0m┃\u001b[1m \u001b[0m\u001b[1mMaterial name                     \u001b[0m\u001b[1m \u001b[0m┃\n",
       "┡━━━━━━━━━━━━━━━━━━━━━━╇━━━━━━━━━━━━━━━━━━━━━━━━━━━━━━━━━━━━┩\n",
       "│ polygon_room_floor   │ Linoleum or vinyl on concrete      │\n",
       "│ Furniture/Bar Stool  │ Heavily upholstered concert chairs │\n",
       "│ Furniture/Chair      │ Heavily upholstered concert chairs │\n",
       "│ Furniture/Desk       │ Plywood panelling, 1 cm thick      │\n",
       "│ polygon_room_ceiling │ Smooth painted concrete            │\n",
       "│ Furniture/Chair A    │ Heavily upholstered concert chairs │\n",
       "│ polygon_room_walls   │ Gypsum/Plaster on solid backing    │\n",
       "└──────────────────────┴────────────────────────────────────┘\n"
      ]
     },
     "metadata": {},
     "output_type": "display_data"
    }
   ],
   "source": [
    "all_materials = tsdk.material_library.get()\n",
    "database_materials = [\n",
    "    material for material in all_materials if material[\"organizationId\"] == None\n",
    "]\n",
    "\n",
    "all_material_assignments = []\n",
    "for i, (model, room_data) in tqdm(enumerate(zip(generated_rooms, rooms_data))):\n",
    "    layers = {\n",
    "        \"polygon_room_walls\": \"gypsum/plaster on solid backing\",\n",
    "        \"polygon_room_floor\": room_data[\"floor_material\"],\n",
    "        \"polygon_room_ceiling\": room_data[\"ceiling_material\"],\n",
    "        \"Furniture/Desk\": \"wood\",\n",
    "        \"Furniture/Chair\": \"upholstered concert chairs\",\n",
    "        \"Furniture/Chair A\": \"upholstered concert chairs\",\n",
    "        \"Furniture/Bar Stool\": \"upholstered concert chairs\",\n",
    "    }\n",
    "    material_assignment = []\n",
    "\n",
    "    for layer in model.layer_names:\n",
    "        if layer in layers:\n",
    "            search_string = layers[layer]\n",
    "            matches = [\n",
    "                m for m in database_materials if search_string.lower() in m.name.lower()\n",
    "            ]\n",
    "            if matches:\n",
    "                material_assignment.append(\n",
    "                    treble.MaterialAssignment(layer, random.choice(matches))\n",
    "                )\n",
    "    all_material_assignments.append(material_assignment)\n",
    "\n",
    "dd.display(all_material_assignments[-1])"
   ]
  },
  {
   "cell_type": "code",
   "execution_count": 44,
   "id": "ff5d3f79",
   "metadata": {},
   "outputs": [
    {
     "name": "stderr",
     "output_type": "stream",
     "text": [
      "100%|██████████| 3/3 [00:01<00:00,  2.17it/s]\n"
     ]
    }
   ],
   "source": [
    "all_sources = []\n",
    "all_source_positions = []\n",
    "all_receivers = []\n",
    "all_receiver_positions = []\n",
    "\n",
    "pg = treble.PointsGenerator()\n",
    "\n",
    "pos_ruleset = treble.PointRuleset(\n",
    "    min_dist_from_surface=0.5,\n",
    "    min_dist_from_other_points=2,\n",
    ")\n",
    "\n",
    "for room in tqdm(generated_rooms):\n",
    "    pos = pg.generate_valid_points(\n",
    "        model=room,\n",
    "        max_count=2,\t\n",
    "        ruleset=pos_ruleset,\n",
    "        z_range=(0.5, 1.5)\n",
    "    )\n",
    "    all_source_positions.append(pos[0])\n",
    "    all_receiver_positions.append(pos[1])\n",
    "\n",
    "    source = treble.Source.make_omni(\n",
    "        position=pos[0],\n",
    "        label=f\"source_{room.name}\",\n",
    "    )\n",
    "    receiver = treble.Receiver.make_mono(\n",
    "        position=pos[1],\n",
    "        label=f\"receiver_{room.name}\",\n",
    "    )\n",
    "    all_sources.append(source)\n",
    "    all_receivers.append(receiver)\n"
   ]
  },
  {
   "cell_type": "code",
   "execution_count": 45,
   "id": "758072df",
   "metadata": {},
   "outputs": [
    {
     "name": "stderr",
     "output_type": "stream",
     "text": [
      "3it [00:00, 3084.05it/s]\n"
     ]
    }
   ],
   "source": [
    "sim_type = treble.SimulationType.geometrical\n",
    "crossover_frequency = 500\n",
    "\n",
    "sim_defs = []\n",
    "\n",
    "for i, (room, room_data) in tqdm(enumerate(zip(generated_rooms, rooms_data))):\n",
    "    sim_def = treble.SimulationDefinition(\n",
    "        name=f\"simulation_{i}_1\",  # unique name of the simulation\n",
    "        simulation_type=sim_type,  # the type of simulation\n",
    "        # crossover_frequency=crossover_frequency,  # the frequency at which the simulation switches from wavebased to image source\n",
    "        model=room,\n",
    "        energy_decay_threshold=60,  # simulation termination criteria - the simulation stops running after -60 dB of energy decay\n",
    "        receiver_list=[all_receivers[i]],\n",
    "        source_list=[all_sources[i]],\n",
    "        material_assignment=all_material_assignments[i],\n",
    "    )\n",
    "    sim_defs.append(sim_def)\n",
    "\n",
    "sim_defs = project.add_simulations(sim_defs)"
   ]
  },
  {
   "cell_type": "code",
   "execution_count": 46,
   "id": "84b6ffbd",
   "metadata": {},
   "outputs": [
    {
     "data": {
      "text/html": [
       "<pre style=\"white-space:pre;overflow-x:auto;line-height:normal;font-family:Menlo,'DejaVu Sans Mono',consolas,'Courier New',monospace\"><span style=\"font-style: italic\">                                                      Simulations                                                      </span>\n",
       "┏━━━━━━━┳━━━━━━━━━━━━━━━━┳━━━━━━━━━━━━━━━━━━┳━━━━━━━━━━━━━━━━━━━━━━━━━━━━━━━━━━━━━━┳━━━━━━━━━┳━━━━━━━━━━━━┳━━━━━┳━━━━━┓\n",
       "┃<span style=\"font-weight: bold\"> Index </span>┃<span style=\"font-weight: bold\"> Name           </span>┃<span style=\"font-weight: bold\"> Created at       </span>┃<span style=\"font-weight: bold\"> Id                                   </span>┃<span style=\"font-weight: bold\"> Status  </span>┃<span style=\"font-weight: bold\"> Freq. (Hz) </span>┃<span style=\"font-weight: bold\"> Rcv </span>┃<span style=\"font-weight: bold\"> Src </span>┃\n",
       "┡━━━━━━━╇━━━━━━━━━━━━━━━━╇━━━━━━━━━━━━━━━━━━╇━━━━━━━━━━━━━━━━━━━━━━━━━━━━━━━━━━━━━━╇━━━━━━━━━╇━━━━━━━━━━━━╇━━━━━╇━━━━━┩\n",
       "│ 0     │ simulation_0_1 │ 2025-05-28 14:37 │ eafc80e3-c908-496e-b84e-d8216aa62db7 │ Created │ 25         │ 1   │ 1   │\n",
       "│ 1     │ simulation_2_1 │ 2025-05-28 14:37 │ 4db48efb-a6de-4fe3-993f-9eac790a23c3 │ Created │ 25         │ 1   │ 1   │\n",
       "│ 2     │ simulation_1_1 │ 2025-05-28 14:37 │ 8135e4aa-db4d-4d66-9767-3d27195b6480 │ Created │ 25         │ 1   │ 1   │\n",
       "└───────┴────────────────┴──────────────────┴──────────────────────────────────────┴─────────┴────────────┴─────┴─────┘\n",
       "</pre>\n"
      ],
      "text/plain": [
       "\u001b[3m                                                      Simulations                                                      \u001b[0m\n",
       "┏━━━━━━━┳━━━━━━━━━━━━━━━━┳━━━━━━━━━━━━━━━━━━┳━━━━━━━━━━━━━━━━━━━━━━━━━━━━━━━━━━━━━━┳━━━━━━━━━┳━━━━━━━━━━━━┳━━━━━┳━━━━━┓\n",
       "┃\u001b[1m \u001b[0m\u001b[1mIndex\u001b[0m\u001b[1m \u001b[0m┃\u001b[1m \u001b[0m\u001b[1mName          \u001b[0m\u001b[1m \u001b[0m┃\u001b[1m \u001b[0m\u001b[1mCreated at      \u001b[0m\u001b[1m \u001b[0m┃\u001b[1m \u001b[0m\u001b[1mId                                  \u001b[0m\u001b[1m \u001b[0m┃\u001b[1m \u001b[0m\u001b[1mStatus \u001b[0m\u001b[1m \u001b[0m┃\u001b[1m \u001b[0m\u001b[1mFreq. (Hz)\u001b[0m\u001b[1m \u001b[0m┃\u001b[1m \u001b[0m\u001b[1mRcv\u001b[0m\u001b[1m \u001b[0m┃\u001b[1m \u001b[0m\u001b[1mSrc\u001b[0m\u001b[1m \u001b[0m┃\n",
       "┡━━━━━━━╇━━━━━━━━━━━━━━━━╇━━━━━━━━━━━━━━━━━━╇━━━━━━━━━━━━━━━━━━━━━━━━━━━━━━━━━━━━━━╇━━━━━━━━━╇━━━━━━━━━━━━╇━━━━━╇━━━━━┩\n",
       "│ 0     │ simulation_0_1 │ 2025-05-28 14:37 │ eafc80e3-c908-496e-b84e-d8216aa62db7 │ Created │ 25         │ 1   │ 1   │\n",
       "│ 1     │ simulation_2_1 │ 2025-05-28 14:37 │ 4db48efb-a6de-4fe3-993f-9eac790a23c3 │ Created │ 25         │ 1   │ 1   │\n",
       "│ 2     │ simulation_1_1 │ 2025-05-28 14:37 │ 8135e4aa-db4d-4d66-9767-3d27195b6480 │ Created │ 25         │ 1   │ 1   │\n",
       "└───────┴────────────────┴──────────────────┴──────────────────────────────────────┴─────────┴────────────┴─────┴─────┘\n"
      ]
     },
     "metadata": {},
     "output_type": "display_data"
    }
   ],
   "source": [
    "all_sims = project.get_simulations()\n",
    "dd.display(all_sims)"
   ]
  },
  {
   "cell_type": "code",
   "execution_count": 47,
   "id": "f7a75242",
   "metadata": {},
   "outputs": [
    {
     "data": {
      "text/html": [
       "\n",
       "        <iframe\n",
       "            width=\"100%\"\n",
       "            height=\"700\"\n",
       "            src=\"http://127.0.0.1:55660/\"\n",
       "            frameborder=\"0\"\n",
       "            allowfullscreen\n",
       "            \n",
       "        ></iframe>\n",
       "        "
      ],
      "text/plain": [
       "<IPython.lib.display.IFrame at 0x764da922c9b0>"
      ]
     },
     "metadata": {},
     "output_type": "display_data"
    }
   ],
   "source": [
    "random_sim = random.choice(all_sims)\n",
    "random_sim.plot()"
   ]
  },
  {
   "cell_type": "code",
   "execution_count": 48,
   "id": "9958b0bb",
   "metadata": {},
   "outputs": [
    {
     "data": {
      "text/html": [
       "<pre style=\"white-space:pre;overflow-x:auto;line-height:normal;font-family:Menlo,'DejaVu Sans Mono',consolas,'Courier New',monospace\"><span style=\"font-style: italic\">                               Project 20f6db10-5167-4702-83ec-44e96ff7ab38 estimate                               </span>\n",
       "┏━━━━━━━━━━━━━━━━━━━━━━━━━━━━━━━━━━━━━━━━━━━━━━━━━━━━━━━┳━━━━━━━━━━━━━━━━━━┳━━━━━━━━━━━━━━━━━━━┳━━━━━━━━━━━━━━━━━━┓\n",
       "┃<span style=\"font-weight: bold\">                                                       </span>┃<span style=\"font-weight: bold\">       Simulation </span>┃<span style=\"font-weight: bold\"> Estimated runtime </span>┃<span style=\"font-weight: bold\">   Estimated cost </span>┃\n",
       "┃<span style=\"font-weight: bold\">                                            Simulation </span>┃<span style=\"font-weight: bold\">           status </span>┃<span style=\"font-weight: bold\">           (hours) </span>┃<span style=\"font-weight: bold\">         (tokens) </span>┃\n",
       "┡━━━━━━━━━━━━━━━━━━━━━━━━━━━━━━━━━━━━━━━━━━━━━━━━━━━━━━━╇━━━━━━━━━━━━━━━━━━╇━━━━━━━━━━━━━━━━━━━╇━━━━━━━━━━━━━━━━━━┩\n",
       "│ simulation_0_1 (eafc80e3-c908-496e-b84e-d8216aa62db7) │          Created │<span style=\"color: #800080; text-decoration-color: #800080\">             0.061 </span>│<span style=\"color: #008000; text-decoration-color: #008000\">            0.061 </span>│\n",
       "│ simulation_2_1 (4db48efb-a6de-4fe3-993f-9eac790a23c3) │          Created │<span style=\"color: #800080; text-decoration-color: #800080\">             0.038 </span>│<span style=\"color: #008000; text-decoration-color: #008000\">            0.038 </span>│\n",
       "│ simulation_1_1 (8135e4aa-db4d-4d66-9767-3d27195b6480) │          Created │<span style=\"color: #800080; text-decoration-color: #800080\">             0.032 </span>│<span style=\"color: #008000; text-decoration-color: #008000\">            0.032 </span>│\n",
       "├───────────────────────────────────────────────────────┼──────────────────┼───────────────────┼──────────────────┤\n",
       "│<span style=\"font-weight: bold\">                                                 Total </span>│<span style=\"font-weight: bold\">                  </span>│<span style=\"font-weight: bold\">             </span><span style=\"color: #800080; text-decoration-color: #800080; font-weight: bold\">0.061</span><span style=\"font-weight: bold\"> </span>│<span style=\"font-weight: bold\">            </span><span style=\"color: #008000; text-decoration-color: #008000; font-weight: bold\">0.131</span><span style=\"font-weight: bold\"> </span>│\n",
       "└───────────────────────────────────────────────────────┴──────────────────┴───────────────────┴──────────────────┘\n",
       "</pre>\n"
      ],
      "text/plain": [
       "\u001b[3m                               Project 20f6db10-5167-4702-83ec-44e96ff7ab38 estimate                               \u001b[0m\n",
       "┏━━━━━━━━━━━━━━━━━━━━━━━━━━━━━━━━━━━━━━━━━━━━━━━━━━━━━━━┳━━━━━━━━━━━━━━━━━━┳━━━━━━━━━━━━━━━━━━━┳━━━━━━━━━━━━━━━━━━┓\n",
       "┃\u001b[1m                                                       \u001b[0m┃\u001b[1m \u001b[0m\u001b[1m      Simulation\u001b[0m\u001b[1m \u001b[0m┃\u001b[1m \u001b[0m\u001b[1mEstimated runtime\u001b[0m\u001b[1m \u001b[0m┃\u001b[1m \u001b[0m\u001b[1m  Estimated cost\u001b[0m\u001b[1m \u001b[0m┃\n",
       "┃\u001b[1m \u001b[0m\u001b[1m                                           Simulation\u001b[0m\u001b[1m \u001b[0m┃\u001b[1m \u001b[0m\u001b[1m          status\u001b[0m\u001b[1m \u001b[0m┃\u001b[1m \u001b[0m\u001b[1m          (hours)\u001b[0m\u001b[1m \u001b[0m┃\u001b[1m \u001b[0m\u001b[1m        (tokens)\u001b[0m\u001b[1m \u001b[0m┃\n",
       "┡━━━━━━━━━━━━━━━━━━━━━━━━━━━━━━━━━━━━━━━━━━━━━━━━━━━━━━━╇━━━━━━━━━━━━━━━━━━╇━━━━━━━━━━━━━━━━━━━╇━━━━━━━━━━━━━━━━━━┩\n",
       "│ simulation_0_1 (eafc80e3-c908-496e-b84e-d8216aa62db7) │          Created │\u001b[35m \u001b[0m\u001b[35m            0.061\u001b[0m\u001b[35m \u001b[0m│\u001b[32m \u001b[0m\u001b[32m           0.061\u001b[0m\u001b[32m \u001b[0m│\n",
       "│ simulation_2_1 (4db48efb-a6de-4fe3-993f-9eac790a23c3) │          Created │\u001b[35m \u001b[0m\u001b[35m            0.038\u001b[0m\u001b[35m \u001b[0m│\u001b[32m \u001b[0m\u001b[32m           0.038\u001b[0m\u001b[32m \u001b[0m│\n",
       "│ simulation_1_1 (8135e4aa-db4d-4d66-9767-3d27195b6480) │          Created │\u001b[35m \u001b[0m\u001b[35m            0.032\u001b[0m\u001b[35m \u001b[0m│\u001b[32m \u001b[0m\u001b[32m           0.032\u001b[0m\u001b[32m \u001b[0m│\n",
       "├───────────────────────────────────────────────────────┼──────────────────┼───────────────────┼──────────────────┤\n",
       "│\u001b[1m \u001b[0m\u001b[1m                                                \u001b[0m\u001b[1mTotal\u001b[0m\u001b[1m \u001b[0m│\u001b[1m \u001b[0m\u001b[1m                \u001b[0m\u001b[1m \u001b[0m│\u001b[1m \u001b[0m\u001b[1m            \u001b[0m\u001b[1;35m0.061\u001b[0m\u001b[1m \u001b[0m│\u001b[1m \u001b[0m\u001b[1m           \u001b[0m\u001b[1;32m0.131\u001b[0m\u001b[1m \u001b[0m│\n",
       "└───────────────────────────────────────────────────────┴──────────────────┴───────────────────┴──────────────────┘\n"
      ]
     },
     "metadata": {},
     "output_type": "display_data"
    }
   ],
   "source": [
    "runtime_estimate = project.estimate()\n",
    "dd.display(runtime_estimate)\n"
   ]
  },
  {
   "cell_type": "code",
   "execution_count": 49,
   "id": "1fdb41e2",
   "metadata": {},
   "outputs": [
    {
     "data": {
      "text/html": [
       "<pre style=\"white-space:pre;overflow-x:auto;line-height:normal;font-family:Menlo,'DejaVu Sans Mono',consolas,'Courier New',monospace\"><span style=\"font-style: italic\">                                     ertsi_11                                      </span>\n",
       "┏━━━━━━━━━━━━━━━━━┳━━━━━━━━━━━━━━━━━━━━━━━━━━━━━━━━━━━━━━┳━━━━━━━━━━━┳━━━━━━━━━━━━┓\n",
       "┃<span style=\"font-weight: bold\"> Simulation Name </span>┃<span style=\"font-weight: bold\"> Id                                   </span>┃<span style=\"font-weight: bold\"> Status    </span>┃<span style=\"font-weight: bold\"> Progress % </span>┃\n",
       "┡━━━━━━━━━━━━━━━━━╇━━━━━━━━━━━━━━━━━━━━━━━━━━━━━━━━━━━━━━╇━━━━━━━━━━━╇━━━━━━━━━━━━┩\n",
       "│ simulation_2_1  │ 4db48efb-a6de-4fe3-993f-9eac790a23c3 │ <span style=\"color: #008000; text-decoration-color: #008000\">Completed</span> │ 100%       │\n",
       "│ simulation_1_1  │ 8135e4aa-db4d-4d66-9767-3d27195b6480 │ <span style=\"color: #008000; text-decoration-color: #008000\">Completed</span> │ 100%       │\n",
       "│ simulation_0_1  │ eafc80e3-c908-496e-b84e-d8216aa62db7 │ <span style=\"color: #008000; text-decoration-color: #008000\">Completed</span> │ 100%       │\n",
       "├─────────────────┼──────────────────────────────────────┼───────────┼────────────┤\n",
       "│<span style=\"font-weight: bold\">                 </span>│<span style=\"font-weight: bold\">                                      </span>│<span style=\"font-weight: bold\"> </span><span style=\"color: #008000; text-decoration-color: #008000; font-weight: bold\">Completed</span><span style=\"font-weight: bold\"> </span>│<span style=\"font-weight: bold\"> 100%       </span>│\n",
       "└─────────────────┴──────────────────────────────────────┴───────────┴────────────┘\n",
       "</pre>\n"
      ],
      "text/plain": [
       "\u001b[3m                                     ertsi_11                                      \u001b[0m\n",
       "┏━━━━━━━━━━━━━━━━━┳━━━━━━━━━━━━━━━━━━━━━━━━━━━━━━━━━━━━━━┳━━━━━━━━━━━┳━━━━━━━━━━━━┓\n",
       "┃\u001b[1m \u001b[0m\u001b[1mSimulation Name\u001b[0m\u001b[1m \u001b[0m┃\u001b[1m \u001b[0m\u001b[1mId                                  \u001b[0m\u001b[1m \u001b[0m┃\u001b[1m \u001b[0m\u001b[1mStatus   \u001b[0m\u001b[1m \u001b[0m┃\u001b[1m \u001b[0m\u001b[1mProgress %\u001b[0m\u001b[1m \u001b[0m┃\n",
       "┡━━━━━━━━━━━━━━━━━╇━━━━━━━━━━━━━━━━━━━━━━━━━━━━━━━━━━━━━━╇━━━━━━━━━━━╇━━━━━━━━━━━━┩\n",
       "│ simulation_2_1  │ 4db48efb-a6de-4fe3-993f-9eac790a23c3 │ \u001b[32mCompleted\u001b[0m │ 100%       │\n",
       "│ simulation_1_1  │ 8135e4aa-db4d-4d66-9767-3d27195b6480 │ \u001b[32mCompleted\u001b[0m │ 100%       │\n",
       "│ simulation_0_1  │ eafc80e3-c908-496e-b84e-d8216aa62db7 │ \u001b[32mCompleted\u001b[0m │ 100%       │\n",
       "├─────────────────┼──────────────────────────────────────┼───────────┼────────────┤\n",
       "│\u001b[1m \u001b[0m\u001b[1m               \u001b[0m\u001b[1m \u001b[0m│\u001b[1m \u001b[0m\u001b[1m                                    \u001b[0m\u001b[1m \u001b[0m│\u001b[1m \u001b[0m\u001b[1;32mCompleted\u001b[0m\u001b[1m \u001b[0m│\u001b[1m \u001b[0m\u001b[1m100%      \u001b[0m\u001b[1m \u001b[0m│\n",
       "└─────────────────┴──────────────────────────────────────┴───────────┴────────────┘\n"
      ]
     },
     "metadata": {},
     "output_type": "display_data"
    },
    {
     "data": {
      "text/html": [
       "<pre style=\"white-space:pre;overflow-x:auto;line-height:normal;font-family:Menlo,'DejaVu Sans Mono',consolas,'Courier New',monospace\">Done\n",
       "</pre>\n"
      ],
      "text/plain": [
       "Done\n"
      ]
     },
     "metadata": {},
     "output_type": "display_data"
    }
   ],
   "source": [
    "project.start_simulations()\n",
    "project.as_live_progress()"
   ]
  },
  {
   "cell_type": "code",
   "execution_count": 50,
   "id": "b0083bc0",
   "metadata": {},
   "outputs": [
    {
     "name": "stderr",
     "output_type": "stream",
     "text": [
      "Download simulation eafc80e3-c908-496e-b84e-d8216aa62db7: 100%|██████████| 2/2 tasks\n",
      "Download simulation 4db48efb-a6de-4fe3-993f-9eac790a23c3:   0%|          | 0/2 tasks\n",
      "\u001b[A\n",
      "Download simulation 4db48efb-a6de-4fe3-993f-9eac790a23c3: 100%|██████████| 2/2 tasks\n",
      "Download simulation 8135e4aa-db4d-4d66-9767-3d27195b6480: 100%|██████████| 2/2 tasks\n"
     ]
    }
   ],
   "source": [
    "for sim, room in zip(all_sims, rooms_data):\n",
    "    room_name = room[\"room_name\"]\n",
    "    \n",
    "    try:\n",
    "        r = sim.download_results(f'data/{room_name}')\n",
    "    except ValueError as e:\n",
    "        print(f\"Room {room_name} already exists, skipping download.\")\n",
    "        r = None"
   ]
  },
  {
   "cell_type": "code",
   "execution_count": 51,
   "id": "4bc5038d",
   "metadata": {},
   "outputs": [],
   "source": [
    "for simulation, room in zip(all_sims, rooms_data):\n",
    "    try:\n",
    "        results = simulation.get_results_object(f'data/{room[\"room_name\"]}')\n",
    "        if not results:\n",
    "            print(f\"No results found for room {room['room_name']}\")\n",
    "            continue\n",
    "        mono_ir = results.get_mono_ir(source=simulation.sources[0], receiver=simulation.receivers[0])\n",
    "        mono_ir.write_to_wav(path_to_file=f\"data/{room['room_name']}/ir.wav\")\n",
    "    except KeyError as e:\n",
    "        print(f\"Results not found for room {room['room_name']}: {e}\")\n"
   ]
  }
 ],
 "metadata": {
  "kernelspec": {
   "display_name": ".venv",
   "language": "python",
   "name": "python3"
  },
  "language_info": {
   "codemirror_mode": {
    "name": "ipython",
    "version": 3
   },
   "file_extension": ".py",
   "mimetype": "text/x-python",
   "name": "python",
   "nbconvert_exporter": "python",
   "pygments_lexer": "ipython3",
   "version": "3.13.3"
  }
 },
 "nbformat": 4,
 "nbformat_minor": 5
}
