{
 "cells": [
  {
   "cell_type": "code",
   "execution_count": 1,
   "id": "6a009b62",
   "metadata": {},
   "outputs": [],
   "source": [
    "from treble_tsdk.tsdk import TSDK, TSDKCredentials\n",
    "from treble_tsdk import display_data as dd\n",
    "from treble_tsdk import treble\n",
    "import random\n",
    "import json\n",
    "from tqdm import tqdm\n",
    "import glob\n",
    "import math\n",
    "from typing import List, Tuple\n",
    "from collections import defaultdict"
   ]
  },
  {
   "cell_type": "code",
   "execution_count": 24,
   "id": "6eeb1926",
   "metadata": {},
   "outputs": [
    {
     "name": "stderr",
     "output_type": "stream",
     "text": [
      "Loading room data: 100%|██████████| 9/9 [00:00<00:00, 13534.86it/s]\n"
     ]
    },
    {
     "name": "stdout",
     "output_type": "stream",
     "text": [
      "== SDK package is up to date ==\n"
     ]
    }
   ],
   "source": [
    "data_dir = \"data\"\n",
    "\n",
    "rooms_data = []\n",
    "for filename in tqdm(glob.glob(f\"{data_dir}/**/*.json\", recursive=True), desc=\"Loading room data\"):\n",
    "    with open(filename, \"r\") as f:\n",
    "        data = json.load(f)\n",
    "        room_name = filename.split(\"/\")[-2]\n",
    "        data[\"room_name\"] = room_name\n",
    "        rooms_data.append(data)\n",
    "\n",
    "tsdk = TSDK(TSDKCredentials.from_file(\"./creds/tsdk.cred\"))\n"
   ]
  },
  {
   "cell_type": "code",
   "execution_count": 25,
   "id": "e64484c4",
   "metadata": {},
   "outputs": [],
   "source": [
    "project = tsdk.get_or_create_project(\"ertsi_9\")"
   ]
  },
  {
   "cell_type": "code",
   "execution_count": 4,
   "id": "0414bf0f",
   "metadata": {},
   "outputs": [],
   "source": [
    "def sort_points_clockwise(points: List[List[float]]) -> List[List[float]]:\n",
    "    # Compute centroid\n",
    "    centroid_x = sum(x for x, y in points) / len(points)\n",
    "    centroid_y = sum(y for x, y in points) / len(points)\n",
    "    \n",
    "    # Function to compute angle from centroid\n",
    "    def angle_from_centroid(point):\n",
    "        x, y = point\n",
    "        return math.atan2(y - centroid_y, x - centroid_x)\n",
    "    \n",
    "    # Sort points by angle (clockwise)\n",
    "    return sorted(points, key=angle_from_centroid, reverse=True)"
   ]
  },
  {
   "cell_type": "code",
   "execution_count": 26,
   "id": "b3c80eef",
   "metadata": {},
   "outputs": [
    {
     "data": {
      "text/plain": [
       "[GeometryDefinition(geometry_component_count=0.,\n",
       " GeometryDefinition(geometry_component_count=0.,\n",
       " GeometryDefinition(geometry_component_count=0.,\n",
       " GeometryDefinition(geometry_component_count=0.,\n",
       " GeometryDefinition(geometry_component_count=0.,\n",
       " GeometryDefinition(geometry_component_count=0.,\n",
       " GeometryDefinition(geometry_component_count=0.,\n",
       " GeometryDefinition(geometry_component_count=0.,\n",
       " GeometryDefinition(geometry_component_count=0.]"
      ]
     },
     "execution_count": 26,
     "metadata": {},
     "output_type": "execute_result"
    }
   ],
   "source": [
    "room_definitions = []\n",
    "for i, room_data in enumerate(rooms_data):\n",
    "    edge_points_hexagon = sort_points_clockwise(room_data[\"room_verts\"]) if not room_data[\"sorted\"] else room_data[\"room_verts\"]\n",
    "    room_height = 3\n",
    "    room = treble.GeometryDefinitionGenerator.create_polygon_room(\n",
    "        points_xy=edge_points_hexagon, height_z=room_height, join_wall_layers=True\n",
    "    )\n",
    "\n",
    "    room_definitions.append(room)\n",
    "room_definitions"
   ]
  },
  {
   "cell_type": "code",
   "execution_count": 27,
   "id": "2dec96ae",
   "metadata": {},
   "outputs": [
    {
     "name": "stdout",
     "output_type": "stream",
     "text": [
      "=== Populating rooms with geometry components ===\n"
     ]
    },
    {
     "name": "stderr",
     "output_type": "stream",
     "text": [
      "0it [00:00, ?it/s]"
     ]
    },
    {
     "name": "stdout",
     "output_type": "stream",
     "text": [
      "Populating room jojo_3_cirlce with geometry components\n"
     ]
    },
    {
     "name": "stderr",
     "output_type": "stream",
     "text": [
      "1it [00:13, 13.97s/it]"
     ]
    },
    {
     "name": "stdout",
     "output_type": "stream",
     "text": [
      "Populating room jojo_4_unsorted with geometry components\n"
     ]
    },
    {
     "name": "stderr",
     "output_type": "stream",
     "text": [
      "2it [00:16,  7.51s/it]"
     ]
    },
    {
     "name": "stdout",
     "output_type": "stream",
     "text": [
      "Populating room jojo_5_unsorted with geometry components\n"
     ]
    },
    {
     "name": "stderr",
     "output_type": "stream",
     "text": [
      "3it [00:19,  5.17s/it]"
     ]
    },
    {
     "name": "stdout",
     "output_type": "stream",
     "text": [
      "Populating room jojo_9_unsorted with geometry components\n"
     ]
    },
    {
     "name": "stderr",
     "output_type": "stream",
     "text": [
      "4it [00:22,  4.43s/it]"
     ]
    },
    {
     "name": "stdout",
     "output_type": "stream",
     "text": [
      "Populating room jojo_8_unsorted with geometry components\n"
     ]
    },
    {
     "name": "stderr",
     "output_type": "stream",
     "text": [
      "5it [00:29,  5.33s/it]"
     ]
    },
    {
     "name": "stdout",
     "output_type": "stream",
     "text": [
      "Populating room jojo_7_sorted with geometry components\n"
     ]
    },
    {
     "name": "stderr",
     "output_type": "stream",
     "text": [
      "6it [00:33,  4.76s/it]"
     ]
    },
    {
     "name": "stdout",
     "output_type": "stream",
     "text": [
      "Populating room jojo_6_unsorted with geometry components\n"
     ]
    },
    {
     "name": "stderr",
     "output_type": "stream",
     "text": [
      "7it [00:38,  4.95s/it]"
     ]
    },
    {
     "name": "stdout",
     "output_type": "stream",
     "text": [
      "Populating room jojo_2_sorted with geometry components\n"
     ]
    },
    {
     "name": "stderr",
     "output_type": "stream",
     "text": [
      "8it [00:46,  6.01s/it]"
     ]
    },
    {
     "name": "stdout",
     "output_type": "stream",
     "text": [
      "Populating room jojo_1_unsorted with geometry components\n"
     ]
    },
    {
     "name": "stderr",
     "output_type": "stream",
     "text": [
      "9it [00:49,  5.51s/it]\n"
     ]
    }
   ],
   "source": [
    "generated_rooms = []\n",
    "\n",
    "print(\"=== Populating rooms with geometry components ===\")\n",
    "for i, (room_def, room_data) in tqdm(enumerate(zip(room_definitions, rooms_data))):\n",
    "    print(f\"Populating room {room_data[\"room_name\"]} with geometry components\")\n",
    "    room_def.clear_geometry_components()\n",
    "    placements = []\n",
    "\n",
    "    if room_data[\"chair_count\"] > 0:\n",
    "        placements += [\n",
    "            treble.GeometryComponentPlacement(\n",
    "                components=tsdk.geometry_component_library.query(group=\"chair\"),\n",
    "            preferred_count=room_data[\"chair_count\"],\n",
    "            rotation_settings=treble.ComponentAnglePool([0, 90, 180, 270]),\n",
    "            min_dist_from_objects=0.5,\n",
    "            min_dist_from_walls=0.5,\n",
    "            )\n",
    "        ]\n",
    "    if room_data[\"desk_count\"] > 0:\n",
    "        placements += [\n",
    "            treble.GeometryComponentPlacement(\n",
    "               components=tsdk.geometry_component_library.query(group=\"desk\"),\n",
    "            preferred_count=room_data[\"desk_count\"],\n",
    "            rotation_settings=treble.ComponentAnglePool([0, 90, 180, 270]),\n",
    "            min_dist_from_objects=0.5,\n",
    "            min_dist_from_walls=0.5,\n",
    "            )\n",
    "        ]\n",
    "        \n",
    "    room_def.populate_with_geometry_components(\n",
    "        components=placements,\n",
    "        selection_algorithm=treble.ComponentSelectionAlgorithm.random,\n",
    "    )\n",
    "\n",
    "    try:\n",
    "        model = project.add_model(f\"room_{i}\", room_def)\n",
    "        generated_rooms.append(model)\n",
    "    except Exception as e:\n",
    "        print(f\"Error adding model for room {room_data[\"room_name\"]}: {e}\")\n",
    "        continue"
   ]
  },
  {
   "cell_type": "code",
   "execution_count": 40,
   "id": "d1fe77c5",
   "metadata": {},
   "outputs": [
    {
     "data": {
      "text/html": [
       "\n",
       "        <iframe\n",
       "            width=\"100%\"\n",
       "            height=\"700\"\n",
       "            src=\"http://127.0.0.1:55660/\"\n",
       "            frameborder=\"0\"\n",
       "            allowfullscreen\n",
       "            \n",
       "        ></iframe>\n",
       "        "
      ],
      "text/plain": [
       "<IPython.lib.display.IFrame at 0x78e5748503d0>"
      ]
     },
     "metadata": {},
     "output_type": "display_data"
    }
   ],
   "source": [
    "random_model = random.choice(generated_rooms)\n",
    "random_model.plot()"
   ]
  },
  {
   "cell_type": "code",
   "execution_count": 41,
   "id": "a3f80e15",
   "metadata": {},
   "outputs": [
    {
     "data": {
      "text/html": [
       "<pre style=\"white-space:pre;overflow-x:auto;line-height:normal;font-family:Menlo,'DejaVu Sans Mono',consolas,'Courier New',monospace\"><span style=\"font-style: italic\">                                                 Models                                                 </span>\n",
       "┏━━━━━━━┳━━━━━━━━┳━━━━━━━━━━━━━━━━━━━━━━━━━━━━━━━━━━━━━━┳━━━━━━━━━━━━━━━━━━━━━━━━━━━━━━┳━━━━━━━━━━━━━━━┓\n",
       "┃<span style=\"font-weight: bold\"> Index </span>┃<span style=\"font-weight: bold\"> Name   </span>┃<span style=\"font-weight: bold\"> Id                                   </span>┃<span style=\"font-weight: bold\"> Created At                   </span>┃<span style=\"font-weight: bold\"> Is Watertight </span>┃\n",
       "┡━━━━━━━╇━━━━━━━━╇━━━━━━━━━━━━━━━━━━━━━━━━━━━━━━━━━━━━━━╇━━━━━━━━━━━━━━━━━━━━━━━━━━━━━━╇━━━━━━━━━━━━━━━┩\n",
       "│ 0     │ room_0 │ 54d2bc42-a1bf-4875-b517-2e9e6d50c7de │ 2025-05-26 14:30:39          │ True          │\n",
       "│ 1     │ room_1 │ c224d105-d5fe-4149-bd2b-d686c3b90493 │ 2025-05-26 14:30:42          │ True          │\n",
       "│ 2     │ room_2 │ 0d2089af-3797-4fe8-9af5-c260ab3b08f6 │ 2025-05-26T14:30:45.1366293Z │ False         │\n",
       "│ 3     │ room_3 │ bc4c3445-a592-497e-892d-588f5baa8605 │ 2025-05-26 14:30:48          │ True          │\n",
       "│ 4     │ room_4 │ 83281e49-0e0b-4a7d-9043-42d7310ff248 │ 2025-05-26 14:30:55          │ True          │\n",
       "│ 5     │ room_5 │ 9cb38187-ee38-45ef-9ca9-f675fb236994 │ 2025-05-26 14:30:59          │ True          │\n",
       "│ 6     │ room_6 │ ea83b519-454f-4384-8684-d7cb09c8e4ba │ 2025-05-26 14:31:04          │ True          │\n",
       "│ 7     │ room_7 │ 29dde643-59ff-40ca-94bf-c81e3a76c12a │ 2025-05-26 14:31:12          │ True          │\n",
       "│ 8     │ room_8 │ 64fc7026-66d3-49b7-821d-7ab5667c760c │ 2025-05-26 14:31:15          │ True          │\n",
       "└───────┴────────┴──────────────────────────────────────┴──────────────────────────────┴───────────────┘\n",
       "</pre>\n"
      ],
      "text/plain": [
       "\u001b[3m                                                 Models                                                 \u001b[0m\n",
       "┏━━━━━━━┳━━━━━━━━┳━━━━━━━━━━━━━━━━━━━━━━━━━━━━━━━━━━━━━━┳━━━━━━━━━━━━━━━━━━━━━━━━━━━━━━┳━━━━━━━━━━━━━━━┓\n",
       "┃\u001b[1m \u001b[0m\u001b[1mIndex\u001b[0m\u001b[1m \u001b[0m┃\u001b[1m \u001b[0m\u001b[1mName  \u001b[0m\u001b[1m \u001b[0m┃\u001b[1m \u001b[0m\u001b[1mId                                  \u001b[0m\u001b[1m \u001b[0m┃\u001b[1m \u001b[0m\u001b[1mCreated At                  \u001b[0m\u001b[1m \u001b[0m┃\u001b[1m \u001b[0m\u001b[1mIs Watertight\u001b[0m\u001b[1m \u001b[0m┃\n",
       "┡━━━━━━━╇━━━━━━━━╇━━━━━━━━━━━━━━━━━━━━━━━━━━━━━━━━━━━━━━╇━━━━━━━━━━━━━━━━━━━━━━━━━━━━━━╇━━━━━━━━━━━━━━━┩\n",
       "│ 0     │ room_0 │ 54d2bc42-a1bf-4875-b517-2e9e6d50c7de │ 2025-05-26 14:30:39          │ True          │\n",
       "│ 1     │ room_1 │ c224d105-d5fe-4149-bd2b-d686c3b90493 │ 2025-05-26 14:30:42          │ True          │\n",
       "│ 2     │ room_2 │ 0d2089af-3797-4fe8-9af5-c260ab3b08f6 │ 2025-05-26T14:30:45.1366293Z │ False         │\n",
       "│ 3     │ room_3 │ bc4c3445-a592-497e-892d-588f5baa8605 │ 2025-05-26 14:30:48          │ True          │\n",
       "│ 4     │ room_4 │ 83281e49-0e0b-4a7d-9043-42d7310ff248 │ 2025-05-26 14:30:55          │ True          │\n",
       "│ 5     │ room_5 │ 9cb38187-ee38-45ef-9ca9-f675fb236994 │ 2025-05-26 14:30:59          │ True          │\n",
       "│ 6     │ room_6 │ ea83b519-454f-4384-8684-d7cb09c8e4ba │ 2025-05-26 14:31:04          │ True          │\n",
       "│ 7     │ room_7 │ 29dde643-59ff-40ca-94bf-c81e3a76c12a │ 2025-05-26 14:31:12          │ True          │\n",
       "│ 8     │ room_8 │ 64fc7026-66d3-49b7-821d-7ab5667c760c │ 2025-05-26 14:31:15          │ True          │\n",
       "└───────┴────────┴──────────────────────────────────────┴──────────────────────────────┴───────────────┘\n"
      ]
     },
     "metadata": {},
     "output_type": "display_data"
    }
   ],
   "source": [
    "dd.display(generated_rooms)"
   ]
  },
  {
   "cell_type": "code",
   "execution_count": 42,
   "id": "ace80ab5",
   "metadata": {},
   "outputs": [
    {
     "name": "stderr",
     "output_type": "stream",
     "text": [
      "9it [00:00, 111.69it/s]\n"
     ]
    },
    {
     "data": {
      "text/html": [
       "<pre style=\"white-space:pre;overflow-x:auto;line-height:normal;font-family:Menlo,'DejaVu Sans Mono',consolas,'Courier New',monospace\"><span style=\"font-style: italic\">                                                Material assignment                                                </span>\n",
       "┏━━━━━━━━━━━━━━━━━━━━━━┳━━━━━━━━━━━━━━━━━━━━━━━━━━━━━━━━━━━━━━━━━━━━━━━━━━━━━━━━━━━━━━━━━━━━━━━━━━━━━━━━━━━━━━━━━━┓\n",
       "┃<span style=\"font-weight: bold\"> Layer name           </span>┃<span style=\"font-weight: bold\"> Material name                                                                            </span>┃\n",
       "┡━━━━━━━━━━━━━━━━━━━━━━╇━━━━━━━━━━━━━━━━━━━━━━━━━━━━━━━━━━━━━━━━━━━━━━━━━━━━━━━━━━━━━━━━━━━━━━━━━━━━━━━━━━━━━━━━━━┩\n",
       "│ Furniture/Chair A    │ Upholstered concert chairs                                                               │\n",
       "│ polygon_room_ceiling │ Striped panel, 12.0 mm stripes, at 80.0 mm intervals, 40 mm 81 kg/m3 absorber, 30.0 mm   │\n",
       "│                      │ cavity                                                                                   │\n",
       "│ Furniture/Desk       │ Wooden flooring                                                                          │\n",
       "│ Furniture/Chair      │ Heavily upholstered concert chairs                                                       │\n",
       "│ polygon_room_floor   │ Linoleum or vinyl on concrete                                                            │\n",
       "│ polygon_room_walls   │ Gypsum/Plaster on solid backing                                                          │\n",
       "└──────────────────────┴──────────────────────────────────────────────────────────────────────────────────────────┘\n",
       "</pre>\n"
      ],
      "text/plain": [
       "\u001b[3m                                                Material assignment                                                \u001b[0m\n",
       "┏━━━━━━━━━━━━━━━━━━━━━━┳━━━━━━━━━━━━━━━━━━━━━━━━━━━━━━━━━━━━━━━━━━━━━━━━━━━━━━━━━━━━━━━━━━━━━━━━━━━━━━━━━━━━━━━━━━┓\n",
       "┃\u001b[1m \u001b[0m\u001b[1mLayer name          \u001b[0m\u001b[1m \u001b[0m┃\u001b[1m \u001b[0m\u001b[1mMaterial name                                                                           \u001b[0m\u001b[1m \u001b[0m┃\n",
       "┡━━━━━━━━━━━━━━━━━━━━━━╇━━━━━━━━━━━━━━━━━━━━━━━━━━━━━━━━━━━━━━━━━━━━━━━━━━━━━━━━━━━━━━━━━━━━━━━━━━━━━━━━━━━━━━━━━━┩\n",
       "│ Furniture/Chair A    │ Upholstered concert chairs                                                               │\n",
       "│ polygon_room_ceiling │ Striped panel, 12.0 mm stripes, at 80.0 mm intervals, 40 mm 81 kg/m3 absorber, 30.0 mm   │\n",
       "│                      │ cavity                                                                                   │\n",
       "│ Furniture/Desk       │ Wooden flooring                                                                          │\n",
       "│ Furniture/Chair      │ Heavily upholstered concert chairs                                                       │\n",
       "│ polygon_room_floor   │ Linoleum or vinyl on concrete                                                            │\n",
       "│ polygon_room_walls   │ Gypsum/Plaster on solid backing                                                          │\n",
       "└──────────────────────┴──────────────────────────────────────────────────────────────────────────────────────────┘\n"
      ]
     },
     "metadata": {},
     "output_type": "display_data"
    }
   ],
   "source": [
    "all_materials = tsdk.material_library.get()\n",
    "database_materials = [\n",
    "    material for material in all_materials if material[\"organizationId\"] == None\n",
    "]\n",
    "\n",
    "all_material_assignments = []\n",
    "for i, (model, room_data) in tqdm(enumerate(zip(generated_rooms, rooms_data))):\n",
    "    layers = {\n",
    "        \"polygon_room_walls\": \"gypsum/plaster on solid backing\",\n",
    "        \"polygon_room_floor\": room_data[\"floor_material\"],\n",
    "        \"polygon_room_ceiling\": room_data[\"ceiling_material\"],\n",
    "        \"Furniture/Desk\": \"wood\",\n",
    "        \"Furniture/Chair\": \"upholstered concert chairs\",\n",
    "        \"Furniture/Chair A\": \"upholstered concert chairs\",\n",
    "        \"Furniture/Bar Stool\": \"upholstered concert chairs\",\n",
    "    }\n",
    "    material_assignment = []\n",
    "\n",
    "    for layer in model.layer_names:\n",
    "        if layer in layers:\n",
    "            search_string = layers[layer]\n",
    "            matches = [\n",
    "                m for m in database_materials if search_string.lower() in m.name.lower()\n",
    "            ]\n",
    "            if matches:\n",
    "                material_assignment.append(\n",
    "                    treble.MaterialAssignment(layer, random.choice(matches))\n",
    "                )\n",
    "    all_material_assignments.append(material_assignment)\n",
    "\n",
    "dd.display(all_material_assignments[-1])"
   ]
  },
  {
   "cell_type": "code",
   "execution_count": 43,
   "id": "ff5d3f79",
   "metadata": {},
   "outputs": [
    {
     "name": "stderr",
     "output_type": "stream",
     "text": [
      "100%|██████████| 9/9 [00:08<00:00,  1.10it/s]\n"
     ]
    }
   ],
   "source": [
    "all_sources = []\n",
    "all_source_positions = []\n",
    "all_receivers = []\n",
    "all_receiver_positions = []\n",
    "\n",
    "pg = treble.PointsGenerator()\n",
    "\n",
    "pos_ruleset = treble.PointRuleset(\n",
    "    min_dist_from_surface=0.5,\n",
    "    min_dist_from_other_points=2,\n",
    ")\n",
    "\n",
    "for room in tqdm(generated_rooms):\n",
    "    pos = pg.generate_valid_points(\n",
    "        model=room,\n",
    "        max_count=2,\t\n",
    "        ruleset=pos_ruleset,\n",
    "        z_range=(0.5, 1.5)\n",
    "    )\n",
    "    all_source_positions.append(pos[0])\n",
    "    all_receiver_positions.append(pos[1])\n",
    "\n",
    "    source = treble.Source.make_omni(\n",
    "        position=pos[0],\n",
    "        label=f\"source_{room.name}\",\n",
    "    )\n",
    "    receiver = treble.Receiver.make_mono(\n",
    "        position=pos[1],\n",
    "        label=f\"receiver_{room.name}\",\n",
    "    )\n",
    "    all_sources.append(source)\n",
    "    all_receivers.append(receiver)\n"
   ]
  },
  {
   "cell_type": "code",
   "execution_count": 44,
   "id": "758072df",
   "metadata": {},
   "outputs": [
    {
     "name": "stderr",
     "output_type": "stream",
     "text": [
      "9it [00:00, 42414.31it/s]\n"
     ]
    }
   ],
   "source": [
    "sim_type = treble.SimulationType.hybrid\n",
    "crossover_frequency = 500\n",
    "\n",
    "sim_defs = []\n",
    "\n",
    "for i, (room, room_data) in tqdm(enumerate(zip(generated_rooms, rooms_data))):\n",
    "    sim_def = treble.SimulationDefinition(\n",
    "        name=f\"simulation_{i}_1\",  # unique name of the simulation\n",
    "        simulation_type=sim_type,  # the type of simulation\n",
    "        crossover_frequency=crossover_frequency,  # the frequency at which the simulation switches from wavebased to image source\n",
    "        model=room,\n",
    "        energy_decay_threshold=60,  # simulation termination criteria - the simulation stops running after -60 dB of energy decay\n",
    "        receiver_list=[all_receivers[i]],\n",
    "        source_list=[all_sources[i]],\n",
    "        material_assignment=all_material_assignments[i],\n",
    "    )\n",
    "    sim_defs.append(sim_def)\n",
    "\n",
    "sim_defs = project.add_simulations(sim_defs)"
   ]
  },
  {
   "cell_type": "code",
   "execution_count": 45,
   "id": "84b6ffbd",
   "metadata": {},
   "outputs": [
    {
     "data": {
      "text/html": [
       "<pre style=\"white-space:pre;overflow-x:auto;line-height:normal;font-family:Menlo,'DejaVu Sans Mono',consolas,'Courier New',monospace\"><span style=\"font-style: italic\">                                                      Simulations                                                      </span>\n",
       "┏━━━━━━━┳━━━━━━━━━━━━━━━━┳━━━━━━━━━━━━━━━━━━┳━━━━━━━━━━━━━━━━━━━━━━━━━━━━━━━━━━━━━━┳━━━━━━━━━┳━━━━━━━━━━━━┳━━━━━┳━━━━━┓\n",
       "┃<span style=\"font-weight: bold\"> Index </span>┃<span style=\"font-weight: bold\"> Name           </span>┃<span style=\"font-weight: bold\"> Created at       </span>┃<span style=\"font-weight: bold\"> Id                                   </span>┃<span style=\"font-weight: bold\"> Status  </span>┃<span style=\"font-weight: bold\"> Freq. (Hz) </span>┃<span style=\"font-weight: bold\"> Rcv </span>┃<span style=\"font-weight: bold\"> Src </span>┃\n",
       "┡━━━━━━━╇━━━━━━━━━━━━━━━━╇━━━━━━━━━━━━━━━━━━╇━━━━━━━━━━━━━━━━━━━━━━━━━━━━━━━━━━━━━━╇━━━━━━━━━╇━━━━━━━━━━━━╇━━━━━╇━━━━━┩\n",
       "│ 0     │ simulation_0_1 │ 2025-05-26 14:32 │ c6aa07a0-5c44-41ba-85d6-e65219783e52 │ Created │ 500        │ 1   │ 1   │\n",
       "│ 1     │ simulation_1_1 │ 2025-05-26 14:32 │ 7e010840-e5c5-467e-866f-3aa269423857 │ Created │ 500        │ 1   │ 1   │\n",
       "│ 2     │ simulation_4_1 │ 2025-05-26 14:32 │ 177bd030-a0b6-43c5-90e0-db8db314f374 │ Created │ 500        │ 1   │ 1   │\n",
       "│ 3     │ simulation_5_1 │ 2025-05-26 14:32 │ 43fc43a3-83b3-48f3-8f40-df846f48a3e7 │ Created │ 500        │ 1   │ 1   │\n",
       "│ 4     │ simulation_6_1 │ 2025-05-26 14:32 │ dfc163f5-eb43-4963-b987-cdd41113e791 │ Created │ 500        │ 1   │ 1   │\n",
       "│ 5     │ simulation_3_1 │ 2025-05-26 14:32 │ eb508da1-b21c-4529-91f3-f46605f189b8 │ Created │ 500        │ 1   │ 1   │\n",
       "│ 6     │ simulation_2_1 │ 2025-05-26 14:32 │ f81dba61-8ccc-4ff4-80a5-8ac3ec81b669 │ Created │ 500        │ 1   │ 1   │\n",
       "│ 7     │ simulation_7_1 │ 2025-05-26 14:32 │ 72442d5f-1861-4bb4-bc3a-398a62501b13 │ Created │ 500        │ 1   │ 1   │\n",
       "│ 8     │ simulation_8_1 │ 2025-05-26 14:32 │ b3aff7ab-306b-4038-a691-68765f207bb3 │ Created │ 500        │ 1   │ 1   │\n",
       "└───────┴────────────────┴──────────────────┴──────────────────────────────────────┴─────────┴────────────┴─────┴─────┘\n",
       "</pre>\n"
      ],
      "text/plain": [
       "\u001b[3m                                                      Simulations                                                      \u001b[0m\n",
       "┏━━━━━━━┳━━━━━━━━━━━━━━━━┳━━━━━━━━━━━━━━━━━━┳━━━━━━━━━━━━━━━━━━━━━━━━━━━━━━━━━━━━━━┳━━━━━━━━━┳━━━━━━━━━━━━┳━━━━━┳━━━━━┓\n",
       "┃\u001b[1m \u001b[0m\u001b[1mIndex\u001b[0m\u001b[1m \u001b[0m┃\u001b[1m \u001b[0m\u001b[1mName          \u001b[0m\u001b[1m \u001b[0m┃\u001b[1m \u001b[0m\u001b[1mCreated at      \u001b[0m\u001b[1m \u001b[0m┃\u001b[1m \u001b[0m\u001b[1mId                                  \u001b[0m\u001b[1m \u001b[0m┃\u001b[1m \u001b[0m\u001b[1mStatus \u001b[0m\u001b[1m \u001b[0m┃\u001b[1m \u001b[0m\u001b[1mFreq. (Hz)\u001b[0m\u001b[1m \u001b[0m┃\u001b[1m \u001b[0m\u001b[1mRcv\u001b[0m\u001b[1m \u001b[0m┃\u001b[1m \u001b[0m\u001b[1mSrc\u001b[0m\u001b[1m \u001b[0m┃\n",
       "┡━━━━━━━╇━━━━━━━━━━━━━━━━╇━━━━━━━━━━━━━━━━━━╇━━━━━━━━━━━━━━━━━━━━━━━━━━━━━━━━━━━━━━╇━━━━━━━━━╇━━━━━━━━━━━━╇━━━━━╇━━━━━┩\n",
       "│ 0     │ simulation_0_1 │ 2025-05-26 14:32 │ c6aa07a0-5c44-41ba-85d6-e65219783e52 │ Created │ 500        │ 1   │ 1   │\n",
       "│ 1     │ simulation_1_1 │ 2025-05-26 14:32 │ 7e010840-e5c5-467e-866f-3aa269423857 │ Created │ 500        │ 1   │ 1   │\n",
       "│ 2     │ simulation_4_1 │ 2025-05-26 14:32 │ 177bd030-a0b6-43c5-90e0-db8db314f374 │ Created │ 500        │ 1   │ 1   │\n",
       "│ 3     │ simulation_5_1 │ 2025-05-26 14:32 │ 43fc43a3-83b3-48f3-8f40-df846f48a3e7 │ Created │ 500        │ 1   │ 1   │\n",
       "│ 4     │ simulation_6_1 │ 2025-05-26 14:32 │ dfc163f5-eb43-4963-b987-cdd41113e791 │ Created │ 500        │ 1   │ 1   │\n",
       "│ 5     │ simulation_3_1 │ 2025-05-26 14:32 │ eb508da1-b21c-4529-91f3-f46605f189b8 │ Created │ 500        │ 1   │ 1   │\n",
       "│ 6     │ simulation_2_1 │ 2025-05-26 14:32 │ f81dba61-8ccc-4ff4-80a5-8ac3ec81b669 │ Created │ 500        │ 1   │ 1   │\n",
       "│ 7     │ simulation_7_1 │ 2025-05-26 14:32 │ 72442d5f-1861-4bb4-bc3a-398a62501b13 │ Created │ 500        │ 1   │ 1   │\n",
       "│ 8     │ simulation_8_1 │ 2025-05-26 14:32 │ b3aff7ab-306b-4038-a691-68765f207bb3 │ Created │ 500        │ 1   │ 1   │\n",
       "└───────┴────────────────┴──────────────────┴──────────────────────────────────────┴─────────┴────────────┴─────┴─────┘\n"
      ]
     },
     "metadata": {},
     "output_type": "display_data"
    }
   ],
   "source": [
    "all_sims = project.get_simulations()\n",
    "dd.display(all_sims)"
   ]
  },
  {
   "cell_type": "code",
   "execution_count": 52,
   "id": "f7a75242",
   "metadata": {},
   "outputs": [
    {
     "data": {
      "text/html": [
       "\n",
       "        <iframe\n",
       "            width=\"100%\"\n",
       "            height=\"700\"\n",
       "            src=\"http://127.0.0.1:55660/\"\n",
       "            frameborder=\"0\"\n",
       "            allowfullscreen\n",
       "            \n",
       "        ></iframe>\n",
       "        "
      ],
      "text/plain": [
       "<IPython.lib.display.IFrame at 0x78e57498c2d0>"
      ]
     },
     "metadata": {},
     "output_type": "display_data"
    }
   ],
   "source": [
    "random_sim = random.choice(all_sims)\n",
    "random_sim.plot()"
   ]
  },
  {
   "cell_type": "code",
   "execution_count": 53,
   "id": "9958b0bb",
   "metadata": {},
   "outputs": [
    {
     "data": {
      "text/html": [
       "<pre style=\"white-space:pre;overflow-x:auto;line-height:normal;font-family:Menlo,'DejaVu Sans Mono',consolas,'Courier New',monospace\"><span style=\"font-style: italic\">                               Project 98e330e5-6acf-4e9f-a56a-bf22452916db estimate                               </span>\n",
       "┏━━━━━━━━━━━━━━━━━━━━━━━━━━━━━━━━━━━━━━━━━━━━━━━━━━━━━━━┳━━━━━━━━━━━━━━━━━━┳━━━━━━━━━━━━━━━━━━━┳━━━━━━━━━━━━━━━━━━┓\n",
       "┃<span style=\"font-weight: bold\">                                                       </span>┃<span style=\"font-weight: bold\">       Simulation </span>┃<span style=\"font-weight: bold\"> Estimated runtime </span>┃<span style=\"font-weight: bold\">   Estimated cost </span>┃\n",
       "┃<span style=\"font-weight: bold\">                                            Simulation </span>┃<span style=\"font-weight: bold\">           status </span>┃<span style=\"font-weight: bold\">           (hours) </span>┃<span style=\"font-weight: bold\">         (tokens) </span>┃\n",
       "┡━━━━━━━━━━━━━━━━━━━━━━━━━━━━━━━━━━━━━━━━━━━━━━━━━━━━━━━╇━━━━━━━━━━━━━━━━━━╇━━━━━━━━━━━━━━━━━━━╇━━━━━━━━━━━━━━━━━━┩\n",
       "│ simulation_0_1 (c6aa07a0-5c44-41ba-85d6-e65219783e52) │          Created │<span style=\"color: #800080; text-decoration-color: #800080\">             0.863 </span>│<span style=\"color: #008000; text-decoration-color: #008000\">            0.884 </span>│\n",
       "│ simulation_1_1 (7e010840-e5c5-467e-866f-3aa269423857) │          Created │<span style=\"color: #800080; text-decoration-color: #800080\">             0.085 </span>│<span style=\"color: #008000; text-decoration-color: #008000\">            0.108 </span>│\n",
       "│ simulation_4_1 (177bd030-a0b6-43c5-90e0-db8db314f374) │          Created │<span style=\"color: #800080; text-decoration-color: #800080\">             1.536 </span>│<span style=\"color: #008000; text-decoration-color: #008000\">            1.607 </span>│\n",
       "│ simulation_5_1 (43fc43a3-83b3-48f3-8f40-df846f48a3e7) │          Created │<span style=\"color: #800080; text-decoration-color: #800080\">             0.222 </span>│<span style=\"color: #008000; text-decoration-color: #008000\">            0.263 </span>│\n",
       "│ simulation_6_1 (dfc163f5-eb43-4963-b987-cdd41113e791) │          Created │<span style=\"color: #800080; text-decoration-color: #800080\">             0.653 </span>│<span style=\"color: #008000; text-decoration-color: #008000\">            0.698 </span>│\n",
       "│ simulation_3_1 (eb508da1-b21c-4529-91f3-f46605f189b8) │          Created │<span style=\"color: #800080; text-decoration-color: #800080\">             0.154 </span>│<span style=\"color: #008000; text-decoration-color: #008000\">            0.188 </span>│\n",
       "│ simulation_2_1 (f81dba61-8ccc-4ff4-80a5-8ac3ec81b669) │          Created │<span style=\"color: #800080; text-decoration-color: #800080\">             0.084 </span>│<span style=\"color: #008000; text-decoration-color: #008000\">            0.105 </span>│\n",
       "│ simulation_7_1 (72442d5f-1861-4bb4-bc3a-398a62501b13) │          Created │<span style=\"color: #800080; text-decoration-color: #800080\">             0.296 </span>│<span style=\"color: #008000; text-decoration-color: #008000\">            0.312 </span>│\n",
       "│ simulation_8_1 (b3aff7ab-306b-4038-a691-68765f207bb3) │          Created │<span style=\"color: #800080; text-decoration-color: #800080\">              0.11 </span>│<span style=\"color: #008000; text-decoration-color: #008000\">            0.137 </span>│\n",
       "├───────────────────────────────────────────────────────┼──────────────────┼───────────────────┼──────────────────┤\n",
       "│<span style=\"font-weight: bold\">                                                 Total </span>│<span style=\"font-weight: bold\">                  </span>│<span style=\"font-weight: bold\">             </span><span style=\"color: #800080; text-decoration-color: #800080; font-weight: bold\">1.536</span><span style=\"font-weight: bold\"> </span>│<span style=\"font-weight: bold\">            </span><span style=\"color: #008000; text-decoration-color: #008000; font-weight: bold\">4.302</span><span style=\"font-weight: bold\"> </span>│\n",
       "└───────────────────────────────────────────────────────┴──────────────────┴───────────────────┴──────────────────┘\n",
       "</pre>\n"
      ],
      "text/plain": [
       "\u001b[3m                               Project 98e330e5-6acf-4e9f-a56a-bf22452916db estimate                               \u001b[0m\n",
       "┏━━━━━━━━━━━━━━━━━━━━━━━━━━━━━━━━━━━━━━━━━━━━━━━━━━━━━━━┳━━━━━━━━━━━━━━━━━━┳━━━━━━━━━━━━━━━━━━━┳━━━━━━━━━━━━━━━━━━┓\n",
       "┃\u001b[1m                                                       \u001b[0m┃\u001b[1m \u001b[0m\u001b[1m      Simulation\u001b[0m\u001b[1m \u001b[0m┃\u001b[1m \u001b[0m\u001b[1mEstimated runtime\u001b[0m\u001b[1m \u001b[0m┃\u001b[1m \u001b[0m\u001b[1m  Estimated cost\u001b[0m\u001b[1m \u001b[0m┃\n",
       "┃\u001b[1m \u001b[0m\u001b[1m                                           Simulation\u001b[0m\u001b[1m \u001b[0m┃\u001b[1m \u001b[0m\u001b[1m          status\u001b[0m\u001b[1m \u001b[0m┃\u001b[1m \u001b[0m\u001b[1m          (hours)\u001b[0m\u001b[1m \u001b[0m┃\u001b[1m \u001b[0m\u001b[1m        (tokens)\u001b[0m\u001b[1m \u001b[0m┃\n",
       "┡━━━━━━━━━━━━━━━━━━━━━━━━━━━━━━━━━━━━━━━━━━━━━━━━━━━━━━━╇━━━━━━━━━━━━━━━━━━╇━━━━━━━━━━━━━━━━━━━╇━━━━━━━━━━━━━━━━━━┩\n",
       "│ simulation_0_1 (c6aa07a0-5c44-41ba-85d6-e65219783e52) │          Created │\u001b[35m \u001b[0m\u001b[35m            0.863\u001b[0m\u001b[35m \u001b[0m│\u001b[32m \u001b[0m\u001b[32m           0.884\u001b[0m\u001b[32m \u001b[0m│\n",
       "│ simulation_1_1 (7e010840-e5c5-467e-866f-3aa269423857) │          Created │\u001b[35m \u001b[0m\u001b[35m            0.085\u001b[0m\u001b[35m \u001b[0m│\u001b[32m \u001b[0m\u001b[32m           0.108\u001b[0m\u001b[32m \u001b[0m│\n",
       "│ simulation_4_1 (177bd030-a0b6-43c5-90e0-db8db314f374) │          Created │\u001b[35m \u001b[0m\u001b[35m            1.536\u001b[0m\u001b[35m \u001b[0m│\u001b[32m \u001b[0m\u001b[32m           1.607\u001b[0m\u001b[32m \u001b[0m│\n",
       "│ simulation_5_1 (43fc43a3-83b3-48f3-8f40-df846f48a3e7) │          Created │\u001b[35m \u001b[0m\u001b[35m            0.222\u001b[0m\u001b[35m \u001b[0m│\u001b[32m \u001b[0m\u001b[32m           0.263\u001b[0m\u001b[32m \u001b[0m│\n",
       "│ simulation_6_1 (dfc163f5-eb43-4963-b987-cdd41113e791) │          Created │\u001b[35m \u001b[0m\u001b[35m            0.653\u001b[0m\u001b[35m \u001b[0m│\u001b[32m \u001b[0m\u001b[32m           0.698\u001b[0m\u001b[32m \u001b[0m│\n",
       "│ simulation_3_1 (eb508da1-b21c-4529-91f3-f46605f189b8) │          Created │\u001b[35m \u001b[0m\u001b[35m            0.154\u001b[0m\u001b[35m \u001b[0m│\u001b[32m \u001b[0m\u001b[32m           0.188\u001b[0m\u001b[32m \u001b[0m│\n",
       "│ simulation_2_1 (f81dba61-8ccc-4ff4-80a5-8ac3ec81b669) │          Created │\u001b[35m \u001b[0m\u001b[35m            0.084\u001b[0m\u001b[35m \u001b[0m│\u001b[32m \u001b[0m\u001b[32m           0.105\u001b[0m\u001b[32m \u001b[0m│\n",
       "│ simulation_7_1 (72442d5f-1861-4bb4-bc3a-398a62501b13) │          Created │\u001b[35m \u001b[0m\u001b[35m            0.296\u001b[0m\u001b[35m \u001b[0m│\u001b[32m \u001b[0m\u001b[32m           0.312\u001b[0m\u001b[32m \u001b[0m│\n",
       "│ simulation_8_1 (b3aff7ab-306b-4038-a691-68765f207bb3) │          Created │\u001b[35m \u001b[0m\u001b[35m             0.11\u001b[0m\u001b[35m \u001b[0m│\u001b[32m \u001b[0m\u001b[32m           0.137\u001b[0m\u001b[32m \u001b[0m│\n",
       "├───────────────────────────────────────────────────────┼──────────────────┼───────────────────┼──────────────────┤\n",
       "│\u001b[1m \u001b[0m\u001b[1m                                                \u001b[0m\u001b[1mTotal\u001b[0m\u001b[1m \u001b[0m│\u001b[1m \u001b[0m\u001b[1m                \u001b[0m\u001b[1m \u001b[0m│\u001b[1m \u001b[0m\u001b[1m            \u001b[0m\u001b[1;35m1.536\u001b[0m\u001b[1m \u001b[0m│\u001b[1m \u001b[0m\u001b[1m           \u001b[0m\u001b[1;32m4.302\u001b[0m\u001b[1m \u001b[0m│\n",
       "└───────────────────────────────────────────────────────┴──────────────────┴───────────────────┴──────────────────┘\n"
      ]
     },
     "metadata": {},
     "output_type": "display_data"
    }
   ],
   "source": [
    "runtime_estimate = project.estimate()\n",
    "dd.display(runtime_estimate)\n"
   ]
  },
  {
   "cell_type": "code",
   "execution_count": 54,
   "id": "1fdb41e2",
   "metadata": {},
   "outputs": [
    {
     "data": {
      "text/html": [
       "<pre style=\"white-space:pre;overflow-x:auto;line-height:normal;font-family:Menlo,'DejaVu Sans Mono',consolas,'Courier New',monospace\"><span style=\"font-style: italic\">                                          ertsi_9                                           </span>\n",
       "┏━━━━━━━━━━━━━━━━━┳━━━━━━━━━━━━━━━━━━━━━━━━━━━━━━━━━━━━━━┳━━━━━━━━━━━━━━━━━━━━┳━━━━━━━━━━━━┓\n",
       "┃<span style=\"font-weight: bold\"> Simulation Name </span>┃<span style=\"font-weight: bold\"> Id                                   </span>┃<span style=\"font-weight: bold\"> Status             </span>┃<span style=\"font-weight: bold\"> Progress % </span>┃\n",
       "┡━━━━━━━━━━━━━━━━━╇━━━━━━━━━━━━━━━━━━━━━━━━━━━━━━━━━━━━━━╇━━━━━━━━━━━━━━━━━━━━╇━━━━━━━━━━━━┩\n",
       "│ simulation_4_1  │ 177bd030-a0b6-43c5-90e0-db8db314f374 │ <span style=\"color: #008000; text-decoration-color: #008000\">Completed</span>          │ 100%       │\n",
       "│ simulation_5_1  │ 43fc43a3-83b3-48f3-8f40-df846f48a3e7 │ <span style=\"color: #008000; text-decoration-color: #008000\">Completed</span>          │ 100%       │\n",
       "│ simulation_7_1  │ 72442d5f-1861-4bb4-bc3a-398a62501b13 │ <span style=\"color: #008000; text-decoration-color: #008000\">Completed</span>          │ 100%       │\n",
       "│ simulation_1_1  │ 7e010840-e5c5-467e-866f-3aa269423857 │ <span style=\"color: #008000; text-decoration-color: #008000\">Completed</span>          │ 100%       │\n",
       "│ simulation_8_1  │ b3aff7ab-306b-4038-a691-68765f207bb3 │ <span style=\"color: #008000; text-decoration-color: #008000\">Completed</span>          │ 100%       │\n",
       "│ simulation_0_1  │ c6aa07a0-5c44-41ba-85d6-e65219783e52 │ <span style=\"color: #008000; text-decoration-color: #008000\">Completed</span>          │ 100%       │\n",
       "│ simulation_6_1  │ dfc163f5-eb43-4963-b987-cdd41113e791 │ InsufficientTokens │ 0%         │\n",
       "│ simulation_3_1  │ eb508da1-b21c-4529-91f3-f46605f189b8 │ InsufficientTokens │ 0%         │\n",
       "│ simulation_2_1  │ f81dba61-8ccc-4ff4-80a5-8ac3ec81b669 │ InsufficientTokens │ 0%         │\n",
       "├─────────────────┼──────────────────────────────────────┼────────────────────┼────────────┤\n",
       "│<span style=\"font-weight: bold\">                 </span>│<span style=\"font-weight: bold\">                                      </span>│<span style=\"font-weight: bold\"> Created            </span>│<span style=\"font-weight: bold\"> 66.67%     </span>│\n",
       "└─────────────────┴──────────────────────────────────────┴────────────────────┴────────────┘\n",
       "</pre>\n"
      ],
      "text/plain": [
       "\u001b[3m                                          ertsi_9                                           \u001b[0m\n",
       "┏━━━━━━━━━━━━━━━━━┳━━━━━━━━━━━━━━━━━━━━━━━━━━━━━━━━━━━━━━┳━━━━━━━━━━━━━━━━━━━━┳━━━━━━━━━━━━┓\n",
       "┃\u001b[1m \u001b[0m\u001b[1mSimulation Name\u001b[0m\u001b[1m \u001b[0m┃\u001b[1m \u001b[0m\u001b[1mId                                  \u001b[0m\u001b[1m \u001b[0m┃\u001b[1m \u001b[0m\u001b[1mStatus            \u001b[0m\u001b[1m \u001b[0m┃\u001b[1m \u001b[0m\u001b[1mProgress %\u001b[0m\u001b[1m \u001b[0m┃\n",
       "┡━━━━━━━━━━━━━━━━━╇━━━━━━━━━━━━━━━━━━━━━━━━━━━━━━━━━━━━━━╇━━━━━━━━━━━━━━━━━━━━╇━━━━━━━━━━━━┩\n",
       "│ simulation_4_1  │ 177bd030-a0b6-43c5-90e0-db8db314f374 │ \u001b[32mCompleted\u001b[0m          │ 100%       │\n",
       "│ simulation_5_1  │ 43fc43a3-83b3-48f3-8f40-df846f48a3e7 │ \u001b[32mCompleted\u001b[0m          │ 100%       │\n",
       "│ simulation_7_1  │ 72442d5f-1861-4bb4-bc3a-398a62501b13 │ \u001b[32mCompleted\u001b[0m          │ 100%       │\n",
       "│ simulation_1_1  │ 7e010840-e5c5-467e-866f-3aa269423857 │ \u001b[32mCompleted\u001b[0m          │ 100%       │\n",
       "│ simulation_8_1  │ b3aff7ab-306b-4038-a691-68765f207bb3 │ \u001b[32mCompleted\u001b[0m          │ 100%       │\n",
       "│ simulation_0_1  │ c6aa07a0-5c44-41ba-85d6-e65219783e52 │ \u001b[32mCompleted\u001b[0m          │ 100%       │\n",
       "│ simulation_6_1  │ dfc163f5-eb43-4963-b987-cdd41113e791 │ InsufficientTokens │ 0%         │\n",
       "│ simulation_3_1  │ eb508da1-b21c-4529-91f3-f46605f189b8 │ InsufficientTokens │ 0%         │\n",
       "│ simulation_2_1  │ f81dba61-8ccc-4ff4-80a5-8ac3ec81b669 │ InsufficientTokens │ 0%         │\n",
       "├─────────────────┼──────────────────────────────────────┼────────────────────┼────────────┤\n",
       "│\u001b[1m \u001b[0m\u001b[1m               \u001b[0m\u001b[1m \u001b[0m│\u001b[1m \u001b[0m\u001b[1m                                    \u001b[0m\u001b[1m \u001b[0m│\u001b[1m \u001b[0m\u001b[1mCreated           \u001b[0m\u001b[1m \u001b[0m│\u001b[1m \u001b[0m\u001b[1m66.67%    \u001b[0m\u001b[1m \u001b[0m│\n",
       "└─────────────────┴──────────────────────────────────────┴────────────────────┴────────────┘\n"
      ]
     },
     "metadata": {},
     "output_type": "display_data"
    },
    {
     "data": {
      "text/html": [
       "<pre style=\"white-space:pre;overflow-x:auto;line-height:normal;font-family:Menlo,'DejaVu Sans Mono',consolas,'Courier New',monospace\">Interrupted\n",
       "</pre>\n"
      ],
      "text/plain": [
       "Interrupted\n"
      ]
     },
     "metadata": {},
     "output_type": "display_data"
    }
   ],
   "source": [
    "project.start_simulations()\n",
    "project.as_live_progress()"
   ]
  },
  {
   "cell_type": "code",
   "execution_count": 55,
   "id": "b0083bc0",
   "metadata": {},
   "outputs": [
    {
     "name": "stderr",
     "output_type": "stream",
     "text": [
      "/home/leo/projects/repos/ertsi/generation/.venv/lib/python3.13/site-packages/tqdm/auto.py:21: TqdmWarning:\n",
      "\n",
      "IProgress not found. Please update jupyter and ipywidgets. See https://ipywidgets.readthedocs.io/en/stable/user_install.html\n",
      "\n",
      "Download simulation c6aa07a0-5c44-41ba-85d6-e65219783e52:   0%|          | 0/2 tasks\n",
      "\u001b[A\n",
      "Download simulation c6aa07a0-5c44-41ba-85d6-e65219783e52: 100%|██████████| 2/2 tasks\n",
      "Download simulation 7e010840-e5c5-467e-866f-3aa269423857: 100%|██████████| 2/2 tasks\n",
      "Download simulation 177bd030-a0b6-43c5-90e0-db8db314f374: 100%|██████████| 2/2 tasks\n",
      "Download simulation 43fc43a3-83b3-48f3-8f40-df846f48a3e7: 100%|██████████| 2/2 tasks\n",
      "Download simulation 72442d5f-1861-4bb4-bc3a-398a62501b13: 100%|██████████| 2/2 tasks\n",
      "Download simulation b3aff7ab-306b-4038-a691-68765f207bb3: 100%|██████████| 2/2 tasks\n"
     ]
    }
   ],
   "source": [
    "for sim, room in zip(all_sims, rooms_data):\n",
    "    room_name = room[\"room_name\"]\n",
    "    \n",
    "    try:\n",
    "        r = sim.download_results(f'data/{room_name}')\n",
    "    except ValueError as e:\n",
    "        print(f\"Room {room_name} already exists, skipping download.\")\n",
    "        r = None"
   ]
  },
  {
   "cell_type": "code",
   "execution_count": 59,
   "id": "4bc5038d",
   "metadata": {},
   "outputs": [
    {
     "name": "stderr",
     "output_type": "stream",
     "text": [
      "Simulation not completed\n"
     ]
    },
    {
     "name": "stdout",
     "output_type": "stream",
     "text": [
      "No results found for room jojo_8_unsorted\n"
     ]
    },
    {
     "name": "stderr",
     "output_type": "stream",
     "text": [
      "Simulation not completed\n",
      "Simulation not completed\n"
     ]
    },
    {
     "name": "stdout",
     "output_type": "stream",
     "text": [
      "No results found for room jojo_7_sorted\n",
      "No results found for room jojo_6_unsorted\n"
     ]
    }
   ],
   "source": [
    "for simulation, room in zip(all_sims, rooms_data):\n",
    "    try:\n",
    "        results = simulation.get_results_object(f'data/{room[\"room_name\"]}')\n",
    "        if not results:\n",
    "            print(f\"No results found for room {room['room_name']}\")\n",
    "            continue\n",
    "        mono_ir = results.get_mono_ir(source=simulation.sources[0], receiver=simulation.receivers[0])\n",
    "        mono_ir.write_to_wav(path_to_file=f\"data/{room['room_name']}/ir.wav\")\n",
    "    except KeyError as e:\n",
    "        print(f\"Results not found for room {room['room_name']}: {e}\")\n"
   ]
  }
 ],
 "metadata": {
  "kernelspec": {
   "display_name": ".venv",
   "language": "python",
   "name": "python3"
  },
  "language_info": {
   "codemirror_mode": {
    "name": "ipython",
    "version": 3
   },
   "file_extension": ".py",
   "mimetype": "text/x-python",
   "name": "python",
   "nbconvert_exporter": "python",
   "pygments_lexer": "ipython3",
   "version": "3.13.3"
  }
 },
 "nbformat": 4,
 "nbformat_minor": 5
}
