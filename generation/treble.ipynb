{
 "cells": [
  {
   "cell_type": "code",
   "execution_count": 1,
   "id": "6a009b62",
   "metadata": {},
   "outputs": [],
   "source": [
    "from treble_tsdk.tsdk import TSDK, TSDKCredentials\n",
    "from treble_tsdk import display_data as dd\n",
    "from treble_tsdk import treble\n",
    "import random\n",
    "import json"
   ]
  },
  {
   "cell_type": "code",
   "execution_count": 2,
   "id": "6eeb1926",
   "metadata": {},
   "outputs": [
    {
     "name": "stdout",
     "output_type": "stream",
     "text": [
      "== SDK package is up to date ==\n"
     ]
    },
    {
     "data": {
      "text/html": [
       "<pre style=\"white-space:pre;overflow-x:auto;line-height:normal;font-family:Menlo,'DejaVu Sans Mono',consolas,'Courier New',monospace\"><span style=\"font-style: italic\">                                        Projects                                         </span>\n",
       "┏━━━━━━━┳━━━━━━━┳━━━━━━━━━━━━━━━━━━━━━━━━━━━━━━━━━━━━━━┳━━━━━━━━━━━━━━━━━━┳━━━━━━━━━━━━━┓\n",
       "┃<span style=\"font-weight: bold\"> Index </span>┃<span style=\"font-weight: bold\"> Name  </span>┃<span style=\"font-weight: bold\"> Id                                   </span>┃<span style=\"font-weight: bold\"> Created at       </span>┃<span style=\"font-weight: bold\"> Description </span>┃\n",
       "┡━━━━━━━╇━━━━━━━╇━━━━━━━━━━━━━━━━━━━━━━━━━━━━━━━━━━━━━━╇━━━━━━━━━━━━━━━━━━╇━━━━━━━━━━━━━┩\n",
       "│ 0     │ ertsi │ bc91d45c-e9f6-410f-ba72-d0fbfffcb844 │ 2025-05-11 17:38 │             │\n",
       "└───────┴───────┴──────────────────────────────────────┴──────────────────┴─────────────┘\n",
       "</pre>\n"
      ],
      "text/plain": [
       "\u001b[3m                                        Projects                                         \u001b[0m\n",
       "┏━━━━━━━┳━━━━━━━┳━━━━━━━━━━━━━━━━━━━━━━━━━━━━━━━━━━━━━━┳━━━━━━━━━━━━━━━━━━┳━━━━━━━━━━━━━┓\n",
       "┃\u001b[1m \u001b[0m\u001b[1mIndex\u001b[0m\u001b[1m \u001b[0m┃\u001b[1m \u001b[0m\u001b[1mName \u001b[0m\u001b[1m \u001b[0m┃\u001b[1m \u001b[0m\u001b[1mId                                  \u001b[0m\u001b[1m \u001b[0m┃\u001b[1m \u001b[0m\u001b[1mCreated at      \u001b[0m\u001b[1m \u001b[0m┃\u001b[1m \u001b[0m\u001b[1mDescription\u001b[0m\u001b[1m \u001b[0m┃\n",
       "┡━━━━━━━╇━━━━━━━╇━━━━━━━━━━━━━━━━━━━━━━━━━━━━━━━━━━━━━━╇━━━━━━━━━━━━━━━━━━╇━━━━━━━━━━━━━┩\n",
       "│ 0     │ ertsi │ bc91d45c-e9f6-410f-ba72-d0fbfffcb844 │ 2025-05-11 17:38 │             │\n",
       "└───────┴───────┴──────────────────────────────────────┴──────────────────┴─────────────┘\n"
      ]
     },
     "metadata": {},
     "output_type": "display_data"
    }
   ],
   "source": [
    "data = json.load(open(\"data.json\"))\n",
    "\n",
    "tsdk = TSDK(TSDKCredentials.from_file(\"./creds/tsdk.cred\"))\n",
    "\n",
    "projects = tsdk.list_my_projects()\n",
    "dd.display(projects)"
   ]
  },
  {
   "cell_type": "code",
   "execution_count": 3,
   "id": "e64484c4",
   "metadata": {},
   "outputs": [],
   "source": [
    "project = tsdk.get_or_create_project(\"ertsi\")"
   ]
  },
  {
   "cell_type": "code",
   "execution_count": 4,
   "id": "b3c80eef",
   "metadata": {},
   "outputs": [],
   "source": [
    "edge_points_hexagon = data[\"room_verts\"]\n",
    "room = treble.GeometryDefinitionGenerator.create_polygon_room(\n",
    "    points_xy=edge_points_hexagon, height_z=3, join_wall_layers=False\n",
    ")"
   ]
  },
  {
   "cell_type": "code",
   "execution_count": 5,
   "id": "2dec96ae",
   "metadata": {},
   "outputs": [],
   "source": [
    "room.clear_geometry_components()\n",
    "placement = treble.GeometryComponentPlacement(\n",
    "    components=tsdk.geometry_component_library.query(group=\"desk\"),\n",
    "    preferred_count=3,\n",
    "    rotation_settings=treble.ComponentAnglePool([0]),\n",
    ")\n",
    "room.populate_with_geometry_components(\n",
    "    components=[placement],\n",
    "    selection_algorithm=treble.ComponentSelectionAlgorithm.random,\n",
    ")"
   ]
  },
  {
   "cell_type": "code",
   "execution_count": 6,
   "id": "9912fe7c",
   "metadata": {},
   "outputs": [
    {
     "name": "stderr",
     "output_type": "stream",
     "text": [
      "One or more validation errors occurred.\n",
      "Field: \"name\" - [\"Model named 'room1' already exists, please select another name.\"]\n"
     ]
    },
    {
     "name": "stdout",
     "output_type": "stream",
     "text": [
      "Model already exists: 'NoneType' object has no attribute 'id'\n"
     ]
    }
   ],
   "source": [
    "try:\n",
    "    model = project.add_model(\"room1\", room)\n",
    "except Exception as e:\n",
    "    print(f\"Model already exists: {e}\")\n",
    "    model = project.get_model_by_name(\"room1\")\n",
    "assert model, \"Model not found in project\""
   ]
  },
  {
   "cell_type": "code",
   "execution_count": 9,
   "id": "ace80ab5",
   "metadata": {},
   "outputs": [
    {
     "data": {
      "text/html": [
       "<pre style=\"white-space:pre;overflow-x:auto;line-height:normal;font-family:Menlo,'DejaVu Sans Mono',consolas,'Courier New',monospace\"><span style=\"font-style: italic\">                                   Material assignment                                   </span>\n",
       "┏━━━━━━━━━━━━━━━━━━━━━━┳━━━━━━━━━━━━━━━━━━━━━━━━━━━━━━━━━━━━━━━━━━━━━━━━━━━━━━━━━━━━━━━━┓\n",
       "┃<span style=\"font-weight: bold\"> Layer name           </span>┃<span style=\"font-weight: bold\"> Material name                                                  </span>┃\n",
       "┡━━━━━━━━━━━━━━━━━━━━━━╇━━━━━━━━━━━━━━━━━━━━━━━━━━━━━━━━━━━━━━━━━━━━━━━━━━━━━━━━━━━━━━━━┩\n",
       "│ polygon_room_wall_1  │ Smooth painted concrete                                        │\n",
       "│ polygon_room_wall_0  │ Window glass                                                   │\n",
       "│ polygon_room_wall_2  │ Smooth painted concrete                                        │\n",
       "│ polygon_room_wall_3  │ Smooth painted concrete                                        │\n",
       "│ polygon_room_floor   │ Linoleum or vinyl on concrete                                  │\n",
       "│ polygon_room_ceiling │ Slotted panel, 17% open, 40 mm 81 kg/m3 absorber, 30 mm cavity │\n",
       "│ Furniture/Desk       │ Wood panel with air space behind                               │\n",
       "└──────────────────────┴────────────────────────────────────────────────────────────────┘\n",
       "</pre>\n"
      ],
      "text/plain": [
       "\u001b[3m                                   Material assignment                                   \u001b[0m\n",
       "┏━━━━━━━━━━━━━━━━━━━━━━┳━━━━━━━━━━━━━━━━━━━━━━━━━━━━━━━━━━━━━━━━━━━━━━━━━━━━━━━━━━━━━━━━┓\n",
       "┃\u001b[1m \u001b[0m\u001b[1mLayer name          \u001b[0m\u001b[1m \u001b[0m┃\u001b[1m \u001b[0m\u001b[1mMaterial name                                                 \u001b[0m\u001b[1m \u001b[0m┃\n",
       "┡━━━━━━━━━━━━━━━━━━━━━━╇━━━━━━━━━━━━━━━━━━━━━━━━━━━━━━━━━━━━━━━━━━━━━━━━━━━━━━━━━━━━━━━━┩\n",
       "│ polygon_room_wall_1  │ Smooth painted concrete                                        │\n",
       "│ polygon_room_wall_0  │ Window glass                                                   │\n",
       "│ polygon_room_wall_2  │ Smooth painted concrete                                        │\n",
       "│ polygon_room_wall_3  │ Smooth painted concrete                                        │\n",
       "│ polygon_room_floor   │ Linoleum or vinyl on concrete                                  │\n",
       "│ polygon_room_ceiling │ Slotted panel, 17% open, 40 mm 81 kg/m3 absorber, 30 mm cavity │\n",
       "│ Furniture/Desk       │ Wood panel with air space behind                               │\n",
       "└──────────────────────┴────────────────────────────────────────────────────────────────┘\n"
      ]
     },
     "metadata": {},
     "output_type": "display_data"
    }
   ],
   "source": [
    "all_materials = tsdk.material_library.get()\n",
    "database_materials = [\n",
    "    material for material in all_materials if material[\"organizationId\"] == None\n",
    "]\n",
    "layers = {\n",
    "    \"polygon_room_wall_0\": data[\"wall_0_material\"],\n",
    "    \"polygon_room_wall_1\": data[\"wall_1_material\"],\n",
    "    \"polygon_room_wall_2\": data[\"wall_2_material\"],\n",
    "    \"polygon_room_wall_3\": data[\"wall_3_material\"],\n",
    "    \"polygon_room_floor\": data[\"floor_material\"],\n",
    "    \"polygon_room_ceiling\": data[\"ceiling_material\"],\n",
    "    \"Furniture/Desk\": \"wood\",\n",
    "}\n",
    "material_assignment = []\n",
    "\n",
    "assert model.layer_names, \"No layers found in model\"\n",
    "for layer in model.layer_names:\n",
    "    if layer in layers:\n",
    "        search_string = layers[layer]\n",
    "        matches = [\n",
    "            m for m in database_materials if search_string.lower() in m.name.lower()\n",
    "        ]\n",
    "        if matches:\n",
    "            material_assignment.append(\n",
    "                treble.MaterialAssignment(layer, random.choice(matches))\n",
    "            )\n",
    "\n",
    "# show the material assignment\n",
    "dd.display(material_assignment)"
   ]
  },
  {
   "cell_type": "code",
   "execution_count": 10,
   "id": "5985c9b4",
   "metadata": {},
   "outputs": [
    {
     "data": {
      "text/html": [
       "\n",
       "        <iframe\n",
       "            width=\"100%\"\n",
       "            height=\"700\"\n",
       "            src=\"http://127.0.0.1:55660/\"\n",
       "            frameborder=\"0\"\n",
       "            allowfullscreen\n",
       "            \n",
       "        ></iframe>\n",
       "        "
      ],
      "text/plain": [
       "<IPython.lib.display.IFrame at 0x780e8ce3fa10>"
      ]
     },
     "metadata": {},
     "output_type": "display_data"
    }
   ],
   "source": [
    "room.plot()"
   ]
  },
  {
   "cell_type": "code",
   "execution_count": 15,
   "id": "ff5d3f79",
   "metadata": {},
   "outputs": [
    {
     "data": {
      "text/html": [
       "\n",
       "        <iframe\n",
       "            width=\"100%\"\n",
       "            height=\"700\"\n",
       "            src=\"http://127.0.0.1:55660/\"\n",
       "            frameborder=\"0\"\n",
       "            allowfullscreen\n",
       "            \n",
       "        ></iframe>\n",
       "        "
      ],
      "text/plain": [
       "<IPython.lib.display.IFrame at 0x780e8cd69940>"
      ]
     },
     "metadata": {},
     "output_type": "display_data"
    }
   ],
   "source": [
    "source = treble.Source.make_omni(\n",
    "    position=treble.Point3d(0.25, 0.5, 1.5), label=\"source_1\"\n",
    ")\n",
    "receiver = treble.Receiver.make_mono(\n",
    "    position=treble.Point3d(3, 5, 1.2), label=\"receiver_1\"\n",
    ")\n",
    "sim_def = treble.SimulationDefinition(\n",
    "    name=\"Simulation_1\",  # unique name of the simulation\n",
    "    simulation_type=treble.SimulationType.ga,  # the type of simulation\n",
    "    model=model,  # the model we created in an earlier step\n",
    "    energy_decay_threshold=60,  # simulation termination criteria - the simulation stops running after -40 dB of energy decay\n",
    "    receiver_list=[receiver],\n",
    "    source_list=[source],\n",
    "    material_assignment=material_assignment,\n",
    ")\n",
    "\n",
    "sim_def.plot()"
   ]
  },
  {
   "cell_type": "code",
   "execution_count": 16,
   "id": "4b17d65d",
   "metadata": {},
   "outputs": [],
   "source": [
    "simulation = project.add_simulation(sim_def)"
   ]
  },
  {
   "cell_type": "code",
   "execution_count": 17,
   "id": "84b6ffbd",
   "metadata": {},
   "outputs": [
    {
     "data": {
      "text/html": [
       "<pre style=\"white-space:pre;overflow-x:auto;line-height:normal;font-family:Menlo,'DejaVu Sans Mono',consolas,'Courier New',monospace\">Simulation_1\n",
       "├── Id: 36276580-5214-43ca-bc96-60cce4c07c45\n",
       "├── Status: <span style=\"color: #008000; text-decoration-color: #008000\">Completed</span>\n",
       "├── Percentage completed: 100%\n",
       "└── Sources\n",
       "    └── source_1 (3330a9ad-20f9-4005-a84a-5c73f0023a7c)\n",
       "        ├── Type: SourceType.omni\n",
       "        └── Tasks\n",
       "            ├── Id: 436b342e-fdd3-4c81-8c66-03d4f34e7093\n",
       "            ├── Type: TaskType.ga\n",
       "            ├── Status: Completed\n",
       "            └── Percentage completed: 100%\n",
       "</pre>\n"
      ],
      "text/plain": [
       "Simulation_1\n",
       "├── Id: 36276580-5214-43ca-bc96-60cce4c07c45\n",
       "├── Status: \u001b[32mCompleted\u001b[0m\n",
       "├── Percentage completed: 100%\n",
       "└── Sources\n",
       "    └── source_1 (3330a9ad-20f9-4005-a84a-5c73f0023a7c)\n",
       "        ├── Type: SourceType.omni\n",
       "        └── Tasks\n",
       "            ├── Id: 436b342e-fdd3-4c81-8c66-03d4f34e7093\n",
       "            ├── Type: TaskType.ga\n",
       "            ├── Status: Completed\n",
       "            └── Percentage completed: 100%\n"
      ]
     },
     "metadata": {},
     "output_type": "display_data"
    },
    {
     "data": {
      "text/html": [
       "<pre style=\"white-space:pre;overflow-x:auto;line-height:normal;font-family:Menlo,'DejaVu Sans Mono',consolas,'Courier New',monospace\">Done\n",
       "</pre>\n"
      ],
      "text/plain": [
       "Done\n"
      ]
     },
     "metadata": {},
     "output_type": "display_data"
    }
   ],
   "source": [
    "simulation.start()\n",
    "simulation.as_live_progress()"
   ]
  },
  {
   "cell_type": "code",
   "execution_count": 18,
   "id": "4bc5038d",
   "metadata": {},
   "outputs": [
    {
     "name": "stderr",
     "output_type": "stream",
     "text": [
      "/home/leo/projects/repos/ertsi/generation/.venv/lib/python3.13/site-packages/tqdm/auto.py:21: TqdmWarning:\n",
      "\n",
      "IProgress not found. Please update jupyter and ipywidgets. See https://ipywidgets.readthedocs.io/en/stable/user_install.html\n",
      "\n",
      "Download simulation 36276580-5214-43ca-bc96-60cce4c07c45: 100%|██████████| 2/2 tasks\n"
     ]
    },
    {
     "data": {
      "text/html": [
       "\n",
       "        <iframe\n",
       "            width=\"100%\"\n",
       "            height=\"800\"\n",
       "            src=\"http://127.0.0.1:55660/\"\n",
       "            frameborder=\"0\"\n",
       "            allowfullscreen\n",
       "            \n",
       "        ></iframe>\n",
       "        "
      ],
      "text/plain": [
       "<IPython.lib.display.IFrame at 0x780e8e42b530>"
      ]
     },
     "metadata": {},
     "output_type": "display_data"
    }
   ],
   "source": [
    "results_object = simulation.download_results(f'results/{simulation.name}')\n",
    "\n",
    "# begin to explore the results\n",
    "results_object.plot()"
   ]
  },
  {
   "cell_type": "code",
   "execution_count": 19,
   "id": "e6e947b9",
   "metadata": {},
   "outputs": [
    {
     "data": {
      "text/html": [
       "\n",
       "        <iframe\n",
       "            width=\"100%\"\n",
       "            height=\"650\"\n",
       "            src=\"http://127.0.0.1:55660/\"\n",
       "            frameborder=\"0\"\n",
       "            allowfullscreen\n",
       "            \n",
       "        ></iframe>\n",
       "        "
      ],
      "text/plain": [
       "<IPython.lib.display.IFrame at 0x780e8e2ec8d0>"
      ]
     },
     "metadata": {},
     "output_type": "display_data"
    }
   ],
   "source": [
    "# isolate the data from a single impulse response\n",
    "this_result = results_object.get_mono_ir(source=simulation.sources[0],receiver=simulation.receivers[0])\n",
    "this_ir = this_result.data\n",
    "this_tvec = this_result.time\n",
    "\n",
    "this_result.plot()"
   ]
  },
  {
   "cell_type": "code",
   "execution_count": null,
   "id": "ec3f0493",
   "metadata": {},
   "outputs": [],
   "source": []
  }
 ],
 "metadata": {
  "kernelspec": {
   "display_name": ".venv",
   "language": "python",
   "name": "python3"
  },
  "language_info": {
   "codemirror_mode": {
    "name": "ipython",
    "version": 3
   },
   "file_extension": ".py",
   "mimetype": "text/x-python",
   "name": "python",
   "nbconvert_exporter": "python",
   "pygments_lexer": "ipython3",
   "version": "3.13.3"
  }
 },
 "nbformat": 4,
 "nbformat_minor": 5
}
