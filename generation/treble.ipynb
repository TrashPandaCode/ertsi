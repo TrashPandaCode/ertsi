{
 "cells": [
  {
   "cell_type": "code",
   "execution_count": 1,
   "id": "6a009b62",
   "metadata": {},
   "outputs": [],
   "source": [
    "from treble_tsdk.tsdk import TSDK, TSDKCredentials\n",
    "from treble_tsdk import display_data as dd\n",
    "from treble_tsdk import treble\n",
    "import random\n",
    "import json\n",
    "from tqdm import tqdm\n",
    "import glob\n",
    "import math\n",
    "from typing import List, Tuple\n",
    "from collections import defaultdict"
   ]
  },
  {
   "cell_type": "code",
   "execution_count": 14,
   "id": "6eeb1926",
   "metadata": {},
   "outputs": [
    {
     "name": "stderr",
     "output_type": "stream",
     "text": [
      "Loading room data: 100%|██████████| 17/17 [00:00<00:00, 4679.30it/s]\n"
     ]
    },
    {
     "name": "stdout",
     "output_type": "stream",
     "text": [
      "== SDK package is up to date ==\n"
     ]
    }
   ],
   "source": [
    "data_dir = \"data\"\n",
    "\n",
    "rooms_data = []\n",
    "for filename in tqdm(glob.glob(f\"{data_dir}/**/*.json\", recursive=True), desc=\"Loading room data\"):\n",
    "    with open(filename, \"r\") as f:\n",
    "        data = json.load(f)\n",
    "        room_name = filename.split(\"/\")[-2]\n",
    "        data[\"room_name\"] = room_name\n",
    "        rooms_data.append(data)\n",
    "\n",
    "tsdk = TSDK(TSDKCredentials.from_file(\"./creds/tsdk.cred\"))\n"
   ]
  },
  {
   "cell_type": "code",
   "execution_count": 3,
   "id": "e64484c4",
   "metadata": {},
   "outputs": [],
   "source": [
    "project = tsdk.get_or_create_project(\"ertsi_10\")"
   ]
  },
  {
   "cell_type": "code",
   "execution_count": 4,
   "id": "0414bf0f",
   "metadata": {},
   "outputs": [],
   "source": [
    "def sort_points_clockwise(points: List[List[float]]) -> List[List[float]]:\n",
    "    # Compute centroid\n",
    "    centroid_x = sum(x for x, y in points) / len(points)\n",
    "    centroid_y = sum(y for x, y in points) / len(points)\n",
    "    \n",
    "    # Function to compute angle from centroid\n",
    "    def angle_from_centroid(point):\n",
    "        x, y = point\n",
    "        return math.atan2(y - centroid_y, x - centroid_x)\n",
    "    \n",
    "    # Sort points by angle (clockwise)\n",
    "    return sorted(points, key=angle_from_centroid, reverse=True)"
   ]
  },
  {
   "cell_type": "code",
   "execution_count": 15,
   "id": "b3c80eef",
   "metadata": {},
   "outputs": [
    {
     "name": "stdout",
     "output_type": "stream",
     "text": [
      "markus_08 [[-3.3332183361053467, 2.476045608520508], [3.3332183361053467, 2.476045608520508], [3.3332183361053467, -2.476045608520508], [-3.3332183361053467, -2.476045608520508]]\n",
      "markus_10 [[-2.0009584426879883, 0.9913800954818726], [-2.0009584426879883, 3.03381609916687], [0.6485803127288818, 3.03381609916687], [0.6485803127288818, 0.9913800954818726], [3.298118829727173, 3.03381609916687], [3.298118829727173, 0.9913800954818726], [3.298118829727173, -1.0510557889938354], [3.298118829727173, -3.03381609916687], [0.6485803127288818, -1.0510557889938354], [0.6485800743103027, -3.03381609916687], [-2.0009584426879883, -3.03381609916687], [-3.298118829727173, -3.03381609916687], [-2.0009584426879883, -1.0510557889938354], [-3.298118829727173, -1.0510557889938354]]\n",
      "milan_room_1 [[-1.922612190246582, 20.94545555114746], [1.922612190246582, 20.94545555114746], [1.922612190246582, -20.94545555114746], [-1.922612190246582, -20.94545555114746]]\n",
      "markus_07 [[-8.74837589263916, 12.076228141784668], [8.74837589263916, 12.076228141784668], [8.74837589263916, -12.076228141784668], [-8.74837589263916, -12.076228141784668]]\n",
      "milan_room_4 [[-4.471189022064209, 0.0], [-4.471189022064209, 3.2255611419677734], [0.0, 4.840778827667236], [4.471189022064209, 3.2255611419677734], [4.471189022064209, 0.0], [0.0, 0.0], [4.471189022064209, -3.2255611419677734], [0.0, -4.840778827667236], [-4.471189022064209, -3.2255611419677734]]\n",
      "markus_04 [[-2.458829879760742, 3.1900553703308105], [3.473698616027832, 7.2247772216796875], [3.325181245803833, -2.0266690254211426], [-3.473698616027832, -7.2247772216796875]]\n",
      "david02 [[-1.0, 3.0207436084747314], [2.0533666610717773, 3.0207436084747314], [2.0533666610717773, -1.0], [-1.0, -1.0]]\n",
      "markus_09 [[-7.5900959968566895, 3.6081702709198], [-2.0469462871551514, 3.6081702709198], [7.5900959968566895, 3.6081702709198], [7.5900959968566895, -3.6081702709198], [-2.0469462871551514, -3.6081702709198]]\n",
      "milan_room_2 [[-5.223229885101318, 0.0], [-5.223229885101318, 5.524872779846191], [0.0, 5.524872779846191], [0.0, 0.0], [5.223229885101318, 0.0], [5.223229885101318, -5.524872779846191], [0.0, -5.524872779846191], [-5.223229885101318, -5.524872779846191]]\n",
      "markus_06 [[-2.769113063812256, 0.9985341429710388], [-0.025784220546483994, 0.9985341429710388], [-0.025784220546483994, 5.022388935089111], [2.769113063812256, 5.022388935089111], [2.769113063812256, 0.9985341429710388], [2.769113063812256, -5.022388935089111], [-0.025784220546483994, -5.022388935089111], [-2.769113063812256, -5.022388935089111]]\n",
      "david01 [[-1.0, 6.6975297927856445], [3.689387321472168, 6.6975297927856445], [5.386353492736816, 4.711181640625], [5.386353492736816, -1.0], [3.689387321472168, -1.0], [-1.0, -1.0]]\n",
      "markus_01 [[-7.2899370193481445, 5.997805595397949], [7.2899370193481445, 5.997805595397949], [3.620009660720825, -5.997805595397949], [-3.620009660720825, -5.997805595397949]]\n",
      "markus_05 [[-2.2409143447875977, 6.62981653213501], [2.2409143447875977, 6.62981653213501], [2.2409143447875977, -6.62981653213501], [-2.2409143447875977, -6.62981653213501]]\n",
      "david03 [[-1.0, 3.0207436084747314], [2.0533666610717773, 3.0207436084747314], [2.0533666610717773, -1.0], [-1.0, -1.0]]\n",
      "markus_03 [[-4.379526615142822, 4.9982171058654785], [1.3795266151428223, 3.9982171058654785], [4.379526615142822, -4.9982171058654785], [-4.379526615142822, -4.9982171058654785]]\n",
      "milan_room_3 [[-3.880277156829834, 2.7992711067199707], [3.880277156829834, 2.7992711067199707], [3.880277156829834, -2.7992711067199707], [-3.880277156829834, -2.7992711067199707]]\n",
      "markus_02 [[-8.884943008422852, 5.414520740509033], [-0.0023177103139460087, 5.414520740509033], [8.884943008422852, 5.414520740509033], [8.914779663085938, -7.920846939086914], [0.027518825605511665, -7.920846939086914], [-8.884943008422852, -5.414520740509033]]\n"
     ]
    },
    {
     "data": {
      "text/plain": [
       "[GeometryDefinition(geometry_component_count=0.,\n",
       " GeometryDefinition(geometry_component_count=0.,\n",
       " GeometryDefinition(geometry_component_count=0.,\n",
       " GeometryDefinition(geometry_component_count=0.,\n",
       " GeometryDefinition(geometry_component_count=0.,\n",
       " GeometryDefinition(geometry_component_count=0.,\n",
       " GeometryDefinition(geometry_component_count=0.,\n",
       " GeometryDefinition(geometry_component_count=0.,\n",
       " GeometryDefinition(geometry_component_count=0.,\n",
       " GeometryDefinition(geometry_component_count=0.,\n",
       " GeometryDefinition(geometry_component_count=0.,\n",
       " GeometryDefinition(geometry_component_count=0.,\n",
       " GeometryDefinition(geometry_component_count=0.,\n",
       " GeometryDefinition(geometry_component_count=0.,\n",
       " GeometryDefinition(geometry_component_count=0.,\n",
       " GeometryDefinition(geometry_component_count=0.,\n",
       " GeometryDefinition(geometry_component_count=0.]"
      ]
     },
     "execution_count": 15,
     "metadata": {},
     "output_type": "execute_result"
    }
   ],
   "source": [
    "room_definitions = []\n",
    "for i, room_data in enumerate(rooms_data):\n",
    "    edge_points_hexagon = sort_points_clockwise(room_data[\"room_verts\"]) if not \"sorted\" in room_data else room_data[\"room_verts\"]\n",
    "    room_height = 3\n",
    "    print(room_data[\"room_name\"], edge_points_hexagon)\n",
    "    room = treble.GeometryDefinitionGenerator.create_polygon_room(\n",
    "        points_xy=edge_points_hexagon, height_z=room_height, join_wall_layers=True\n",
    "    )\n",
    "\n",
    "    room_definitions.append(room)\n",
    "room_definitions"
   ]
  },
  {
   "cell_type": "code",
   "execution_count": 16,
   "id": "2dec96ae",
   "metadata": {},
   "outputs": [
    {
     "name": "stdout",
     "output_type": "stream",
     "text": [
      "=== Populating rooms with geometry components ===\n"
     ]
    },
    {
     "name": "stderr",
     "output_type": "stream",
     "text": [
      "0it [00:00, ?it/s]"
     ]
    },
    {
     "name": "stdout",
     "output_type": "stream",
     "text": [
      "Populating room markus_08 with geometry components\n"
     ]
    },
    {
     "name": "stderr",
     "output_type": "stream",
     "text": [
      "1it [00:02,  2.70s/it]"
     ]
    },
    {
     "name": "stdout",
     "output_type": "stream",
     "text": [
      "Populating room markus_10 with geometry components\n"
     ]
    },
    {
     "name": "stderr",
     "output_type": "stream",
     "text": [
      "2it [00:05,  2.66s/it]"
     ]
    },
    {
     "name": "stdout",
     "output_type": "stream",
     "text": [
      "Populating room milan_room_1 with geometry components\n"
     ]
    },
    {
     "name": "stderr",
     "output_type": "stream",
     "text": [
      "3it [00:09,  3.36s/it]"
     ]
    },
    {
     "name": "stdout",
     "output_type": "stream",
     "text": [
      "Populating room markus_07 with geometry components\n"
     ]
    },
    {
     "name": "stderr",
     "output_type": "stream",
     "text": [
      "4it [00:13,  3.63s/it]"
     ]
    },
    {
     "name": "stdout",
     "output_type": "stream",
     "text": [
      "Populating room milan_room_4 with geometry components\n"
     ]
    },
    {
     "name": "stderr",
     "output_type": "stream",
     "text": [
      "5it [00:16,  3.22s/it]"
     ]
    },
    {
     "name": "stdout",
     "output_type": "stream",
     "text": [
      "Populating room markus_04 with geometry components\n"
     ]
    },
    {
     "name": "stderr",
     "output_type": "stream",
     "text": [
      "6it [00:18,  2.95s/it]"
     ]
    },
    {
     "name": "stdout",
     "output_type": "stream",
     "text": [
      "Populating room david02 with geometry components\n"
     ]
    },
    {
     "name": "stderr",
     "output_type": "stream",
     "text": [
      "7it [00:20,  2.56s/it]"
     ]
    },
    {
     "name": "stdout",
     "output_type": "stream",
     "text": [
      "Populating room markus_09 with geometry components\n"
     ]
    },
    {
     "name": "stderr",
     "output_type": "stream",
     "text": [
      "8it [00:22,  2.50s/it]"
     ]
    },
    {
     "name": "stdout",
     "output_type": "stream",
     "text": [
      "Populating room milan_room_2 with geometry components\n"
     ]
    },
    {
     "name": "stderr",
     "output_type": "stream",
     "text": [
      "9it [00:25,  2.56s/it]"
     ]
    },
    {
     "name": "stdout",
     "output_type": "stream",
     "text": [
      "Populating room markus_06 with geometry components\n"
     ]
    },
    {
     "name": "stderr",
     "output_type": "stream",
     "text": [
      "10it [00:27,  2.59s/it]"
     ]
    },
    {
     "name": "stdout",
     "output_type": "stream",
     "text": [
      "Populating room david01 with geometry components\n"
     ]
    },
    {
     "name": "stderr",
     "output_type": "stream",
     "text": [
      "11it [00:30,  2.43s/it]"
     ]
    },
    {
     "name": "stdout",
     "output_type": "stream",
     "text": [
      "Populating room markus_01 with geometry components\n"
     ]
    },
    {
     "name": "stderr",
     "output_type": "stream",
     "text": [
      "12it [00:32,  2.41s/it]"
     ]
    },
    {
     "name": "stdout",
     "output_type": "stream",
     "text": [
      "Populating room markus_05 with geometry components\n"
     ]
    },
    {
     "name": "stderr",
     "output_type": "stream",
     "text": [
      "13it [00:35,  2.48s/it]"
     ]
    },
    {
     "name": "stdout",
     "output_type": "stream",
     "text": [
      "Populating room david03 with geometry components\n"
     ]
    },
    {
     "name": "stderr",
     "output_type": "stream",
     "text": [
      "14it [00:36,  2.32s/it]"
     ]
    },
    {
     "name": "stdout",
     "output_type": "stream",
     "text": [
      "Populating room markus_03 with geometry components\n"
     ]
    },
    {
     "name": "stderr",
     "output_type": "stream",
     "text": [
      "15it [00:39,  2.39s/it]"
     ]
    },
    {
     "name": "stdout",
     "output_type": "stream",
     "text": [
      "Populating room milan_room_3 with geometry components\n"
     ]
    },
    {
     "name": "stderr",
     "output_type": "stream",
     "text": [
      "16it [00:41,  2.41s/it]"
     ]
    },
    {
     "name": "stdout",
     "output_type": "stream",
     "text": [
      "Populating room markus_02 with geometry components\n"
     ]
    },
    {
     "name": "stderr",
     "output_type": "stream",
     "text": [
      "17it [00:45,  2.66s/it]\n"
     ]
    }
   ],
   "source": [
    "generated_rooms = []\n",
    "\n",
    "print(\"=== Populating rooms with geometry components ===\")\n",
    "for i, (room_def, room_data) in tqdm(enumerate(zip(room_definitions, rooms_data))):\n",
    "    print(f\"Populating room {room_data[\"room_name\"]} with geometry components\")\n",
    "    room_def.clear_geometry_components()\n",
    "    placements = []\n",
    "\n",
    "    if room_data[\"chair_count\"] > 0:\n",
    "        placements += [\n",
    "            treble.GeometryComponentPlacement(\n",
    "                components=tsdk.geometry_component_library.query(group=\"chair\"),\n",
    "            preferred_count=room_data[\"chair_count\"],\n",
    "            rotation_settings=treble.ComponentAnglePool([0, 90, 180, 270]),\n",
    "            min_dist_from_objects=0.5,\n",
    "            min_dist_from_walls=0.5,\n",
    "            )\n",
    "        ]\n",
    "    if room_data[\"desk_count\"] > 0:\n",
    "        placements += [\n",
    "            treble.GeometryComponentPlacement(\n",
    "               components=tsdk.geometry_component_library.query(group=\"desk\"),\n",
    "            preferred_count=room_data[\"desk_count\"],\n",
    "            rotation_settings=treble.ComponentAnglePool([0, 90, 180, 270]),\n",
    "            min_dist_from_objects=0.5,\n",
    "            min_dist_from_walls=0.5,\n",
    "            )\n",
    "        ]\n",
    "        \n",
    "    room_def.populate_with_geometry_components(\n",
    "        components=placements,\n",
    "        selection_algorithm=treble.ComponentSelectionAlgorithm.random,\n",
    "    )\n",
    "\n",
    "    try:\n",
    "        model = project.add_model(f\"room_{i}\", room_def)\n",
    "        generated_rooms.append(model)\n",
    "    except Exception as e:\n",
    "        print(f\"Error adding model for room {room_data[\"room_name\"]}: {e}\")\n",
    "        continue"
   ]
  },
  {
   "cell_type": "code",
   "execution_count": 21,
   "id": "d1fe77c5",
   "metadata": {},
   "outputs": [
    {
     "data": {
      "text/html": [
       "\n",
       "        <iframe\n",
       "            width=\"100%\"\n",
       "            height=\"700\"\n",
       "            src=\"http://127.0.0.1:55660/\"\n",
       "            frameborder=\"0\"\n",
       "            allowfullscreen\n",
       "            \n",
       "        ></iframe>\n",
       "        "
      ],
      "text/plain": [
       "<IPython.lib.display.IFrame at 0x764da925bce0>"
      ]
     },
     "metadata": {},
     "output_type": "display_data"
    }
   ],
   "source": [
    "random_model = random.choice(generated_rooms)\n",
    "random_model.plot()"
   ]
  },
  {
   "cell_type": "code",
   "execution_count": 22,
   "id": "a3f80e15",
   "metadata": {},
   "outputs": [
    {
     "data": {
      "text/html": [
       "<pre style=\"white-space:pre;overflow-x:auto;line-height:normal;font-family:Menlo,'DejaVu Sans Mono',consolas,'Courier New',monospace\"><span style=\"font-style: italic\">                                                 Models                                                  </span>\n",
       "┏━━━━━━━┳━━━━━━━━━┳━━━━━━━━━━━━━━━━━━━━━━━━━━━━━━━━━━━━━━┳━━━━━━━━━━━━━━━━━━━━━━━━━━━━━━┳━━━━━━━━━━━━━━━┓\n",
       "┃<span style=\"font-weight: bold\"> Index </span>┃<span style=\"font-weight: bold\"> Name    </span>┃<span style=\"font-weight: bold\"> Id                                   </span>┃<span style=\"font-weight: bold\"> Created At                   </span>┃<span style=\"font-weight: bold\"> Is Watertight </span>┃\n",
       "┡━━━━━━━╇━━━━━━━━━╇━━━━━━━━━━━━━━━━━━━━━━━━━━━━━━━━━━━━━━╇━━━━━━━━━━━━━━━━━━━━━━━━━━━━━━╇━━━━━━━━━━━━━━━┩\n",
       "│ 0     │ room_0  │ 402019a4-1a3c-4f54-8d91-aecdb7f0fd33 │ 2025-05-28 13:02:44          │ True          │\n",
       "│ 1     │ room_1  │ bbc9cbd3-8d2c-4a4e-93d0-f38a49d0464b │ 2025-05-28T13:02:47.2226027Z │ False         │\n",
       "│ 2     │ room_2  │ c020501a-3a6e-496e-89fa-e9a6bd6e7ece │ 2025-05-28T13:02:51.4163193Z │ False         │\n",
       "│ 3     │ room_3  │ e67b09a4-17a5-46ce-886b-992978454284 │ 2025-05-28T13:02:55.4883981Z │ False         │\n",
       "│ 4     │ room_4  │ 45d57d5a-77dc-4aec-ad0d-f1d61c5adf6c │ 2025-05-28T13:02:57.9737861Z │ False         │\n",
       "│ 5     │ room_5  │ 4e34095d-3ce9-43ff-baf9-ed83d263e41f │ 2025-05-28 13:03:00          │ False         │\n",
       "│ 6     │ room_6  │ 75110543-90ac-4cea-a760-0b26a715fed7 │ 2025-05-28 13:03:02          │ True          │\n",
       "│ 7     │ room_7  │ e23f3c5b-4730-418b-8cb6-2a480f4710fc │ 2025-05-28T13:03:04.5672069Z │ False         │\n",
       "│ 8     │ room_8  │ 78904d3b-9bd9-4e43-b8f2-1bc471b0bd13 │ 2025-05-28T13:03:07.2702545Z │ False         │\n",
       "│ 9     │ room_9  │ 7f3133c6-f36a-4961-bcf6-c38f3e73909d │ 2025-05-28T13:03:09.9298299Z │ False         │\n",
       "│ 10    │ room_10 │ ef946bcd-627a-41a1-82ba-8c8bed1f472c │ 2025-05-28T13:03:11.9517776Z │ False         │\n",
       "│ 11    │ room_11 │ 0839419a-3038-4585-8b8d-365d418d1a45 │ 2025-05-28 13:03:14          │ True          │\n",
       "│ 12    │ room_12 │ 70dfe501-e55d-414a-8c2d-be193dca190e │ 2025-05-28 13:03:17          │ True          │\n",
       "│ 13    │ room_13 │ d5d1ef28-ace0-46a7-9ee1-f7713cbc2231 │ 2025-05-28T13:03:18.8835238Z │ False         │\n",
       "│ 14    │ room_14 │ b23852fb-48fa-467b-9bae-496be8c3e791 │ 2025-05-28T13:03:21.4434275Z │ False         │\n",
       "│ 15    │ room_15 │ 51701c48-dba9-4e00-bf59-0161a5b60061 │ 2025-05-28 13:03:23          │ True          │\n",
       "│ 16    │ room_16 │ cf32c3be-2f2b-430f-beeb-eb1ccefcb7a7 │ 2025-05-28T13:03:27.1009495Z │ False         │\n",
       "└───────┴─────────┴──────────────────────────────────────┴──────────────────────────────┴───────────────┘\n",
       "</pre>\n"
      ],
      "text/plain": [
       "\u001b[3m                                                 Models                                                  \u001b[0m\n",
       "┏━━━━━━━┳━━━━━━━━━┳━━━━━━━━━━━━━━━━━━━━━━━━━━━━━━━━━━━━━━┳━━━━━━━━━━━━━━━━━━━━━━━━━━━━━━┳━━━━━━━━━━━━━━━┓\n",
       "┃\u001b[1m \u001b[0m\u001b[1mIndex\u001b[0m\u001b[1m \u001b[0m┃\u001b[1m \u001b[0m\u001b[1mName   \u001b[0m\u001b[1m \u001b[0m┃\u001b[1m \u001b[0m\u001b[1mId                                  \u001b[0m\u001b[1m \u001b[0m┃\u001b[1m \u001b[0m\u001b[1mCreated At                  \u001b[0m\u001b[1m \u001b[0m┃\u001b[1m \u001b[0m\u001b[1mIs Watertight\u001b[0m\u001b[1m \u001b[0m┃\n",
       "┡━━━━━━━╇━━━━━━━━━╇━━━━━━━━━━━━━━━━━━━━━━━━━━━━━━━━━━━━━━╇━━━━━━━━━━━━━━━━━━━━━━━━━━━━━━╇━━━━━━━━━━━━━━━┩\n",
       "│ 0     │ room_0  │ 402019a4-1a3c-4f54-8d91-aecdb7f0fd33 │ 2025-05-28 13:02:44          │ True          │\n",
       "│ 1     │ room_1  │ bbc9cbd3-8d2c-4a4e-93d0-f38a49d0464b │ 2025-05-28T13:02:47.2226027Z │ False         │\n",
       "│ 2     │ room_2  │ c020501a-3a6e-496e-89fa-e9a6bd6e7ece │ 2025-05-28T13:02:51.4163193Z │ False         │\n",
       "│ 3     │ room_3  │ e67b09a4-17a5-46ce-886b-992978454284 │ 2025-05-28T13:02:55.4883981Z │ False         │\n",
       "│ 4     │ room_4  │ 45d57d5a-77dc-4aec-ad0d-f1d61c5adf6c │ 2025-05-28T13:02:57.9737861Z │ False         │\n",
       "│ 5     │ room_5  │ 4e34095d-3ce9-43ff-baf9-ed83d263e41f │ 2025-05-28 13:03:00          │ False         │\n",
       "│ 6     │ room_6  │ 75110543-90ac-4cea-a760-0b26a715fed7 │ 2025-05-28 13:03:02          │ True          │\n",
       "│ 7     │ room_7  │ e23f3c5b-4730-418b-8cb6-2a480f4710fc │ 2025-05-28T13:03:04.5672069Z │ False         │\n",
       "│ 8     │ room_8  │ 78904d3b-9bd9-4e43-b8f2-1bc471b0bd13 │ 2025-05-28T13:03:07.2702545Z │ False         │\n",
       "│ 9     │ room_9  │ 7f3133c6-f36a-4961-bcf6-c38f3e73909d │ 2025-05-28T13:03:09.9298299Z │ False         │\n",
       "│ 10    │ room_10 │ ef946bcd-627a-41a1-82ba-8c8bed1f472c │ 2025-05-28T13:03:11.9517776Z │ False         │\n",
       "│ 11    │ room_11 │ 0839419a-3038-4585-8b8d-365d418d1a45 │ 2025-05-28 13:03:14          │ True          │\n",
       "│ 12    │ room_12 │ 70dfe501-e55d-414a-8c2d-be193dca190e │ 2025-05-28 13:03:17          │ True          │\n",
       "│ 13    │ room_13 │ d5d1ef28-ace0-46a7-9ee1-f7713cbc2231 │ 2025-05-28T13:03:18.8835238Z │ False         │\n",
       "│ 14    │ room_14 │ b23852fb-48fa-467b-9bae-496be8c3e791 │ 2025-05-28T13:03:21.4434275Z │ False         │\n",
       "│ 15    │ room_15 │ 51701c48-dba9-4e00-bf59-0161a5b60061 │ 2025-05-28 13:03:23          │ True          │\n",
       "│ 16    │ room_16 │ cf32c3be-2f2b-430f-beeb-eb1ccefcb7a7 │ 2025-05-28T13:03:27.1009495Z │ False         │\n",
       "└───────┴─────────┴──────────────────────────────────────┴──────────────────────────────┴───────────────┘\n"
      ]
     },
     "metadata": {},
     "output_type": "display_data"
    }
   ],
   "source": [
    "dd.display(generated_rooms)"
   ]
  },
  {
   "cell_type": "code",
   "execution_count": 23,
   "id": "ace80ab5",
   "metadata": {},
   "outputs": [
    {
     "name": "stderr",
     "output_type": "stream",
     "text": [
      "17it [00:01, 12.49it/s]\n"
     ]
    },
    {
     "data": {
      "text/html": [
       "<pre style=\"white-space:pre;overflow-x:auto;line-height:normal;font-family:Menlo,'DejaVu Sans Mono',consolas,'Courier New',monospace\"><span style=\"font-style: italic\">                                   Material assignment                                   </span>\n",
       "┏━━━━━━━━━━━━━━━━━━━━━━┳━━━━━━━━━━━━━━━━━━━━━━━━━━━━━━━━━━━━━━━━━━━━━━━━━━━━━━━━━━━━━━━━┓\n",
       "┃<span style=\"font-weight: bold\"> Layer name           </span>┃<span style=\"font-weight: bold\"> Material name                                                  </span>┃\n",
       "┡━━━━━━━━━━━━━━━━━━━━━━╇━━━━━━━━━━━━━━━━━━━━━━━━━━━━━━━━━━━━━━━━━━━━━━━━━━━━━━━━━━━━━━━━┩\n",
       "│ Furniture/Chair A    │ Upholstered concert chairs                                     │\n",
       "│ polygon_room_walls   │ Gypsum/Plaster on solid backing                                │\n",
       "│ Furniture/Chair      │ Heavily upholstered concert chairs                             │\n",
       "│ Furniture/Bar Stool  │ Heavily upholstered concert chairs                             │\n",
       "│ polygon_room_floor   │ Linoleum or vinyl on concrete                                  │\n",
       "│ Furniture/Desk       │ Wood, 50 mm thick                                              │\n",
       "│ polygon_room_ceiling │ Slotted panel, 43% open, 40 mm 81 kg/m3 absorber, 30 mm cavity │\n",
       "└──────────────────────┴────────────────────────────────────────────────────────────────┘\n",
       "</pre>\n"
      ],
      "text/plain": [
       "\u001b[3m                                   Material assignment                                   \u001b[0m\n",
       "┏━━━━━━━━━━━━━━━━━━━━━━┳━━━━━━━━━━━━━━━━━━━━━━━━━━━━━━━━━━━━━━━━━━━━━━━━━━━━━━━━━━━━━━━━┓\n",
       "┃\u001b[1m \u001b[0m\u001b[1mLayer name          \u001b[0m\u001b[1m \u001b[0m┃\u001b[1m \u001b[0m\u001b[1mMaterial name                                                 \u001b[0m\u001b[1m \u001b[0m┃\n",
       "┡━━━━━━━━━━━━━━━━━━━━━━╇━━━━━━━━━━━━━━━━━━━━━━━━━━━━━━━━━━━━━━━━━━━━━━━━━━━━━━━━━━━━━━━━┩\n",
       "│ Furniture/Chair A    │ Upholstered concert chairs                                     │\n",
       "│ polygon_room_walls   │ Gypsum/Plaster on solid backing                                │\n",
       "│ Furniture/Chair      │ Heavily upholstered concert chairs                             │\n",
       "│ Furniture/Bar Stool  │ Heavily upholstered concert chairs                             │\n",
       "│ polygon_room_floor   │ Linoleum or vinyl on concrete                                  │\n",
       "│ Furniture/Desk       │ Wood, 50 mm thick                                              │\n",
       "│ polygon_room_ceiling │ Slotted panel, 43% open, 40 mm 81 kg/m3 absorber, 30 mm cavity │\n",
       "└──────────────────────┴────────────────────────────────────────────────────────────────┘\n"
      ]
     },
     "metadata": {},
     "output_type": "display_data"
    }
   ],
   "source": [
    "all_materials = tsdk.material_library.get()\n",
    "database_materials = [\n",
    "    material for material in all_materials if material[\"organizationId\"] == None\n",
    "]\n",
    "\n",
    "all_material_assignments = []\n",
    "for i, (model, room_data) in tqdm(enumerate(zip(generated_rooms, rooms_data))):\n",
    "    layers = {\n",
    "        \"polygon_room_walls\": \"gypsum/plaster on solid backing\",\n",
    "        \"polygon_room_floor\": room_data[\"floor_material\"],\n",
    "        \"polygon_room_ceiling\": room_data[\"ceiling_material\"],\n",
    "        \"Furniture/Desk\": \"wood\",\n",
    "        \"Furniture/Chair\": \"upholstered concert chairs\",\n",
    "        \"Furniture/Chair A\": \"upholstered concert chairs\",\n",
    "        \"Furniture/Bar Stool\": \"upholstered concert chairs\",\n",
    "    }\n",
    "    material_assignment = []\n",
    "\n",
    "    for layer in model.layer_names:\n",
    "        if layer in layers:\n",
    "            search_string = layers[layer]\n",
    "            matches = [\n",
    "                m for m in database_materials if search_string.lower() in m.name.lower()\n",
    "            ]\n",
    "            if matches:\n",
    "                material_assignment.append(\n",
    "                    treble.MaterialAssignment(layer, random.choice(matches))\n",
    "                )\n",
    "    all_material_assignments.append(material_assignment)\n",
    "\n",
    "dd.display(all_material_assignments[-1])"
   ]
  },
  {
   "cell_type": "code",
   "execution_count": 24,
   "id": "ff5d3f79",
   "metadata": {},
   "outputs": [
    {
     "name": "stderr",
     "output_type": "stream",
     "text": [
      "100%|██████████| 17/17 [00:05<00:00,  3.00it/s]\n"
     ]
    }
   ],
   "source": [
    "all_sources = []\n",
    "all_source_positions = []\n",
    "all_receivers = []\n",
    "all_receiver_positions = []\n",
    "\n",
    "pg = treble.PointsGenerator()\n",
    "\n",
    "pos_ruleset = treble.PointRuleset(\n",
    "    min_dist_from_surface=0.5,\n",
    "    min_dist_from_other_points=2,\n",
    ")\n",
    "\n",
    "for room in tqdm(generated_rooms):\n",
    "    pos = pg.generate_valid_points(\n",
    "        model=room,\n",
    "        max_count=2,\t\n",
    "        ruleset=pos_ruleset,\n",
    "        z_range=(0.5, 1.5)\n",
    "    )\n",
    "    all_source_positions.append(pos[0])\n",
    "    all_receiver_positions.append(pos[1])\n",
    "\n",
    "    source = treble.Source.make_omni(\n",
    "        position=pos[0],\n",
    "        label=f\"source_{room.name}\",\n",
    "    )\n",
    "    receiver = treble.Receiver.make_mono(\n",
    "        position=pos[1],\n",
    "        label=f\"receiver_{room.name}\",\n",
    "    )\n",
    "    all_sources.append(source)\n",
    "    all_receivers.append(receiver)\n"
   ]
  },
  {
   "cell_type": "code",
   "execution_count": 25,
   "id": "758072df",
   "metadata": {},
   "outputs": [
    {
     "name": "stderr",
     "output_type": "stream",
     "text": [
      "17it [00:00, 81210.90it/s]\n"
     ]
    }
   ],
   "source": [
    "sim_type = treble.SimulationType.geometrical\n",
    "crossover_frequency = 500\n",
    "\n",
    "sim_defs = []\n",
    "\n",
    "for i, (room, room_data) in tqdm(enumerate(zip(generated_rooms, rooms_data))):\n",
    "    sim_def = treble.SimulationDefinition(\n",
    "        name=f\"simulation_{i}_1\",  # unique name of the simulation\n",
    "        simulation_type=sim_type,  # the type of simulation\n",
    "        # crossover_frequency=crossover_frequency,  # the frequency at which the simulation switches from wavebased to image source\n",
    "        model=room,\n",
    "        energy_decay_threshold=60,  # simulation termination criteria - the simulation stops running after -60 dB of energy decay\n",
    "        receiver_list=[all_receivers[i]],\n",
    "        source_list=[all_sources[i]],\n",
    "        material_assignment=all_material_assignments[i],\n",
    "    )\n",
    "    sim_defs.append(sim_def)\n",
    "\n",
    "sim_defs = project.add_simulations(sim_defs)"
   ]
  },
  {
   "cell_type": "code",
   "execution_count": 26,
   "id": "84b6ffbd",
   "metadata": {},
   "outputs": [
    {
     "data": {
      "text/html": [
       "<pre style=\"white-space:pre;overflow-x:auto;line-height:normal;font-family:Menlo,'DejaVu Sans Mono',consolas,'Courier New',monospace\"><span style=\"font-style: italic\">                                                      Simulations                                                       </span>\n",
       "┏━━━━━━━┳━━━━━━━━━━━━━━━━━┳━━━━━━━━━━━━━━━━━━┳━━━━━━━━━━━━━━━━━━━━━━━━━━━━━━━━━━━━━━┳━━━━━━━━━┳━━━━━━━━━━━━┳━━━━━┳━━━━━┓\n",
       "┃<span style=\"font-weight: bold\"> Index </span>┃<span style=\"font-weight: bold\"> Name            </span>┃<span style=\"font-weight: bold\"> Created at       </span>┃<span style=\"font-weight: bold\"> Id                                   </span>┃<span style=\"font-weight: bold\"> Status  </span>┃<span style=\"font-weight: bold\"> Freq. (Hz) </span>┃<span style=\"font-weight: bold\"> Rcv </span>┃<span style=\"font-weight: bold\"> Src </span>┃\n",
       "┡━━━━━━━╇━━━━━━━━━━━━━━━━━╇━━━━━━━━━━━━━━━━━━╇━━━━━━━━━━━━━━━━━━━━━━━━━━━━━━━━━━━━━━╇━━━━━━━━━╇━━━━━━━━━━━━╇━━━━━╇━━━━━┩\n",
       "│ 0     │ simulation_0_1  │ 2025-05-28 13:06 │ c0de7417-e669-4b66-8ae1-9536be7cae70 │ Created │ 25         │ 1   │ 1   │\n",
       "│ 1     │ simulation_1_1  │ 2025-05-28 13:06 │ 07ff8966-c67b-4a22-a8b8-c1fe1f210685 │ Created │ 25         │ 1   │ 1   │\n",
       "│ 2     │ simulation_3_1  │ 2025-05-28 13:06 │ 300d6844-5927-4e6d-8230-6865731d0a1f │ Created │ 25         │ 1   │ 1   │\n",
       "│ 3     │ simulation_2_1  │ 2025-05-28 13:06 │ 7279daba-6eb7-4716-bec4-e62043aa0a95 │ Created │ 25         │ 1   │ 1   │\n",
       "│ 4     │ simulation_6_1  │ 2025-05-28 13:06 │ 72a9acf8-cf56-4592-bca8-0f417d950d6a │ Created │ 25         │ 1   │ 1   │\n",
       "│ 5     │ simulation_5_1  │ 2025-05-28 13:06 │ 8757a1e4-49ac-4e9f-bb8d-8c7a25605c40 │ Created │ 25         │ 1   │ 1   │\n",
       "│ 6     │ simulation_7_1  │ 2025-05-28 13:06 │ 920ff9ad-13bf-43b7-95ef-368edc5c1400 │ Created │ 25         │ 1   │ 1   │\n",
       "│ 7     │ simulation_4_1  │ 2025-05-28 13:06 │ b2e8f6c7-5596-40d2-91b1-7fa570921b70 │ Created │ 25         │ 1   │ 1   │\n",
       "│ 8     │ simulation_10_1 │ 2025-05-28 13:06 │ 296da57b-f945-4df2-b625-3d0e9d06f5ac │ Created │ 25         │ 1   │ 1   │\n",
       "│ 9     │ simulation_8_1  │ 2025-05-28 13:06 │ 68148b9b-2329-4964-91fc-2d0c57c9e1a8 │ Created │ 25         │ 1   │ 1   │\n",
       "│ 10    │ simulation_9_1  │ 2025-05-28 13:06 │ 9ff4db82-90a0-4f39-a308-73361c5121ba │ Created │ 25         │ 1   │ 1   │\n",
       "│ 11    │ simulation_11_1 │ 2025-05-28 13:06 │ a0f1ca48-4fa7-480e-81dc-2c511e99364e │ Created │ 25         │ 1   │ 1   │\n",
       "│ 12    │ simulation_12_1 │ 2025-05-28 13:06 │ 4488f67d-ae88-4498-badf-a0f0488d662f │ Created │ 25         │ 1   │ 1   │\n",
       "│ 13    │ simulation_14_1 │ 2025-05-28 13:06 │ 770e5911-311a-48f3-8b90-df5dbfbf3953 │ Created │ 25         │ 1   │ 1   │\n",
       "│ 14    │ simulation_13_1 │ 2025-05-28 13:06 │ d1cf9cdd-13bb-48ff-a814-ff26877215db │ Created │ 25         │ 1   │ 1   │\n",
       "│ 15    │ simulation_15_1 │ 2025-05-28 13:06 │ 3602e96b-aa3e-42bd-86eb-9cdda7ad3899 │ Created │ 25         │ 1   │ 1   │\n",
       "│ 16    │ simulation_16_1 │ 2025-05-28 13:06 │ 5970e5ac-e6c8-4930-bba5-ace69647f904 │ Created │ 25         │ 1   │ 1   │\n",
       "└───────┴─────────────────┴──────────────────┴──────────────────────────────────────┴─────────┴────────────┴─────┴─────┘\n",
       "</pre>\n"
      ],
      "text/plain": [
       "\u001b[3m                                                      Simulations                                                       \u001b[0m\n",
       "┏━━━━━━━┳━━━━━━━━━━━━━━━━━┳━━━━━━━━━━━━━━━━━━┳━━━━━━━━━━━━━━━━━━━━━━━━━━━━━━━━━━━━━━┳━━━━━━━━━┳━━━━━━━━━━━━┳━━━━━┳━━━━━┓\n",
       "┃\u001b[1m \u001b[0m\u001b[1mIndex\u001b[0m\u001b[1m \u001b[0m┃\u001b[1m \u001b[0m\u001b[1mName           \u001b[0m\u001b[1m \u001b[0m┃\u001b[1m \u001b[0m\u001b[1mCreated at      \u001b[0m\u001b[1m \u001b[0m┃\u001b[1m \u001b[0m\u001b[1mId                                  \u001b[0m\u001b[1m \u001b[0m┃\u001b[1m \u001b[0m\u001b[1mStatus \u001b[0m\u001b[1m \u001b[0m┃\u001b[1m \u001b[0m\u001b[1mFreq. (Hz)\u001b[0m\u001b[1m \u001b[0m┃\u001b[1m \u001b[0m\u001b[1mRcv\u001b[0m\u001b[1m \u001b[0m┃\u001b[1m \u001b[0m\u001b[1mSrc\u001b[0m\u001b[1m \u001b[0m┃\n",
       "┡━━━━━━━╇━━━━━━━━━━━━━━━━━╇━━━━━━━━━━━━━━━━━━╇━━━━━━━━━━━━━━━━━━━━━━━━━━━━━━━━━━━━━━╇━━━━━━━━━╇━━━━━━━━━━━━╇━━━━━╇━━━━━┩\n",
       "│ 0     │ simulation_0_1  │ 2025-05-28 13:06 │ c0de7417-e669-4b66-8ae1-9536be7cae70 │ Created │ 25         │ 1   │ 1   │\n",
       "│ 1     │ simulation_1_1  │ 2025-05-28 13:06 │ 07ff8966-c67b-4a22-a8b8-c1fe1f210685 │ Created │ 25         │ 1   │ 1   │\n",
       "│ 2     │ simulation_3_1  │ 2025-05-28 13:06 │ 300d6844-5927-4e6d-8230-6865731d0a1f │ Created │ 25         │ 1   │ 1   │\n",
       "│ 3     │ simulation_2_1  │ 2025-05-28 13:06 │ 7279daba-6eb7-4716-bec4-e62043aa0a95 │ Created │ 25         │ 1   │ 1   │\n",
       "│ 4     │ simulation_6_1  │ 2025-05-28 13:06 │ 72a9acf8-cf56-4592-bca8-0f417d950d6a │ Created │ 25         │ 1   │ 1   │\n",
       "│ 5     │ simulation_5_1  │ 2025-05-28 13:06 │ 8757a1e4-49ac-4e9f-bb8d-8c7a25605c40 │ Created │ 25         │ 1   │ 1   │\n",
       "│ 6     │ simulation_7_1  │ 2025-05-28 13:06 │ 920ff9ad-13bf-43b7-95ef-368edc5c1400 │ Created │ 25         │ 1   │ 1   │\n",
       "│ 7     │ simulation_4_1  │ 2025-05-28 13:06 │ b2e8f6c7-5596-40d2-91b1-7fa570921b70 │ Created │ 25         │ 1   │ 1   │\n",
       "│ 8     │ simulation_10_1 │ 2025-05-28 13:06 │ 296da57b-f945-4df2-b625-3d0e9d06f5ac │ Created │ 25         │ 1   │ 1   │\n",
       "│ 9     │ simulation_8_1  │ 2025-05-28 13:06 │ 68148b9b-2329-4964-91fc-2d0c57c9e1a8 │ Created │ 25         │ 1   │ 1   │\n",
       "│ 10    │ simulation_9_1  │ 2025-05-28 13:06 │ 9ff4db82-90a0-4f39-a308-73361c5121ba │ Created │ 25         │ 1   │ 1   │\n",
       "│ 11    │ simulation_11_1 │ 2025-05-28 13:06 │ a0f1ca48-4fa7-480e-81dc-2c511e99364e │ Created │ 25         │ 1   │ 1   │\n",
       "│ 12    │ simulation_12_1 │ 2025-05-28 13:06 │ 4488f67d-ae88-4498-badf-a0f0488d662f │ Created │ 25         │ 1   │ 1   │\n",
       "│ 13    │ simulation_14_1 │ 2025-05-28 13:06 │ 770e5911-311a-48f3-8b90-df5dbfbf3953 │ Created │ 25         │ 1   │ 1   │\n",
       "│ 14    │ simulation_13_1 │ 2025-05-28 13:06 │ d1cf9cdd-13bb-48ff-a814-ff26877215db │ Created │ 25         │ 1   │ 1   │\n",
       "│ 15    │ simulation_15_1 │ 2025-05-28 13:06 │ 3602e96b-aa3e-42bd-86eb-9cdda7ad3899 │ Created │ 25         │ 1   │ 1   │\n",
       "│ 16    │ simulation_16_1 │ 2025-05-28 13:06 │ 5970e5ac-e6c8-4930-bba5-ace69647f904 │ Created │ 25         │ 1   │ 1   │\n",
       "└───────┴─────────────────┴──────────────────┴──────────────────────────────────────┴─────────┴────────────┴─────┴─────┘\n"
      ]
     },
     "metadata": {},
     "output_type": "display_data"
    }
   ],
   "source": [
    "all_sims = project.get_simulations()\n",
    "dd.display(all_sims)"
   ]
  },
  {
   "cell_type": "code",
   "execution_count": 27,
   "id": "f7a75242",
   "metadata": {},
   "outputs": [
    {
     "data": {
      "text/html": [
       "\n",
       "        <iframe\n",
       "            width=\"100%\"\n",
       "            height=\"700\"\n",
       "            src=\"http://127.0.0.1:55660/\"\n",
       "            frameborder=\"0\"\n",
       "            allowfullscreen\n",
       "            \n",
       "        ></iframe>\n",
       "        "
      ],
      "text/plain": [
       "<IPython.lib.display.IFrame at 0x764da9055130>"
      ]
     },
     "metadata": {},
     "output_type": "display_data"
    }
   ],
   "source": [
    "random_sim = random.choice(all_sims)\n",
    "random_sim.plot()"
   ]
  },
  {
   "cell_type": "code",
   "execution_count": 28,
   "id": "9958b0bb",
   "metadata": {},
   "outputs": [
    {
     "data": {
      "text/html": [
       "<pre style=\"white-space:pre;overflow-x:auto;line-height:normal;font-family:Menlo,'DejaVu Sans Mono',consolas,'Courier New',monospace\"><span style=\"font-style: italic\">                               Project 2f84d8f4-d59a-4683-a3d2-a1b732a4af85 estimate                               </span>\n",
       "┏━━━━━━━━━━━━━━━━━━━━━━━━━━━━━━━━━━━━━━━━━━━━━━━━━━━━━━━━┳━━━━━━━━━━━━━━━━━━┳━━━━━━━━━━━━━━━━━━┳━━━━━━━━━━━━━━━━━━┓\n",
       "┃<span style=\"font-weight: bold\">                                                        </span>┃<span style=\"font-weight: bold\">       Simulation </span>┃<span style=\"font-weight: bold\">        Estimated </span>┃<span style=\"font-weight: bold\">   Estimated cost </span>┃\n",
       "┃<span style=\"font-weight: bold\">                                             Simulation </span>┃<span style=\"font-weight: bold\">           status </span>┃<span style=\"font-weight: bold\">  runtime (hours) </span>┃<span style=\"font-weight: bold\">         (tokens) </span>┃\n",
       "┡━━━━━━━━━━━━━━━━━━━━━━━━━━━━━━━━━━━━━━━━━━━━━━━━━━━━━━━━╇━━━━━━━━━━━━━━━━━━╇━━━━━━━━━━━━━━━━━━╇━━━━━━━━━━━━━━━━━━┩\n",
       "│  simulation_0_1 (c0de7417-e669-4b66-8ae1-9536be7cae70) │          Created │<span style=\"color: #800080; text-decoration-color: #800080\">            0.009 </span>│<span style=\"color: #008000; text-decoration-color: #008000\">            0.009 </span>│\n",
       "│  simulation_1_1 (07ff8966-c67b-4a22-a8b8-c1fe1f210685) │          Created │<span style=\"color: #800080; text-decoration-color: #800080\">             0.02 </span>│<span style=\"color: #008000; text-decoration-color: #008000\">             0.02 </span>│\n",
       "│  simulation_3_1 (300d6844-5927-4e6d-8230-6865731d0a1f) │          Created │<span style=\"color: #800080; text-decoration-color: #800080\">            0.048 </span>│<span style=\"color: #008000; text-decoration-color: #008000\">            0.048 </span>│\n",
       "│  simulation_2_1 (7279daba-6eb7-4716-bec4-e62043aa0a95) │          Created │<span style=\"color: #800080; text-decoration-color: #800080\">            0.025 </span>│<span style=\"color: #008000; text-decoration-color: #008000\">            0.025 </span>│\n",
       "│  simulation_6_1 (72a9acf8-cf56-4592-bca8-0f417d950d6a) │          Created │<span style=\"color: #800080; text-decoration-color: #800080\">            0.019 </span>│<span style=\"color: #008000; text-decoration-color: #008000\">            0.019 </span>│\n",
       "│  simulation_5_1 (8757a1e4-49ac-4e9f-bb8d-8c7a25605c40) │          Created │<span style=\"color: #800080; text-decoration-color: #800080\">            0.022 </span>│<span style=\"color: #008000; text-decoration-color: #008000\">            0.022 </span>│\n",
       "│  simulation_7_1 (920ff9ad-13bf-43b7-95ef-368edc5c1400) │          Created │<span style=\"color: #800080; text-decoration-color: #800080\">            0.035 </span>│<span style=\"color: #008000; text-decoration-color: #008000\">            0.035 </span>│\n",
       "│  simulation_4_1 (b2e8f6c7-5596-40d2-91b1-7fa570921b70) │          Created │<span style=\"color: #800080; text-decoration-color: #800080\">            0.014 </span>│<span style=\"color: #008000; text-decoration-color: #008000\">            0.014 </span>│\n",
       "│ simulation_10_1 (296da57b-f945-4df2-b625-3d0e9d06f5ac) │          Created │<span style=\"color: #800080; text-decoration-color: #800080\">            0.015 </span>│<span style=\"color: #008000; text-decoration-color: #008000\">            0.015 </span>│\n",
       "│  simulation_8_1 (68148b9b-2329-4964-91fc-2d0c57c9e1a8) │          Created │<span style=\"color: #800080; text-decoration-color: #800080\">             0.01 </span>│<span style=\"color: #008000; text-decoration-color: #008000\">             0.01 </span>│\n",
       "│  simulation_9_1 (9ff4db82-90a0-4f39-a308-73361c5121ba) │          Created │<span style=\"color: #800080; text-decoration-color: #800080\">            0.022 </span>│<span style=\"color: #008000; text-decoration-color: #008000\">            0.022 </span>│\n",
       "│ simulation_11_1 (a0f1ca48-4fa7-480e-81dc-2c511e99364e) │          Created │<span style=\"color: #800080; text-decoration-color: #800080\">            0.022 </span>│<span style=\"color: #008000; text-decoration-color: #008000\">            0.022 </span>│\n",
       "│ simulation_12_1 (4488f67d-ae88-4498-badf-a0f0488d662f) │          Created │<span style=\"color: #800080; text-decoration-color: #800080\">            0.027 </span>│<span style=\"color: #008000; text-decoration-color: #008000\">            0.027 </span>│\n",
       "│ simulation_14_1 (770e5911-311a-48f3-8b90-df5dbfbf3953) │          Created │<span style=\"color: #800080; text-decoration-color: #800080\">            0.042 </span>│<span style=\"color: #008000; text-decoration-color: #008000\">            0.042 </span>│\n",
       "│ simulation_13_1 (d1cf9cdd-13bb-48ff-a814-ff26877215db) │          Created │<span style=\"color: #800080; text-decoration-color: #800080\">            0.013 </span>│<span style=\"color: #008000; text-decoration-color: #008000\">            0.013 </span>│\n",
       "│ simulation_15_1 (3602e96b-aa3e-42bd-86eb-9cdda7ad3899) │          Created │<span style=\"color: #800080; text-decoration-color: #800080\">            0.014 </span>│<span style=\"color: #008000; text-decoration-color: #008000\">            0.014 </span>│\n",
       "│ simulation_16_1 (5970e5ac-e6c8-4930-bba5-ace69647f904) │          Created │<span style=\"color: #800080; text-decoration-color: #800080\">            0.024 </span>│<span style=\"color: #008000; text-decoration-color: #008000\">            0.024 </span>│\n",
       "├────────────────────────────────────────────────────────┼──────────────────┼──────────────────┼──────────────────┤\n",
       "│<span style=\"font-weight: bold\">                                                  Total </span>│<span style=\"font-weight: bold\">                  </span>│<span style=\"font-weight: bold\">            </span><span style=\"color: #800080; text-decoration-color: #800080; font-weight: bold\">0.048</span><span style=\"font-weight: bold\"> </span>│<span style=\"font-weight: bold\">            </span><span style=\"color: #008000; text-decoration-color: #008000; font-weight: bold\">0.381</span><span style=\"font-weight: bold\"> </span>│\n",
       "└────────────────────────────────────────────────────────┴──────────────────┴──────────────────┴──────────────────┘\n",
       "</pre>\n"
      ],
      "text/plain": [
       "\u001b[3m                               Project 2f84d8f4-d59a-4683-a3d2-a1b732a4af85 estimate                               \u001b[0m\n",
       "┏━━━━━━━━━━━━━━━━━━━━━━━━━━━━━━━━━━━━━━━━━━━━━━━━━━━━━━━━┳━━━━━━━━━━━━━━━━━━┳━━━━━━━━━━━━━━━━━━┳━━━━━━━━━━━━━━━━━━┓\n",
       "┃\u001b[1m                                                        \u001b[0m┃\u001b[1m \u001b[0m\u001b[1m      Simulation\u001b[0m\u001b[1m \u001b[0m┃\u001b[1m \u001b[0m\u001b[1m       Estimated\u001b[0m\u001b[1m \u001b[0m┃\u001b[1m \u001b[0m\u001b[1m  Estimated cost\u001b[0m\u001b[1m \u001b[0m┃\n",
       "┃\u001b[1m \u001b[0m\u001b[1m                                            Simulation\u001b[0m\u001b[1m \u001b[0m┃\u001b[1m \u001b[0m\u001b[1m          status\u001b[0m\u001b[1m \u001b[0m┃\u001b[1m \u001b[0m\u001b[1m runtime (hours)\u001b[0m\u001b[1m \u001b[0m┃\u001b[1m \u001b[0m\u001b[1m        (tokens)\u001b[0m\u001b[1m \u001b[0m┃\n",
       "┡━━━━━━━━━━━━━━━━━━━━━━━━━━━━━━━━━━━━━━━━━━━━━━━━━━━━━━━━╇━━━━━━━━━━━━━━━━━━╇━━━━━━━━━━━━━━━━━━╇━━━━━━━━━━━━━━━━━━┩\n",
       "│  simulation_0_1 (c0de7417-e669-4b66-8ae1-9536be7cae70) │          Created │\u001b[35m \u001b[0m\u001b[35m           0.009\u001b[0m\u001b[35m \u001b[0m│\u001b[32m \u001b[0m\u001b[32m           0.009\u001b[0m\u001b[32m \u001b[0m│\n",
       "│  simulation_1_1 (07ff8966-c67b-4a22-a8b8-c1fe1f210685) │          Created │\u001b[35m \u001b[0m\u001b[35m            0.02\u001b[0m\u001b[35m \u001b[0m│\u001b[32m \u001b[0m\u001b[32m            0.02\u001b[0m\u001b[32m \u001b[0m│\n",
       "│  simulation_3_1 (300d6844-5927-4e6d-8230-6865731d0a1f) │          Created │\u001b[35m \u001b[0m\u001b[35m           0.048\u001b[0m\u001b[35m \u001b[0m│\u001b[32m \u001b[0m\u001b[32m           0.048\u001b[0m\u001b[32m \u001b[0m│\n",
       "│  simulation_2_1 (7279daba-6eb7-4716-bec4-e62043aa0a95) │          Created │\u001b[35m \u001b[0m\u001b[35m           0.025\u001b[0m\u001b[35m \u001b[0m│\u001b[32m \u001b[0m\u001b[32m           0.025\u001b[0m\u001b[32m \u001b[0m│\n",
       "│  simulation_6_1 (72a9acf8-cf56-4592-bca8-0f417d950d6a) │          Created │\u001b[35m \u001b[0m\u001b[35m           0.019\u001b[0m\u001b[35m \u001b[0m│\u001b[32m \u001b[0m\u001b[32m           0.019\u001b[0m\u001b[32m \u001b[0m│\n",
       "│  simulation_5_1 (8757a1e4-49ac-4e9f-bb8d-8c7a25605c40) │          Created │\u001b[35m \u001b[0m\u001b[35m           0.022\u001b[0m\u001b[35m \u001b[0m│\u001b[32m \u001b[0m\u001b[32m           0.022\u001b[0m\u001b[32m \u001b[0m│\n",
       "│  simulation_7_1 (920ff9ad-13bf-43b7-95ef-368edc5c1400) │          Created │\u001b[35m \u001b[0m\u001b[35m           0.035\u001b[0m\u001b[35m \u001b[0m│\u001b[32m \u001b[0m\u001b[32m           0.035\u001b[0m\u001b[32m \u001b[0m│\n",
       "│  simulation_4_1 (b2e8f6c7-5596-40d2-91b1-7fa570921b70) │          Created │\u001b[35m \u001b[0m\u001b[35m           0.014\u001b[0m\u001b[35m \u001b[0m│\u001b[32m \u001b[0m\u001b[32m           0.014\u001b[0m\u001b[32m \u001b[0m│\n",
       "│ simulation_10_1 (296da57b-f945-4df2-b625-3d0e9d06f5ac) │          Created │\u001b[35m \u001b[0m\u001b[35m           0.015\u001b[0m\u001b[35m \u001b[0m│\u001b[32m \u001b[0m\u001b[32m           0.015\u001b[0m\u001b[32m \u001b[0m│\n",
       "│  simulation_8_1 (68148b9b-2329-4964-91fc-2d0c57c9e1a8) │          Created │\u001b[35m \u001b[0m\u001b[35m            0.01\u001b[0m\u001b[35m \u001b[0m│\u001b[32m \u001b[0m\u001b[32m            0.01\u001b[0m\u001b[32m \u001b[0m│\n",
       "│  simulation_9_1 (9ff4db82-90a0-4f39-a308-73361c5121ba) │          Created │\u001b[35m \u001b[0m\u001b[35m           0.022\u001b[0m\u001b[35m \u001b[0m│\u001b[32m \u001b[0m\u001b[32m           0.022\u001b[0m\u001b[32m \u001b[0m│\n",
       "│ simulation_11_1 (a0f1ca48-4fa7-480e-81dc-2c511e99364e) │          Created │\u001b[35m \u001b[0m\u001b[35m           0.022\u001b[0m\u001b[35m \u001b[0m│\u001b[32m \u001b[0m\u001b[32m           0.022\u001b[0m\u001b[32m \u001b[0m│\n",
       "│ simulation_12_1 (4488f67d-ae88-4498-badf-a0f0488d662f) │          Created │\u001b[35m \u001b[0m\u001b[35m           0.027\u001b[0m\u001b[35m \u001b[0m│\u001b[32m \u001b[0m\u001b[32m           0.027\u001b[0m\u001b[32m \u001b[0m│\n",
       "│ simulation_14_1 (770e5911-311a-48f3-8b90-df5dbfbf3953) │          Created │\u001b[35m \u001b[0m\u001b[35m           0.042\u001b[0m\u001b[35m \u001b[0m│\u001b[32m \u001b[0m\u001b[32m           0.042\u001b[0m\u001b[32m \u001b[0m│\n",
       "│ simulation_13_1 (d1cf9cdd-13bb-48ff-a814-ff26877215db) │          Created │\u001b[35m \u001b[0m\u001b[35m           0.013\u001b[0m\u001b[35m \u001b[0m│\u001b[32m \u001b[0m\u001b[32m           0.013\u001b[0m\u001b[32m \u001b[0m│\n",
       "│ simulation_15_1 (3602e96b-aa3e-42bd-86eb-9cdda7ad3899) │          Created │\u001b[35m \u001b[0m\u001b[35m           0.014\u001b[0m\u001b[35m \u001b[0m│\u001b[32m \u001b[0m\u001b[32m           0.014\u001b[0m\u001b[32m \u001b[0m│\n",
       "│ simulation_16_1 (5970e5ac-e6c8-4930-bba5-ace69647f904) │          Created │\u001b[35m \u001b[0m\u001b[35m           0.024\u001b[0m\u001b[35m \u001b[0m│\u001b[32m \u001b[0m\u001b[32m           0.024\u001b[0m\u001b[32m \u001b[0m│\n",
       "├────────────────────────────────────────────────────────┼──────────────────┼──────────────────┼──────────────────┤\n",
       "│\u001b[1m \u001b[0m\u001b[1m                                                 \u001b[0m\u001b[1mTotal\u001b[0m\u001b[1m \u001b[0m│\u001b[1m \u001b[0m\u001b[1m                \u001b[0m\u001b[1m \u001b[0m│\u001b[1m \u001b[0m\u001b[1m           \u001b[0m\u001b[1;35m0.048\u001b[0m\u001b[1m \u001b[0m│\u001b[1m \u001b[0m\u001b[1m           \u001b[0m\u001b[1;32m0.381\u001b[0m\u001b[1m \u001b[0m│\n",
       "└────────────────────────────────────────────────────────┴──────────────────┴──────────────────┴──────────────────┘\n"
      ]
     },
     "metadata": {},
     "output_type": "display_data"
    }
   ],
   "source": [
    "runtime_estimate = project.estimate()\n",
    "dd.display(runtime_estimate)\n"
   ]
  },
  {
   "cell_type": "code",
   "execution_count": 29,
   "id": "1fdb41e2",
   "metadata": {},
   "outputs": [
    {
     "data": {
      "text/html": [
       "<pre style=\"white-space:pre;overflow-x:auto;line-height:normal;font-family:Menlo,'DejaVu Sans Mono',consolas,'Courier New',monospace\"><span style=\"font-style: italic\">                                     ertsi_10                                      </span>\n",
       "┏━━━━━━━━━━━━━━━━━┳━━━━━━━━━━━━━━━━━━━━━━━━━━━━━━━━━━━━━━┳━━━━━━━━━━━┳━━━━━━━━━━━━┓\n",
       "┃<span style=\"font-weight: bold\"> Simulation Name </span>┃<span style=\"font-weight: bold\"> Id                                   </span>┃<span style=\"font-weight: bold\"> Status    </span>┃<span style=\"font-weight: bold\"> Progress % </span>┃\n",
       "┡━━━━━━━━━━━━━━━━━╇━━━━━━━━━━━━━━━━━━━━━━━━━━━━━━━━━━━━━━╇━━━━━━━━━━━╇━━━━━━━━━━━━┩\n",
       "│ simulation_1_1  │ 07ff8966-c67b-4a22-a8b8-c1fe1f210685 │ <span style=\"color: #008000; text-decoration-color: #008000\">Completed</span> │ 100%       │\n",
       "│ simulation_10_1 │ 296da57b-f945-4df2-b625-3d0e9d06f5ac │ <span style=\"color: #008000; text-decoration-color: #008000\">Completed</span> │ 100%       │\n",
       "│ simulation_3_1  │ 300d6844-5927-4e6d-8230-6865731d0a1f │ <span style=\"color: #008000; text-decoration-color: #008000\">Completed</span> │ 100%       │\n",
       "│ simulation_15_1 │ 3602e96b-aa3e-42bd-86eb-9cdda7ad3899 │ <span style=\"color: #008000; text-decoration-color: #008000\">Completed</span> │ 100%       │\n",
       "│ simulation_12_1 │ 4488f67d-ae88-4498-badf-a0f0488d662f │ <span style=\"color: #008000; text-decoration-color: #008000\">Completed</span> │ 100%       │\n",
       "│ simulation_16_1 │ 5970e5ac-e6c8-4930-bba5-ace69647f904 │ <span style=\"color: #008000; text-decoration-color: #008000\">Completed</span> │ 100%       │\n",
       "│ simulation_8_1  │ 68148b9b-2329-4964-91fc-2d0c57c9e1a8 │ <span style=\"color: #008000; text-decoration-color: #008000\">Completed</span> │ 100%       │\n",
       "│ simulation_2_1  │ 7279daba-6eb7-4716-bec4-e62043aa0a95 │ <span style=\"color: #008000; text-decoration-color: #008000\">Completed</span> │ 100%       │\n",
       "│ simulation_6_1  │ 72a9acf8-cf56-4592-bca8-0f417d950d6a │ <span style=\"color: #008000; text-decoration-color: #008000\">Completed</span> │ 100%       │\n",
       "│ simulation_14_1 │ 770e5911-311a-48f3-8b90-df5dbfbf3953 │ <span style=\"color: #008000; text-decoration-color: #008000\">Completed</span> │ 100%       │\n",
       "│ simulation_5_1  │ 8757a1e4-49ac-4e9f-bb8d-8c7a25605c40 │ <span style=\"color: #008000; text-decoration-color: #008000\">Completed</span> │ 100%       │\n",
       "│ simulation_7_1  │ 920ff9ad-13bf-43b7-95ef-368edc5c1400 │ <span style=\"color: #008000; text-decoration-color: #008000\">Completed</span> │ 100%       │\n",
       "│ simulation_9_1  │ 9ff4db82-90a0-4f39-a308-73361c5121ba │ <span style=\"color: #008000; text-decoration-color: #008000\">Completed</span> │ 100%       │\n",
       "│ simulation_11_1 │ a0f1ca48-4fa7-480e-81dc-2c511e99364e │ <span style=\"color: #008000; text-decoration-color: #008000\">Completed</span> │ 100%       │\n",
       "│ simulation_4_1  │ b2e8f6c7-5596-40d2-91b1-7fa570921b70 │ <span style=\"color: #008000; text-decoration-color: #008000\">Completed</span> │ 100%       │\n",
       "│ simulation_0_1  │ c0de7417-e669-4b66-8ae1-9536be7cae70 │ <span style=\"color: #008000; text-decoration-color: #008000\">Completed</span> │ 100%       │\n",
       "│ simulation_13_1 │ d1cf9cdd-13bb-48ff-a814-ff26877215db │ <span style=\"color: #008000; text-decoration-color: #008000\">Completed</span> │ 100%       │\n",
       "├─────────────────┼──────────────────────────────────────┼───────────┼────────────┤\n",
       "│<span style=\"font-weight: bold\">                 </span>│<span style=\"font-weight: bold\">                                      </span>│<span style=\"font-weight: bold\"> </span><span style=\"color: #008000; text-decoration-color: #008000; font-weight: bold\">Completed</span><span style=\"font-weight: bold\"> </span>│<span style=\"font-weight: bold\"> 100%       </span>│\n",
       "└─────────────────┴──────────────────────────────────────┴───────────┴────────────┘\n",
       "</pre>\n"
      ],
      "text/plain": [
       "\u001b[3m                                     ertsi_10                                      \u001b[0m\n",
       "┏━━━━━━━━━━━━━━━━━┳━━━━━━━━━━━━━━━━━━━━━━━━━━━━━━━━━━━━━━┳━━━━━━━━━━━┳━━━━━━━━━━━━┓\n",
       "┃\u001b[1m \u001b[0m\u001b[1mSimulation Name\u001b[0m\u001b[1m \u001b[0m┃\u001b[1m \u001b[0m\u001b[1mId                                  \u001b[0m\u001b[1m \u001b[0m┃\u001b[1m \u001b[0m\u001b[1mStatus   \u001b[0m\u001b[1m \u001b[0m┃\u001b[1m \u001b[0m\u001b[1mProgress %\u001b[0m\u001b[1m \u001b[0m┃\n",
       "┡━━━━━━━━━━━━━━━━━╇━━━━━━━━━━━━━━━━━━━━━━━━━━━━━━━━━━━━━━╇━━━━━━━━━━━╇━━━━━━━━━━━━┩\n",
       "│ simulation_1_1  │ 07ff8966-c67b-4a22-a8b8-c1fe1f210685 │ \u001b[32mCompleted\u001b[0m │ 100%       │\n",
       "│ simulation_10_1 │ 296da57b-f945-4df2-b625-3d0e9d06f5ac │ \u001b[32mCompleted\u001b[0m │ 100%       │\n",
       "│ simulation_3_1  │ 300d6844-5927-4e6d-8230-6865731d0a1f │ \u001b[32mCompleted\u001b[0m │ 100%       │\n",
       "│ simulation_15_1 │ 3602e96b-aa3e-42bd-86eb-9cdda7ad3899 │ \u001b[32mCompleted\u001b[0m │ 100%       │\n",
       "│ simulation_12_1 │ 4488f67d-ae88-4498-badf-a0f0488d662f │ \u001b[32mCompleted\u001b[0m │ 100%       │\n",
       "│ simulation_16_1 │ 5970e5ac-e6c8-4930-bba5-ace69647f904 │ \u001b[32mCompleted\u001b[0m │ 100%       │\n",
       "│ simulation_8_1  │ 68148b9b-2329-4964-91fc-2d0c57c9e1a8 │ \u001b[32mCompleted\u001b[0m │ 100%       │\n",
       "│ simulation_2_1  │ 7279daba-6eb7-4716-bec4-e62043aa0a95 │ \u001b[32mCompleted\u001b[0m │ 100%       │\n",
       "│ simulation_6_1  │ 72a9acf8-cf56-4592-bca8-0f417d950d6a │ \u001b[32mCompleted\u001b[0m │ 100%       │\n",
       "│ simulation_14_1 │ 770e5911-311a-48f3-8b90-df5dbfbf3953 │ \u001b[32mCompleted\u001b[0m │ 100%       │\n",
       "│ simulation_5_1  │ 8757a1e4-49ac-4e9f-bb8d-8c7a25605c40 │ \u001b[32mCompleted\u001b[0m │ 100%       │\n",
       "│ simulation_7_1  │ 920ff9ad-13bf-43b7-95ef-368edc5c1400 │ \u001b[32mCompleted\u001b[0m │ 100%       │\n",
       "│ simulation_9_1  │ 9ff4db82-90a0-4f39-a308-73361c5121ba │ \u001b[32mCompleted\u001b[0m │ 100%       │\n",
       "│ simulation_11_1 │ a0f1ca48-4fa7-480e-81dc-2c511e99364e │ \u001b[32mCompleted\u001b[0m │ 100%       │\n",
       "│ simulation_4_1  │ b2e8f6c7-5596-40d2-91b1-7fa570921b70 │ \u001b[32mCompleted\u001b[0m │ 100%       │\n",
       "│ simulation_0_1  │ c0de7417-e669-4b66-8ae1-9536be7cae70 │ \u001b[32mCompleted\u001b[0m │ 100%       │\n",
       "│ simulation_13_1 │ d1cf9cdd-13bb-48ff-a814-ff26877215db │ \u001b[32mCompleted\u001b[0m │ 100%       │\n",
       "├─────────────────┼──────────────────────────────────────┼───────────┼────────────┤\n",
       "│\u001b[1m \u001b[0m\u001b[1m               \u001b[0m\u001b[1m \u001b[0m│\u001b[1m \u001b[0m\u001b[1m                                    \u001b[0m\u001b[1m \u001b[0m│\u001b[1m \u001b[0m\u001b[1;32mCompleted\u001b[0m\u001b[1m \u001b[0m│\u001b[1m \u001b[0m\u001b[1m100%      \u001b[0m\u001b[1m \u001b[0m│\n",
       "└─────────────────┴──────────────────────────────────────┴───────────┴────────────┘\n"
      ]
     },
     "metadata": {},
     "output_type": "display_data"
    },
    {
     "data": {
      "text/html": [
       "<pre style=\"white-space:pre;overflow-x:auto;line-height:normal;font-family:Menlo,'DejaVu Sans Mono',consolas,'Courier New',monospace\">Done\n",
       "</pre>\n"
      ],
      "text/plain": [
       "Done\n"
      ]
     },
     "metadata": {},
     "output_type": "display_data"
    }
   ],
   "source": [
    "project.start_simulations()\n",
    "project.as_live_progress()"
   ]
  },
  {
   "cell_type": "code",
   "execution_count": 30,
   "id": "b0083bc0",
   "metadata": {},
   "outputs": [
    {
     "name": "stderr",
     "output_type": "stream",
     "text": [
      "/home/leo/projects/repos/ertsi/generation/.venv/lib/python3.13/site-packages/tqdm/auto.py:21: TqdmWarning:\n",
      "\n",
      "IProgress not found. Please update jupyter and ipywidgets. See https://ipywidgets.readthedocs.io/en/stable/user_install.html\n",
      "\n",
      "Download simulation c0de7417-e669-4b66-8ae1-9536be7cae70: 100%|██████████| 2/2 tasks\n",
      "Download simulation 07ff8966-c67b-4a22-a8b8-c1fe1f210685: 100%|██████████| 2/2 tasks\n",
      "Download simulation 300d6844-5927-4e6d-8230-6865731d0a1f: 100%|██████████| 2/2 tasks\n",
      "Download simulation 7279daba-6eb7-4716-bec4-e62043aa0a95: 100%|██████████| 2/2 tasks\n",
      "Download simulation 72a9acf8-cf56-4592-bca8-0f417d950d6a: 100%|██████████| 2/2 tasks\n",
      "Download simulation 8757a1e4-49ac-4e9f-bb8d-8c7a25605c40: 100%|██████████| 2/2 tasks\n",
      "Download simulation 920ff9ad-13bf-43b7-95ef-368edc5c1400: 100%|██████████| 2/2 tasks\n",
      "Download simulation b2e8f6c7-5596-40d2-91b1-7fa570921b70: 100%|██████████| 2/2 tasks\n",
      "Download simulation 296da57b-f945-4df2-b625-3d0e9d06f5ac: 100%|██████████| 2/2 tasks\n",
      "Download simulation 68148b9b-2329-4964-91fc-2d0c57c9e1a8:   0%|          | 0/2 tasks\n",
      "\u001b[A\n",
      "Download simulation 68148b9b-2329-4964-91fc-2d0c57c9e1a8: 100%|██████████| 2/2 tasks\n",
      "Download simulation 9ff4db82-90a0-4f39-a308-73361c5121ba: 100%|██████████| 2/2 tasks\n",
      "Download simulation a0f1ca48-4fa7-480e-81dc-2c511e99364e: 100%|██████████| 2/2 tasks\n",
      "Download simulation 4488f67d-ae88-4498-badf-a0f0488d662f: 100%|██████████| 2/2 tasks\n",
      "Download simulation 770e5911-311a-48f3-8b90-df5dbfbf3953: 100%|██████████| 2/2 tasks\n",
      "Download simulation d1cf9cdd-13bb-48ff-a814-ff26877215db: 100%|██████████| 2/2 tasks\n",
      "Download simulation 3602e96b-aa3e-42bd-86eb-9cdda7ad3899: 100%|██████████| 2/2 tasks\n",
      "Download simulation 5970e5ac-e6c8-4930-bba5-ace69647f904: 100%|██████████| 2/2 tasks\n"
     ]
    }
   ],
   "source": [
    "for sim, room in zip(all_sims, rooms_data):\n",
    "    room_name = room[\"room_name\"]\n",
    "    \n",
    "    try:\n",
    "        r = sim.download_results(f'data/{room_name}')\n",
    "    except ValueError as e:\n",
    "        print(f\"Room {room_name} already exists, skipping download.\")\n",
    "        r = None"
   ]
  },
  {
   "cell_type": "code",
   "execution_count": 31,
   "id": "4bc5038d",
   "metadata": {},
   "outputs": [],
   "source": [
    "for simulation, room in zip(all_sims, rooms_data):\n",
    "    try:\n",
    "        results = simulation.get_results_object(f'data/{room[\"room_name\"]}')\n",
    "        if not results:\n",
    "            print(f\"No results found for room {room['room_name']}\")\n",
    "            continue\n",
    "        mono_ir = results.get_mono_ir(source=simulation.sources[0], receiver=simulation.receivers[0])\n",
    "        mono_ir.write_to_wav(path_to_file=f\"data/{room['room_name']}/ir.wav\")\n",
    "    except KeyError as e:\n",
    "        print(f\"Results not found for room {room['room_name']}: {e}\")\n"
   ]
  }
 ],
 "metadata": {
  "kernelspec": {
   "display_name": ".venv",
   "language": "python",
   "name": "python3"
  },
  "language_info": {
   "codemirror_mode": {
    "name": "ipython",
    "version": 3
   },
   "file_extension": ".py",
   "mimetype": "text/x-python",
   "name": "python",
   "nbconvert_exporter": "python",
   "pygments_lexer": "ipython3",
   "version": "3.13.3"
  }
 },
 "nbformat": 4,
 "nbformat_minor": 5
}
