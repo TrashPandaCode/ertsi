{
 "cells": [
  {
   "cell_type": "code",
   "execution_count": 1,
   "id": "6a009b62",
   "metadata": {},
   "outputs": [],
   "source": [
    "from treble_tsdk.tsdk import TSDK, TSDKCredentials\n",
    "from treble_tsdk import display_data as dd\n",
    "from treble_tsdk import treble\n",
    "import random\n",
    "import json\n",
    "from tqdm import tqdm\n",
    "import glob\n",
    "import math\n",
    "from typing import List, Tuple\n",
    "from collections import defaultdict"
   ]
  },
  {
   "cell_type": "code",
   "execution_count": 2,
   "id": "6eeb1926",
   "metadata": {},
   "outputs": [
    {
     "name": "stderr",
     "output_type": "stream",
     "text": [
      "Loading room data: 100%|██████████| 1/1 [00:00<00:00, 6636.56it/s]\n"
     ]
    },
    {
     "name": "stdout",
     "output_type": "stream",
     "text": [
      "== SDK package is up to date ==\n"
     ]
    }
   ],
   "source": [
    "data_dir = \"data\"\n",
    "\n",
    "rooms_data = []\n",
    "for filename in tqdm(glob.glob(f\"{data_dir}/**/*.json\", recursive=True), desc=\"Loading room data\"):\n",
    "    with open(filename, \"r\") as f:\n",
    "        data = json.load(f)\n",
    "        rooms_data.append(data)\n",
    "\n",
    "tsdk = TSDK(TSDKCredentials.from_file(\"./creds/tsdk.cred\"))\n"
   ]
  },
  {
   "cell_type": "code",
   "execution_count": 3,
   "id": "e64484c4",
   "metadata": {},
   "outputs": [],
   "source": [
    "project = tsdk.get_or_create_project(\"ertsi_0\")"
   ]
  },
  {
   "cell_type": "code",
   "execution_count": 57,
   "id": "0414bf0f",
   "metadata": {},
   "outputs": [],
   "source": [
    "def sort_edge_loop(room_verts: List[List[float]]) -> List[List[float]]:\n",
    "    verts = [tuple(v) for v in room_verts]\n",
    "    adj = defaultdict(list)\n",
    "\n",
    "    def is_neighbor(a, b, tol=1e-5):\n",
    "        dx = abs(a[0] - b[0])\n",
    "        dy = abs(a[1] - b[1])\n",
    "        return (dx == 0 or dy == 0) and (dx + dy) > tol and (dx + dy) < 10  # Adjust threshold if needed\n",
    "\n",
    "    # Build adjacency list\n",
    "    for i, vi in enumerate(verts):\n",
    "        for j, vj in enumerate(verts):\n",
    "            if i != j and is_neighbor(vi, vj):\n",
    "                adj[vi].append(vj)\n",
    "\n",
    "    # Define direction vectors\n",
    "    DIRS = {\n",
    "        (1, 0): 0,   # Right\n",
    "        (0, 1): 1,   # Up\n",
    "        (-1, 0): 2,  # Left\n",
    "        (0, -1): 3   # Down\n",
    "    }\n",
    "\n",
    "    def vec_dir(from_pt, to_pt):\n",
    "        dx = int(math.copysign(1, to_pt[0] - from_pt[0]) if to_pt[0] != from_pt[0] else 0)\n",
    "        dy = int(math.copysign(1, to_pt[1] - from_pt[1]) if to_pt[1] != from_pt[1] else 0)\n",
    "        return (dx, dy)\n",
    "\n",
    "    # Start from lowest-left point\n",
    "    start = min(verts, key=lambda v: (v[1], v[0]))\n",
    "    current = start\n",
    "    prev = (start[0] - 1, start[1])  # Fake previous point to imply initial direction is right\n",
    "    loop = [current]\n",
    "    visited = set([current])\n",
    "\n",
    "    while True:\n",
    "        # Determine direction\n",
    "        direction = vec_dir(prev, current)\n",
    "        # Sort neighbors in clockwise order starting from current direction\n",
    "        neighbors = adj[current]\n",
    "\n",
    "        def angle_from_dir(n):\n",
    "            v = vec_dir(current, n)\n",
    "            return (DIRS[v] - DIRS[direction]) % 4  # 0 = straight, 1 = right turn, etc.\n",
    "\n",
    "        neighbors_sorted = sorted(neighbors, key=angle_from_dir)\n",
    "\n",
    "        for n in neighbors_sorted:\n",
    "            if n != prev:\n",
    "                if n == start and len(loop) > 2:\n",
    "                    return [list(v) for v in loop]  # Closed loop\n",
    "                if n not in visited or len(loop) >= len(verts):\n",
    "                    loop.append(n)\n",
    "                    prev, current = current, n\n",
    "                    visited.add(n)\n",
    "                    break\n",
    "        else:\n",
    "            break\n",
    "\n",
    "    return [list(v) for v in loop]"
   ]
  },
  {
   "cell_type": "code",
   "execution_count": null,
   "id": "b3c80eef",
   "metadata": {},
   "outputs": [
    {
     "name": "stdout",
     "output_type": "stream",
     "text": [
      "Room 0: [[-3.0, -2.0], [2.0, -2.0], [2.0, 2.0], [2.0, 5.0], [2.0, 7.0], [2.0, 11.498441696166992], [-3.0, 11.498441696166992], [-3.0, 2.0]]\n"
     ]
    },
    {
     "data": {
      "text/plain": [
       "[GeometryDefinition(geometry_component_count=0.]"
      ]
     },
     "execution_count": 58,
     "metadata": {},
     "output_type": "execute_result"
    }
   ],
   "source": [
    "room_definitions = []\n",
    "for i, room_data in enumerate(rooms_data):\n",
    "    edge_points_hexagon = sort_edge_loop(room_data[\"room_verts\"])\n",
    "    room_height = 3\n",
    "    room = treble.GeometryDefinitionGenerator.create_polygon_room(\n",
    "        points_xy=edge_points_hexagon, height_z=room_height, join_wall_layers=True\n",
    "    )\n",
    "\n",
    "    room_definitions.append(room)\n",
    "room_definitions"
   ]
  },
  {
   "cell_type": "code",
   "execution_count": 29,
   "id": "2dec96ae",
   "metadata": {},
   "outputs": [
    {
     "name": "stdout",
     "output_type": "stream",
     "text": [
      "=== Populating rooms with geometry components ===\n"
     ]
    },
    {
     "name": "stderr",
     "output_type": "stream",
     "text": [
      "1it [00:02,  2.30s/it]\n"
     ]
    }
   ],
   "source": [
    "generated_rooms = []\n",
    "\n",
    "print(\"=== Populating rooms with geometry components ===\")\n",
    "for i, (room_def, room_data) in tqdm(enumerate(zip(room_definitions, rooms_data))):\n",
    "    room_def.clear_geometry_components()\n",
    "    placements = [\n",
    "        treble.GeometryComponentPlacement(\n",
    "            components=tsdk.geometry_component_library.query(group=\"desk\"),\n",
    "            preferred_count=room_data[\"desk_count\"],\n",
    "            rotation_settings=treble.ComponentAnglePool([0, 90, 180, 270]),\n",
    "            min_dist_from_objects=0.5,\n",
    "            min_dist_from_walls=0.5,\n",
    "        ),\n",
    "        treble.GeometryComponentPlacement(\n",
    "            components=tsdk.geometry_component_library.query(group=\"chair\"),\n",
    "            preferred_count=room_data[\"chair_count\"],\n",
    "            rotation_settings=treble.ComponentAnglePool([0, 90, 180, 270]),\n",
    "            min_dist_from_objects=0.5,\n",
    "            min_dist_from_walls=0.5,\n",
    "        )\n",
    "    ]\n",
    "    room_def.populate_with_geometry_components(\n",
    "        components=placements,\n",
    "        selection_algorithm=treble.ComponentSelectionAlgorithm.random,\n",
    "    )\n",
    "\n",
    "    model = project.add_model(f\"room_{i}_10\", room_def)\n",
    "    generated_rooms.append(model)"
   ]
  },
  {
   "cell_type": "code",
   "execution_count": 53,
   "id": "d1fe77c5",
   "metadata": {},
   "outputs": [
    {
     "data": {
      "text/html": [
       "\n",
       "        <iframe\n",
       "            width=\"100%\"\n",
       "            height=\"700\"\n",
       "            src=\"http://127.0.0.1:55660/\"\n",
       "            frameborder=\"0\"\n",
       "            allowfullscreen\n",
       "            \n",
       "        ></iframe>\n",
       "        "
      ],
      "text/plain": [
       "<IPython.lib.display.IFrame at 0x7a02b88add10>"
      ]
     },
     "metadata": {},
     "output_type": "display_data"
    }
   ],
   "source": [
    "random_model = random.choice(generated_rooms)\n",
    "random_model.plot()"
   ]
  },
  {
   "cell_type": "code",
   "execution_count": 80,
   "id": "ace80ab5",
   "metadata": {},
   "outputs": [
    {
     "name": "stderr",
     "output_type": "stream",
     "text": [
      "1it [00:00, 1969.16it/s]\n"
     ]
    },
    {
     "data": {
      "text/html": [
       "<pre style=\"white-space:pre;overflow-x:auto;line-height:normal;font-family:Menlo,'DejaVu Sans Mono',consolas,'Courier New',monospace\"><span style=\"font-style: italic\">                     Material assignment                     </span>\n",
       "┏━━━━━━━━━━━━━━━━━━━━━━┳━━━━━━━━━━━━━━━━━━━━━━━━━━━━━━━━━━━━┓\n",
       "┃<span style=\"font-weight: bold\"> Layer name           </span>┃<span style=\"font-weight: bold\"> Material name                      </span>┃\n",
       "┡━━━━━━━━━━━━━━━━━━━━━━╇━━━━━━━━━━━━━━━━━━━━━━━━━━━━━━━━━━━━┩\n",
       "│ polygon_room_ceiling │ Plywood panelling, 1 cm thick      │\n",
       "│ polygon_room_walls   │ Gypsum/Plaster on solid backing    │\n",
       "│ Furniture/Desk       │ Wooden pews (100% occupancy)       │\n",
       "│ polygon_room_floor   │ Linoleum or vinyl on concrete      │\n",
       "│ Furniture/Chair A    │ Heavily upholstered concert chairs │\n",
       "│ Furniture/Chair      │ Heavily upholstered concert chairs │\n",
       "└──────────────────────┴────────────────────────────────────┘\n",
       "</pre>\n"
      ],
      "text/plain": [
       "\u001b[3m                     Material assignment                     \u001b[0m\n",
       "┏━━━━━━━━━━━━━━━━━━━━━━┳━━━━━━━━━━━━━━━━━━━━━━━━━━━━━━━━━━━━┓\n",
       "┃\u001b[1m \u001b[0m\u001b[1mLayer name          \u001b[0m\u001b[1m \u001b[0m┃\u001b[1m \u001b[0m\u001b[1mMaterial name                     \u001b[0m\u001b[1m \u001b[0m┃\n",
       "┡━━━━━━━━━━━━━━━━━━━━━━╇━━━━━━━━━━━━━━━━━━━━━━━━━━━━━━━━━━━━┩\n",
       "│ polygon_room_ceiling │ Plywood panelling, 1 cm thick      │\n",
       "│ polygon_room_walls   │ Gypsum/Plaster on solid backing    │\n",
       "│ Furniture/Desk       │ Wooden pews (100% occupancy)       │\n",
       "│ polygon_room_floor   │ Linoleum or vinyl on concrete      │\n",
       "│ Furniture/Chair A    │ Heavily upholstered concert chairs │\n",
       "│ Furniture/Chair      │ Heavily upholstered concert chairs │\n",
       "└──────────────────────┴────────────────────────────────────┘\n"
      ]
     },
     "metadata": {},
     "output_type": "display_data"
    }
   ],
   "source": [
    "all_materials = tsdk.material_library.get()\n",
    "database_materials = [\n",
    "    material for material in all_materials if material[\"organizationId\"] == None\n",
    "]\n",
    "\n",
    "all_material_assignments = []\n",
    "for i, (model, room_data) in tqdm(enumerate(zip(generated_rooms, rooms_data))):\n",
    "    layers = {\n",
    "        \"polygon_room_walls\": \"gypsum/plaster on solid backing\",\n",
    "        \"polygon_room_floor\": room_data[\"floor_material\"],\n",
    "        \"polygon_room_ceiling\": room_data[\"ceiling_material\"],\n",
    "        \"Furniture/Desk\": \"wood\",\n",
    "        \"Furniture/Chair\": \"upholstered concert chairs\",\n",
    "        \"Furniture/Chair A\": \"upholstered concert chairs\",\n",
    "        \"Furniture/Bar Stool\": \"upholstered concert chairs\",\n",
    "    }\n",
    "    material_assignment = []\n",
    "\n",
    "    for layer in model.layer_names:\n",
    "        if layer in layers:\n",
    "            search_string = layers[layer]\n",
    "            matches = [\n",
    "                m for m in database_materials if search_string.lower() in m.name.lower()\n",
    "            ]\n",
    "            if matches:\n",
    "                material_assignment.append(\n",
    "                    treble.MaterialAssignment(layer, random.choice(matches))\n",
    "                )\n",
    "    all_material_assignments.append(material_assignment)\n",
    "\n",
    "dd.display(all_material_assignments[-1])"
   ]
  },
  {
   "cell_type": "code",
   "execution_count": null,
   "id": "ff5d3f79",
   "metadata": {},
   "outputs": [
    {
     "name": "stderr",
     "output_type": "stream",
     "text": [
      "100%|██████████| 1/1 [00:00<00:00, 27.99it/s]\n"
     ]
    }
   ],
   "source": [
    "all_sources = []\n",
    "all_source_positions = []\n",
    "all_receivers = []\n",
    "all_receiver_positions = []\n",
    "\n",
    "pg = treble.PointsGenerator()\n",
    "\n",
    "pos_ruleset = treble.PointRuleset(\n",
    "    min_dist_from_surface=0.5,\n",
    "    min_dist_from_other_points=2,\n",
    ")\n",
    "\n",
    "for room in tqdm(generated_rooms):\n",
    "    pos = pg.generate_valid_points(\n",
    "        model=room,\n",
    "        max_count=2,\t\n",
    "        ruleset=pos_ruleset,\n",
    "        z_range=(0.5, 1.5)\n",
    "    )\n",
    "    all_source_positions.append(pos[0])\n",
    "    all_receiver_positions.append(pos[1])\n",
    "\n",
    "    source = treble.Source.make_omni(\n",
    "        position=pos[0],\n",
    "        label=f\"source_{room.name}\",\n",
    "    )\n",
    "    receiver = treble.Receiver.make_mono(\n",
    "        position=pos[1],\n",
    "        label=f\"receiver_{room.name}\",\n",
    "    )\n",
    "    all_sources.append(source)\n",
    "    all_receivers.append(receiver)\n"
   ]
  },
  {
   "cell_type": "code",
   "execution_count": null,
   "id": "758072df",
   "metadata": {},
   "outputs": [
    {
     "name": "stderr",
     "output_type": "stream",
     "text": [
      "1it [00:00, 10591.68it/s]\n"
     ]
    }
   ],
   "source": [
    "sim_type = treble.SimulationType.hybrid\n",
    "crossover_frequency = 500\n",
    "\n",
    "sim_defs = []\n",
    "\n",
    "for i, (room, room_data) in tqdm(enumerate(zip(generated_rooms, rooms_data))):\n",
    "    sim_def = treble.SimulationDefinition(\n",
    "        name=f\"simulation_{i}_1\",  # unique name of the simulation\n",
    "        simulation_type=sim_type,  # the type of simulation\n",
    "        crossover_frequency=crossover_frequency,  # the frequency at which the simulation switches from wavebased to image source\n",
    "        model=room,\n",
    "        energy_decay_threshold=60,  # simulation termination criteria - the simulation stops running after -60 dB of energy decay\n",
    "        receiver_list=[all_receivers[i]],\n",
    "        source_list=[all_sources[i]],\n",
    "        material_assignment=all_material_assignments[i],\n",
    "    )\n",
    "    sim_defs.append(sim_def)\n",
    "\n",
    "sim_defs = project.add_simulations(sim_defs)"
   ]
  },
  {
   "cell_type": "code",
   "execution_count": null,
   "id": "84b6ffbd",
   "metadata": {},
   "outputs": [
    {
     "data": {
      "text/html": [
       "<pre style=\"white-space:pre;overflow-x:auto;line-height:normal;font-family:Menlo,'DejaVu Sans Mono',consolas,'Courier New',monospace\"><span style=\"font-style: italic\">                                                       Simulations                                                       </span>\n",
       "┏━━━━━━━┳━━━━━━━━━━━━━━━━┳━━━━━━━━━━━━━━━━━━┳━━━━━━━━━━━━━━━━━━━━━━━━━━━━━━━━━━━━━━┳━━━━━━━━━━━┳━━━━━━━━━━━━┳━━━━━┳━━━━━┓\n",
       "┃<span style=\"font-weight: bold\"> Index </span>┃<span style=\"font-weight: bold\"> Name           </span>┃<span style=\"font-weight: bold\"> Created at       </span>┃<span style=\"font-weight: bold\"> Id                                   </span>┃<span style=\"font-weight: bold\"> Status    </span>┃<span style=\"font-weight: bold\"> Freq. (Hz) </span>┃<span style=\"font-weight: bold\"> Rcv </span>┃<span style=\"font-weight: bold\"> Src </span>┃\n",
       "┡━━━━━━━╇━━━━━━━━━━━━━━━━╇━━━━━━━━━━━━━━━━━━╇━━━━━━━━━━━━━━━━━━━━━━━━━━━━━━━━━━━━━━╇━━━━━━━━━━━╇━━━━━━━━━━━━╇━━━━━╇━━━━━┩\n",
       "│ 0     │ Simulation_1   │ 2025-05-15 16:52 │ 36276580-5214-43ca-bc96-60cce4c07c45 │ <span style=\"color: #008000; text-decoration-color: #008000\">Completed</span> │ 25         │ 1   │ 1   │\n",
       "│ 1     │ simulation_0   │ 2025-05-16 21:46 │ f5440a62-623a-48c8-8cab-fd5be14dce7a │ Created   │ 500        │ 1   │ 1   │\n",
       "│ 2     │ simulation_0_1 │ 2025-05-16 22:29 │ 8a197128-4ac2-41fb-a5a7-246355f63069 │ Created   │ 500        │ 1   │ 1   │\n",
       "└───────┴────────────────┴──────────────────┴──────────────────────────────────────┴───────────┴────────────┴─────┴─────┘\n",
       "</pre>\n"
      ],
      "text/plain": [
       "\u001b[3m                                                       Simulations                                                       \u001b[0m\n",
       "┏━━━━━━━┳━━━━━━━━━━━━━━━━┳━━━━━━━━━━━━━━━━━━┳━━━━━━━━━━━━━━━━━━━━━━━━━━━━━━━━━━━━━━┳━━━━━━━━━━━┳━━━━━━━━━━━━┳━━━━━┳━━━━━┓\n",
       "┃\u001b[1m \u001b[0m\u001b[1mIndex\u001b[0m\u001b[1m \u001b[0m┃\u001b[1m \u001b[0m\u001b[1mName          \u001b[0m\u001b[1m \u001b[0m┃\u001b[1m \u001b[0m\u001b[1mCreated at      \u001b[0m\u001b[1m \u001b[0m┃\u001b[1m \u001b[0m\u001b[1mId                                  \u001b[0m\u001b[1m \u001b[0m┃\u001b[1m \u001b[0m\u001b[1mStatus   \u001b[0m\u001b[1m \u001b[0m┃\u001b[1m \u001b[0m\u001b[1mFreq. (Hz)\u001b[0m\u001b[1m \u001b[0m┃\u001b[1m \u001b[0m\u001b[1mRcv\u001b[0m\u001b[1m \u001b[0m┃\u001b[1m \u001b[0m\u001b[1mSrc\u001b[0m\u001b[1m \u001b[0m┃\n",
       "┡━━━━━━━╇━━━━━━━━━━━━━━━━╇━━━━━━━━━━━━━━━━━━╇━━━━━━━━━━━━━━━━━━━━━━━━━━━━━━━━━━━━━━╇━━━━━━━━━━━╇━━━━━━━━━━━━╇━━━━━╇━━━━━┩\n",
       "│ 0     │ Simulation_1   │ 2025-05-15 16:52 │ 36276580-5214-43ca-bc96-60cce4c07c45 │ \u001b[32mCompleted\u001b[0m │ 25         │ 1   │ 1   │\n",
       "│ 1     │ simulation_0   │ 2025-05-16 21:46 │ f5440a62-623a-48c8-8cab-fd5be14dce7a │ Created   │ 500        │ 1   │ 1   │\n",
       "│ 2     │ simulation_0_1 │ 2025-05-16 22:29 │ 8a197128-4ac2-41fb-a5a7-246355f63069 │ Created   │ 500        │ 1   │ 1   │\n",
       "└───────┴────────────────┴──────────────────┴──────────────────────────────────────┴───────────┴────────────┴─────┴─────┘\n"
      ]
     },
     "metadata": {},
     "output_type": "display_data"
    }
   ],
   "source": [
    "all_sims = project.get_simulations()\n",
    "dd.display(all_sims)"
   ]
  },
  {
   "cell_type": "code",
   "execution_count": null,
   "id": "f7a75242",
   "metadata": {},
   "outputs": [
    {
     "data": {
      "text/html": [
       "\n",
       "        <iframe\n",
       "            width=\"100%\"\n",
       "            height=\"700\"\n",
       "            src=\"http://127.0.0.1:55660/\"\n",
       "            frameborder=\"0\"\n",
       "            allowfullscreen\n",
       "            \n",
       "        ></iframe>\n",
       "        "
      ],
      "text/plain": [
       "<IPython.lib.display.IFrame at 0x79579d6828b0>"
      ]
     },
     "metadata": {},
     "output_type": "display_data"
    }
   ],
   "source": [
    "random_sim = random.choice(all_sims)\n",
    "random_sim.plot()"
   ]
  },
  {
   "cell_type": "code",
   "execution_count": null,
   "id": "3a1bc944",
   "metadata": {},
   "outputs": [],
   "source": []
  },
  {
   "cell_type": "code",
   "execution_count": null,
   "id": "0eb7894b",
   "metadata": {},
   "outputs": [],
   "source": []
  },
  {
   "cell_type": "code",
   "execution_count": null,
   "id": "9958b0bb",
   "metadata": {},
   "outputs": [
    {
     "data": {
      "text/html": [
       "<pre style=\"white-space:pre;overflow-x:auto;line-height:normal;font-family:Menlo,'DejaVu Sans Mono',consolas,'Courier New',monospace\"><span style=\"font-style: italic\">                               Project bc91d45c-e9f6-410f-ba72-d0fbfffcb844 estimate                               </span>\n",
       "┏━━━━━━━━━━━━━━━━━━━━━━━━━━━━━━━━━━━━━━━━━━━━━━━━━━━━━━━┳━━━━━━━━━━━━━━━━━━┳━━━━━━━━━━━━━━━━━━━┳━━━━━━━━━━━━━━━━━━┓\n",
       "┃<span style=\"font-weight: bold\">                                                       </span>┃<span style=\"font-weight: bold\">       Simulation </span>┃<span style=\"font-weight: bold\"> Estimated runtime </span>┃<span style=\"font-weight: bold\">   Estimated cost </span>┃\n",
       "┃<span style=\"font-weight: bold\">                                            Simulation </span>┃<span style=\"font-weight: bold\">           status </span>┃<span style=\"font-weight: bold\">           (hours) </span>┃<span style=\"font-weight: bold\">         (tokens) </span>┃\n",
       "┡━━━━━━━━━━━━━━━━━━━━━━━━━━━━━━━━━━━━━━━━━━━━━━━━━━━━━━━╇━━━━━━━━━━━━━━━━━━╇━━━━━━━━━━━━━━━━━━━╇━━━━━━━━━━━━━━━━━━┩\n",
       "│   Simulation_1 (36276580-5214-43ca-bc96-60cce4c07c45) │        Completed │<span style=\"color: #800080; text-decoration-color: #800080\">             0.023 </span>│<span style=\"color: #008000; text-decoration-color: #008000\">            0.023 </span>│\n",
       "│   simulation_0 (f5440a62-623a-48c8-8cab-fd5be14dce7a) │          Created │<span style=\"color: #800080; text-decoration-color: #800080\">             0.051 </span>│<span style=\"color: #008000; text-decoration-color: #008000\">             0.07 </span>│\n",
       "│ simulation_0_1 (8a197128-4ac2-41fb-a5a7-246355f63069) │          Created │<span style=\"color: #800080; text-decoration-color: #800080\">             0.051 </span>│<span style=\"color: #008000; text-decoration-color: #008000\">             0.07 </span>│\n",
       "├───────────────────────────────────────────────────────┼──────────────────┼───────────────────┼──────────────────┤\n",
       "│<span style=\"font-weight: bold\">                                                 Total </span>│<span style=\"font-weight: bold\">                  </span>│<span style=\"font-weight: bold\">             </span><span style=\"color: #800080; text-decoration-color: #800080; font-weight: bold\">0.051</span><span style=\"font-weight: bold\"> </span>│<span style=\"font-weight: bold\">            </span><span style=\"color: #008000; text-decoration-color: #008000; font-weight: bold\">0.163</span><span style=\"font-weight: bold\"> </span>│\n",
       "└───────────────────────────────────────────────────────┴──────────────────┴───────────────────┴──────────────────┘\n",
       "</pre>\n"
      ],
      "text/plain": [
       "\u001b[3m                               Project bc91d45c-e9f6-410f-ba72-d0fbfffcb844 estimate                               \u001b[0m\n",
       "┏━━━━━━━━━━━━━━━━━━━━━━━━━━━━━━━━━━━━━━━━━━━━━━━━━━━━━━━┳━━━━━━━━━━━━━━━━━━┳━━━━━━━━━━━━━━━━━━━┳━━━━━━━━━━━━━━━━━━┓\n",
       "┃\u001b[1m                                                       \u001b[0m┃\u001b[1m \u001b[0m\u001b[1m      Simulation\u001b[0m\u001b[1m \u001b[0m┃\u001b[1m \u001b[0m\u001b[1mEstimated runtime\u001b[0m\u001b[1m \u001b[0m┃\u001b[1m \u001b[0m\u001b[1m  Estimated cost\u001b[0m\u001b[1m \u001b[0m┃\n",
       "┃\u001b[1m \u001b[0m\u001b[1m                                           Simulation\u001b[0m\u001b[1m \u001b[0m┃\u001b[1m \u001b[0m\u001b[1m          status\u001b[0m\u001b[1m \u001b[0m┃\u001b[1m \u001b[0m\u001b[1m          (hours)\u001b[0m\u001b[1m \u001b[0m┃\u001b[1m \u001b[0m\u001b[1m        (tokens)\u001b[0m\u001b[1m \u001b[0m┃\n",
       "┡━━━━━━━━━━━━━━━━━━━━━━━━━━━━━━━━━━━━━━━━━━━━━━━━━━━━━━━╇━━━━━━━━━━━━━━━━━━╇━━━━━━━━━━━━━━━━━━━╇━━━━━━━━━━━━━━━━━━┩\n",
       "│   Simulation_1 (36276580-5214-43ca-bc96-60cce4c07c45) │        Completed │\u001b[35m \u001b[0m\u001b[35m            0.023\u001b[0m\u001b[35m \u001b[0m│\u001b[32m \u001b[0m\u001b[32m           0.023\u001b[0m\u001b[32m \u001b[0m│\n",
       "│   simulation_0 (f5440a62-623a-48c8-8cab-fd5be14dce7a) │          Created │\u001b[35m \u001b[0m\u001b[35m            0.051\u001b[0m\u001b[35m \u001b[0m│\u001b[32m \u001b[0m\u001b[32m            0.07\u001b[0m\u001b[32m \u001b[0m│\n",
       "│ simulation_0_1 (8a197128-4ac2-41fb-a5a7-246355f63069) │          Created │\u001b[35m \u001b[0m\u001b[35m            0.051\u001b[0m\u001b[35m \u001b[0m│\u001b[32m \u001b[0m\u001b[32m            0.07\u001b[0m\u001b[32m \u001b[0m│\n",
       "├───────────────────────────────────────────────────────┼──────────────────┼───────────────────┼──────────────────┤\n",
       "│\u001b[1m \u001b[0m\u001b[1m                                                \u001b[0m\u001b[1mTotal\u001b[0m\u001b[1m \u001b[0m│\u001b[1m \u001b[0m\u001b[1m                \u001b[0m\u001b[1m \u001b[0m│\u001b[1m \u001b[0m\u001b[1m            \u001b[0m\u001b[1;35m0.051\u001b[0m\u001b[1m \u001b[0m│\u001b[1m \u001b[0m\u001b[1m           \u001b[0m\u001b[1;32m0.163\u001b[0m\u001b[1m \u001b[0m│\n",
       "└───────────────────────────────────────────────────────┴──────────────────┴───────────────────┴──────────────────┘\n"
      ]
     },
     "metadata": {},
     "output_type": "display_data"
    }
   ],
   "source": [
    "runtime_estimate = project.estimate()\n",
    "dd.display(runtime_estimate)\n"
   ]
  },
  {
   "cell_type": "code",
   "execution_count": null,
   "id": "1fdb41e2",
   "metadata": {},
   "outputs": [],
   "source": [
    "# project.start_simulations()\n",
    "# project.as_live_progress()"
   ]
  },
  {
   "cell_type": "code",
   "execution_count": null,
   "id": "b0083bc0",
   "metadata": {},
   "outputs": [],
   "source": [
    "# for sim in all_sims:\n",
    "#     sim.download_results(f'results/{sim.name}')"
   ]
  },
  {
   "cell_type": "code",
   "execution_count": null,
   "id": "4bc5038d",
   "metadata": {},
   "outputs": [
    {
     "name": "stderr",
     "output_type": "stream",
     "text": [
      "/home/leo/projects/repos/ertsi/generation/.venv/lib/python3.13/site-packages/tqdm/auto.py:21: TqdmWarning:\n",
      "\n",
      "IProgress not found. Please update jupyter and ipywidgets. See https://ipywidgets.readthedocs.io/en/stable/user_install.html\n",
      "\n",
      "Download simulation 36276580-5214-43ca-bc96-60cce4c07c45: 100%|██████████| 2/2 tasks\n"
     ]
    },
    {
     "data": {
      "text/html": [
       "\n",
       "        <iframe\n",
       "            width=\"100%\"\n",
       "            height=\"800\"\n",
       "            src=\"http://127.0.0.1:55660/\"\n",
       "            frameborder=\"0\"\n",
       "            allowfullscreen\n",
       "            \n",
       "        ></iframe>\n",
       "        "
      ],
      "text/plain": [
       "<IPython.lib.display.IFrame at 0x780e8e42b530>"
      ]
     },
     "metadata": {},
     "output_type": "display_data"
    }
   ],
   "source": [
    "# results_object = simulation.download_results(f'results/{simulation.name}')\n",
    "\n",
    "# # begin to explore the results\n",
    "# results_object.plot()"
   ]
  },
  {
   "cell_type": "code",
   "execution_count": null,
   "id": "e6e947b9",
   "metadata": {},
   "outputs": [
    {
     "data": {
      "text/html": [
       "\n",
       "        <iframe\n",
       "            width=\"100%\"\n",
       "            height=\"650\"\n",
       "            src=\"http://127.0.0.1:55660/\"\n",
       "            frameborder=\"0\"\n",
       "            allowfullscreen\n",
       "            \n",
       "        ></iframe>\n",
       "        "
      ],
      "text/plain": [
       "<IPython.lib.display.IFrame at 0x780e8e2ec8d0>"
      ]
     },
     "metadata": {},
     "output_type": "display_data"
    }
   ],
   "source": [
    "# isolate the data from a single impulse response\n",
    "# this_result = results_object.get_mono_ir(source=simulation.sources[0],receiver=simulation.receivers[0])\n",
    "# this_ir = this_result.data\n",
    "# this_tvec = this_result.time\n",
    "\n",
    "# this_result.plot()"
   ]
  },
  {
   "cell_type": "code",
   "execution_count": null,
   "id": "ec3f0493",
   "metadata": {},
   "outputs": [],
   "source": []
  }
 ],
 "metadata": {
  "kernelspec": {
   "display_name": ".venv",
   "language": "python",
   "name": "python3"
  },
  "language_info": {
   "codemirror_mode": {
    "name": "ipython",
    "version": 3
   },
   "file_extension": ".py",
   "mimetype": "text/x-python",
   "name": "python",
   "nbconvert_exporter": "python",
   "pygments_lexer": "ipython3",
   "version": "3.13.3"
  }
 },
 "nbformat": 4,
 "nbformat_minor": 5
}
