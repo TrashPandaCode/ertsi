{
 "cells": [
  {
   "cell_type": "code",
   "execution_count": 1,
   "id": "6a009b62",
   "metadata": {},
   "outputs": [],
   "source": [
    "from treble_tsdk.tsdk import TSDK, TSDKCredentials\n",
    "from treble_tsdk import display_data as dd\n",
    "from treble_tsdk import treble\n",
    "import random\n",
    "import json\n",
    "from tqdm import tqdm\n",
    "import glob\n",
    "import math\n",
    "from typing import List, Tuple\n",
    "from collections import defaultdict"
   ]
  },
  {
   "cell_type": "code",
   "execution_count": 6,
   "id": "6eeb1926",
   "metadata": {},
   "outputs": [
    {
     "name": "stderr",
     "output_type": "stream",
     "text": [
      "Loading room data: 100%|██████████| 10/10 [00:00<00:00, 13711.36it/s]\n"
     ]
    },
    {
     "name": "stdout",
     "output_type": "stream",
     "text": [
      "== SDK package is up to date ==\n"
     ]
    }
   ],
   "source": [
    "data_dir = \"data\"\n",
    "\n",
    "rooms_data = []\n",
    "for filename in tqdm(glob.glob(f\"{data_dir}/**/*.json\", recursive=True), desc=\"Loading room data\"):\n",
    "    with open(filename, \"r\") as f:\n",
    "        data = json.load(f)\n",
    "        room_name = filename.split(\"/\")[-2]\n",
    "        data[\"room_name\"] = room_name\n",
    "        rooms_data.append(data)\n",
    "\n",
    "tsdk = TSDK(TSDKCredentials.from_file(\"./creds/tsdk.cred\"))\n"
   ]
  },
  {
   "cell_type": "code",
   "execution_count": 13,
   "id": "e64484c4",
   "metadata": {},
   "outputs": [],
   "source": [
    "project = tsdk.get_or_create_project(\"ertsi_2\")"
   ]
  },
  {
   "cell_type": "code",
   "execution_count": 8,
   "id": "0414bf0f",
   "metadata": {},
   "outputs": [],
   "source": [
    "def sort_points_clockwise(points: List[List[float]]) -> List[List[float]]:\n",
    "    # Compute centroid\n",
    "    centroid_x = sum(x for x, y in points) / len(points)\n",
    "    centroid_y = sum(y for x, y in points) / len(points)\n",
    "    \n",
    "    # Function to compute angle from centroid\n",
    "    def angle_from_centroid(point):\n",
    "        x, y = point\n",
    "        return math.atan2(y - centroid_y, x - centroid_x)\n",
    "    \n",
    "    # Sort points by angle (clockwise)\n",
    "    return sorted(points, key=angle_from_centroid, reverse=True)"
   ]
  },
  {
   "cell_type": "code",
   "execution_count": null,
   "id": "b3c80eef",
   "metadata": {},
   "outputs": [
    {
     "data": {
      "text/plain": [
       "[GeometryDefinition(geometry_component_count=0.,\n",
       " GeometryDefinition(geometry_component_count=0.,\n",
       " GeometryDefinition(geometry_component_count=0.,\n",
       " GeometryDefinition(geometry_component_count=0.,\n",
       " GeometryDefinition(geometry_component_count=0.,\n",
       " GeometryDefinition(geometry_component_count=0.,\n",
       " GeometryDefinition(geometry_component_count=0.,\n",
       " GeometryDefinition(geometry_component_count=0.,\n",
       " GeometryDefinition(geometry_component_count=0.,\n",
       " GeometryDefinition(geometry_component_count=0.]"
      ]
     },
     "execution_count": 9,
     "metadata": {},
     "output_type": "execute_result"
    }
   ],
   "source": [
    "room_definitions = []\n",
    "for i, room_data in enumerate(rooms_data):\n",
    "    edge_points_hexagon = sort_points_clockwise(room_data[\"room_verts\"]) if not room_data[\"sorted\"] else room_data[\"room_verts\"]\n",
    "    room_height = 3\n",
    "    room = treble.GeometryDefinitionGenerator.create_polygon_room(\n",
    "        points_xy=edge_points_hexagon, height_z=room_height, join_wall_layers=True\n",
    "    )\n",
    "\n",
    "    room_definitions.append(room)\n",
    "room_definitions"
   ]
  },
  {
   "cell_type": "code",
   "execution_count": 15,
   "id": "2dec96ae",
   "metadata": {},
   "outputs": [
    {
     "name": "stdout",
     "output_type": "stream",
     "text": [
      "=== Populating rooms with geometry components ===\n"
     ]
    },
    {
     "name": "stderr",
     "output_type": "stream",
     "text": [
      "10it [00:27,  2.70s/it]\n"
     ]
    }
   ],
   "source": [
    "generated_rooms = []\n",
    "\n",
    "print(\"=== Populating rooms with geometry components ===\")\n",
    "for i, (room_def, room_data) in tqdm(enumerate(zip(room_definitions, rooms_data))):\n",
    "    room_def.clear_geometry_components()\n",
    "    placements = []\n",
    "\n",
    "    if room_data[\"chair_count\"] > 0:\n",
    "        placements += [\n",
    "            treble.GeometryComponentPlacement(\n",
    "                components=tsdk.geometry_component_library.query(group=\"chair\"),\n",
    "            preferred_count=room_data[\"chair_count\"],\n",
    "            rotation_settings=treble.ComponentAnglePool([0, 90, 180, 270]),\n",
    "            min_dist_from_objects=0.5,\n",
    "            min_dist_from_walls=0.5,\n",
    "            )\n",
    "        ]\n",
    "    if room_data[\"desk_count\"] > 0:\n",
    "        placements += [\n",
    "            treble.GeometryComponentPlacement(\n",
    "               components=tsdk.geometry_component_library.query(group=\"desk\"),\n",
    "            preferred_count=room_data[\"desk_count\"],\n",
    "            rotation_settings=treble.ComponentAnglePool([0, 90, 180, 270]),\n",
    "            min_dist_from_objects=0.5,\n",
    "            min_dist_from_walls=0.5,\n",
    "            )\n",
    "        ]\n",
    "        \n",
    "    room_def.populate_with_geometry_components(\n",
    "        components=placements,\n",
    "        selection_algorithm=treble.ComponentSelectionAlgorithm.random,\n",
    "    )\n",
    "\n",
    "    model = project.add_model(f\"room_{i}\", room_def)\n",
    "    generated_rooms.append(model)"
   ]
  },
  {
   "cell_type": "code",
   "execution_count": 33,
   "id": "d1fe77c5",
   "metadata": {},
   "outputs": [
    {
     "data": {
      "text/html": [
       "\n",
       "        <iframe\n",
       "            width=\"100%\"\n",
       "            height=\"700\"\n",
       "            src=\"http://127.0.0.1:55660/\"\n",
       "            frameborder=\"0\"\n",
       "            allowfullscreen\n",
       "            \n",
       "        ></iframe>\n",
       "        "
      ],
      "text/plain": [
       "<IPython.lib.display.IFrame at 0x7f26a738bd10>"
      ]
     },
     "metadata": {},
     "output_type": "display_data"
    }
   ],
   "source": [
    "random_model = random.choice(generated_rooms)\n",
    "random_model.plot()"
   ]
  },
  {
   "cell_type": "code",
   "execution_count": 21,
   "id": "a3f80e15",
   "metadata": {},
   "outputs": [
    {
     "data": {
      "text/html": [
       "<pre style=\"white-space:pre;overflow-x:auto;line-height:normal;font-family:Menlo,'DejaVu Sans Mono',consolas,'Courier New',monospace\"><span style=\"font-style: italic\">                                                 Models                                                 </span>\n",
       "┏━━━━━━━┳━━━━━━━━┳━━━━━━━━━━━━━━━━━━━━━━━━━━━━━━━━━━━━━━┳━━━━━━━━━━━━━━━━━━━━━━━━━━━━━━┳━━━━━━━━━━━━━━━┓\n",
       "┃<span style=\"font-weight: bold\"> Index </span>┃<span style=\"font-weight: bold\"> Name   </span>┃<span style=\"font-weight: bold\"> Id                                   </span>┃<span style=\"font-weight: bold\"> Created At                   </span>┃<span style=\"font-weight: bold\"> Is Watertight </span>┃\n",
       "┡━━━━━━━╇━━━━━━━━╇━━━━━━━━━━━━━━━━━━━━━━━━━━━━━━━━━━━━━━╇━━━━━━━━━━━━━━━━━━━━━━━━━━━━━━╇━━━━━━━━━━━━━━━┩\n",
       "│ 0     │ room_0 │ b22dc5a4-5b65-4288-be77-7213d5ff9373 │ 2025-05-25 14:32:01          │ True          │\n",
       "│ 1     │ room_1 │ 631a4285-fddd-412e-8549-42ab7bc946cb │ 2025-05-25 14:32:04          │ True          │\n",
       "│ 2     │ room_2 │ 43e809ad-a2de-4a5e-95ad-2fcf965befc9 │ 2025-05-25 14:32:06          │ True          │\n",
       "│ 3     │ room_3 │ e5eb3ea4-6d26-4261-8cc3-45cbc3b536b3 │ 2025-05-25 14:32:09          │ True          │\n",
       "│ 4     │ room_4 │ 4be6e1e9-e574-46d9-b0b9-c8647b97c344 │ 2025-05-25T14:32:14.9253122Z │ False         │\n",
       "│ 5     │ room_5 │ 28540add-e6fe-4332-8ef7-d45f2ca94e06 │ 2025-05-25T14:32:17.9302631Z │ False         │\n",
       "│ 6     │ room_6 │ cd92839e-51d1-452c-acfc-9d43280ad2bf │ 2025-05-25T14:32:19.8537831Z │ False         │\n",
       "│ 7     │ room_7 │ f3369126-6623-41fd-86e2-e244c1413c33 │ 2025-05-25T14:32:21.4806061Z │ False         │\n",
       "│ 8     │ room_8 │ d1bc3ef4-4d1a-4bbc-8faf-4e4582c09d96 │ 2025-05-25T14:32:24.9603537Z │ False         │\n",
       "│ 9     │ room_9 │ 476ebc9b-2a19-4007-9c1e-9345a0d1c588 │ 2025-05-25 14:32:27          │ False         │\n",
       "└───────┴────────┴──────────────────────────────────────┴──────────────────────────────┴───────────────┘\n",
       "</pre>\n"
      ],
      "text/plain": [
       "\u001b[3m                                                 Models                                                 \u001b[0m\n",
       "┏━━━━━━━┳━━━━━━━━┳━━━━━━━━━━━━━━━━━━━━━━━━━━━━━━━━━━━━━━┳━━━━━━━━━━━━━━━━━━━━━━━━━━━━━━┳━━━━━━━━━━━━━━━┓\n",
       "┃\u001b[1m \u001b[0m\u001b[1mIndex\u001b[0m\u001b[1m \u001b[0m┃\u001b[1m \u001b[0m\u001b[1mName  \u001b[0m\u001b[1m \u001b[0m┃\u001b[1m \u001b[0m\u001b[1mId                                  \u001b[0m\u001b[1m \u001b[0m┃\u001b[1m \u001b[0m\u001b[1mCreated At                  \u001b[0m\u001b[1m \u001b[0m┃\u001b[1m \u001b[0m\u001b[1mIs Watertight\u001b[0m\u001b[1m \u001b[0m┃\n",
       "┡━━━━━━━╇━━━━━━━━╇━━━━━━━━━━━━━━━━━━━━━━━━━━━━━━━━━━━━━━╇━━━━━━━━━━━━━━━━━━━━━━━━━━━━━━╇━━━━━━━━━━━━━━━┩\n",
       "│ 0     │ room_0 │ b22dc5a4-5b65-4288-be77-7213d5ff9373 │ 2025-05-25 14:32:01          │ True          │\n",
       "│ 1     │ room_1 │ 631a4285-fddd-412e-8549-42ab7bc946cb │ 2025-05-25 14:32:04          │ True          │\n",
       "│ 2     │ room_2 │ 43e809ad-a2de-4a5e-95ad-2fcf965befc9 │ 2025-05-25 14:32:06          │ True          │\n",
       "│ 3     │ room_3 │ e5eb3ea4-6d26-4261-8cc3-45cbc3b536b3 │ 2025-05-25 14:32:09          │ True          │\n",
       "│ 4     │ room_4 │ 4be6e1e9-e574-46d9-b0b9-c8647b97c344 │ 2025-05-25T14:32:14.9253122Z │ False         │\n",
       "│ 5     │ room_5 │ 28540add-e6fe-4332-8ef7-d45f2ca94e06 │ 2025-05-25T14:32:17.9302631Z │ False         │\n",
       "│ 6     │ room_6 │ cd92839e-51d1-452c-acfc-9d43280ad2bf │ 2025-05-25T14:32:19.8537831Z │ False         │\n",
       "│ 7     │ room_7 │ f3369126-6623-41fd-86e2-e244c1413c33 │ 2025-05-25T14:32:21.4806061Z │ False         │\n",
       "│ 8     │ room_8 │ d1bc3ef4-4d1a-4bbc-8faf-4e4582c09d96 │ 2025-05-25T14:32:24.9603537Z │ False         │\n",
       "│ 9     │ room_9 │ 476ebc9b-2a19-4007-9c1e-9345a0d1c588 │ 2025-05-25 14:32:27          │ False         │\n",
       "└───────┴────────┴──────────────────────────────────────┴──────────────────────────────┴───────────────┘\n"
      ]
     },
     "metadata": {},
     "output_type": "display_data"
    }
   ],
   "source": [
    "dd.display(generated_rooms)"
   ]
  },
  {
   "cell_type": "code",
   "execution_count": 34,
   "id": "ace80ab5",
   "metadata": {},
   "outputs": [
    {
     "name": "stderr",
     "output_type": "stream",
     "text": [
      "10it [00:00, 90.19it/s]\n"
     ]
    },
    {
     "data": {
      "text/html": [
       "<pre style=\"white-space:pre;overflow-x:auto;line-height:normal;font-family:Menlo,'DejaVu Sans Mono',consolas,'Courier New',monospace\"><span style=\"font-style: italic\">                                   Material assignment                                    </span>\n",
       "┏━━━━━━━━━━━━━━━━━━━━━━┳━━━━━━━━━━━━━━━━━━━━━━━━━━━━━━━━━━━━━━━━━━━━━━━━━━━━━━━━━━━━━━━━━┓\n",
       "┃<span style=\"font-weight: bold\"> Layer name           </span>┃<span style=\"font-weight: bold\"> Material name                                                   </span>┃\n",
       "┡━━━━━━━━━━━━━━━━━━━━━━╇━━━━━━━━━━━━━━━━━━━━━━━━━━━━━━━━━━━━━━━━━━━━━━━━━━━━━━━━━━━━━━━━━┩\n",
       "│ polygon_room_ceiling │ Slotted panel, 21% open, 40 mm 81 kg/m3 absorber, 100 mm cavity │\n",
       "│ Furniture/Chair      │ Heavily upholstered concert chairs                              │\n",
       "│ Furniture/Bar Stool  │ Heavily upholstered concert chairs                              │\n",
       "│ Furniture/Desk       │ Plywood panelling, 1 cm thick                                   │\n",
       "│ Furniture/Chair A    │ Upholstered concert chairs                                      │\n",
       "│ polygon_room_floor   │ Linoleum or vinyl on concrete                                   │\n",
       "│ polygon_room_walls   │ Gypsum/Plaster on solid backing                                 │\n",
       "└──────────────────────┴─────────────────────────────────────────────────────────────────┘\n",
       "</pre>\n"
      ],
      "text/plain": [
       "\u001b[3m                                   Material assignment                                    \u001b[0m\n",
       "┏━━━━━━━━━━━━━━━━━━━━━━┳━━━━━━━━━━━━━━━━━━━━━━━━━━━━━━━━━━━━━━━━━━━━━━━━━━━━━━━━━━━━━━━━━┓\n",
       "┃\u001b[1m \u001b[0m\u001b[1mLayer name          \u001b[0m\u001b[1m \u001b[0m┃\u001b[1m \u001b[0m\u001b[1mMaterial name                                                  \u001b[0m\u001b[1m \u001b[0m┃\n",
       "┡━━━━━━━━━━━━━━━━━━━━━━╇━━━━━━━━━━━━━━━━━━━━━━━━━━━━━━━━━━━━━━━━━━━━━━━━━━━━━━━━━━━━━━━━━┩\n",
       "│ polygon_room_ceiling │ Slotted panel, 21% open, 40 mm 81 kg/m3 absorber, 100 mm cavity │\n",
       "│ Furniture/Chair      │ Heavily upholstered concert chairs                              │\n",
       "│ Furniture/Bar Stool  │ Heavily upholstered concert chairs                              │\n",
       "│ Furniture/Desk       │ Plywood panelling, 1 cm thick                                   │\n",
       "│ Furniture/Chair A    │ Upholstered concert chairs                                      │\n",
       "│ polygon_room_floor   │ Linoleum or vinyl on concrete                                   │\n",
       "│ polygon_room_walls   │ Gypsum/Plaster on solid backing                                 │\n",
       "└──────────────────────┴─────────────────────────────────────────────────────────────────┘\n"
      ]
     },
     "metadata": {},
     "output_type": "display_data"
    }
   ],
   "source": [
    "all_materials = tsdk.material_library.get()\n",
    "database_materials = [\n",
    "    material for material in all_materials if material[\"organizationId\"] == None\n",
    "]\n",
    "\n",
    "all_material_assignments = []\n",
    "for i, (model, room_data) in tqdm(enumerate(zip(generated_rooms, rooms_data))):\n",
    "    layers = {\n",
    "        \"polygon_room_walls\": \"gypsum/plaster on solid backing\",\n",
    "        \"polygon_room_floor\": room_data[\"floor_material\"],\n",
    "        \"polygon_room_ceiling\": room_data[\"ceiling_material\"],\n",
    "        \"Furniture/Desk\": \"wood\",\n",
    "        \"Furniture/Chair\": \"upholstered concert chairs\",\n",
    "        \"Furniture/Chair A\": \"upholstered concert chairs\",\n",
    "        \"Furniture/Bar Stool\": \"upholstered concert chairs\",\n",
    "    }\n",
    "    material_assignment = []\n",
    "\n",
    "    for layer in model.layer_names:\n",
    "        if layer in layers:\n",
    "            search_string = layers[layer]\n",
    "            matches = [\n",
    "                m for m in database_materials if search_string.lower() in m.name.lower()\n",
    "            ]\n",
    "            if matches:\n",
    "                material_assignment.append(\n",
    "                    treble.MaterialAssignment(layer, random.choice(matches))\n",
    "                )\n",
    "    all_material_assignments.append(material_assignment)\n",
    "\n",
    "dd.display(all_material_assignments[-1])"
   ]
  },
  {
   "cell_type": "code",
   "execution_count": 35,
   "id": "ff5d3f79",
   "metadata": {},
   "outputs": [
    {
     "name": "stderr",
     "output_type": "stream",
     "text": [
      "100%|██████████| 10/10 [00:01<00:00,  5.59it/s]\n"
     ]
    }
   ],
   "source": [
    "all_sources = []\n",
    "all_source_positions = []\n",
    "all_receivers = []\n",
    "all_receiver_positions = []\n",
    "\n",
    "pg = treble.PointsGenerator()\n",
    "\n",
    "pos_ruleset = treble.PointRuleset(\n",
    "    min_dist_from_surface=0.5,\n",
    "    min_dist_from_other_points=2,\n",
    ")\n",
    "\n",
    "for room in tqdm(generated_rooms):\n",
    "    pos = pg.generate_valid_points(\n",
    "        model=room,\n",
    "        max_count=2,\t\n",
    "        ruleset=pos_ruleset,\n",
    "        z_range=(0.5, 1.5)\n",
    "    )\n",
    "    all_source_positions.append(pos[0])\n",
    "    all_receiver_positions.append(pos[1])\n",
    "\n",
    "    source = treble.Source.make_omni(\n",
    "        position=pos[0],\n",
    "        label=f\"source_{room.name}\",\n",
    "    )\n",
    "    receiver = treble.Receiver.make_mono(\n",
    "        position=pos[1],\n",
    "        label=f\"receiver_{room.name}\",\n",
    "    )\n",
    "    all_sources.append(source)\n",
    "    all_receivers.append(receiver)\n"
   ]
  },
  {
   "cell_type": "code",
   "execution_count": null,
   "id": "758072df",
   "metadata": {},
   "outputs": [
    {
     "name": "stderr",
     "output_type": "stream",
     "text": [
      "10it [00:00, 38657.18it/s]\n",
      "One or more validation errors occurred.\n",
      "Field: \"ValidationError\" - ['Duplicate simulation names in project found: simulation_0_1,simulation_1_1,simulation_2_1,simulation_3_1,simulation_4_1 please use unique simulation names.']\n"
     ]
    }
   ],
   "source": [
    "sim_type = treble.SimulationType.hybrid\n",
    "crossover_frequency = 500\n",
    "\n",
    "sim_defs = []\n",
    "\n",
    "for i, (room, room_data) in tqdm(enumerate(zip(generated_rooms, rooms_data))):\n",
    "    sim_def = treble.SimulationDefinition(\n",
    "        name=f\"simulation_{i}_1\",  # unique name of the simulation\n",
    "        simulation_type=sim_type,  # the type of simulation\n",
    "        crossover_frequency=crossover_frequency,  # the frequency at which the simulation switches from wavebased to image source\n",
    "        model=room,\n",
    "        energy_decay_threshold=60,  # simulation termination criteria - the simulation stops running after -60 dB of energy decay\n",
    "        receiver_list=[all_receivers[i]],\n",
    "        source_list=[all_sources[i]],\n",
    "        material_assignment=all_material_assignments[i],\n",
    "    )\n",
    "    sim_defs.append(sim_def)\n",
    "\n",
    "sim_defs = project.add_simulations(sim_defs)"
   ]
  },
  {
   "cell_type": "code",
   "execution_count": 37,
   "id": "84b6ffbd",
   "metadata": {},
   "outputs": [
    {
     "data": {
      "text/html": [
       "<pre style=\"white-space:pre;overflow-x:auto;line-height:normal;font-family:Menlo,'DejaVu Sans Mono',consolas,'Courier New',monospace\"><span style=\"font-style: italic\">                                                      Simulations                                                      </span>\n",
       "┏━━━━━━━┳━━━━━━━━━━━━━━━━┳━━━━━━━━━━━━━━━━━━┳━━━━━━━━━━━━━━━━━━━━━━━━━━━━━━━━━━━━━━┳━━━━━━━━━┳━━━━━━━━━━━━┳━━━━━┳━━━━━┓\n",
       "┃<span style=\"font-weight: bold\"> Index </span>┃<span style=\"font-weight: bold\"> Name           </span>┃<span style=\"font-weight: bold\"> Created at       </span>┃<span style=\"font-weight: bold\"> Id                                   </span>┃<span style=\"font-weight: bold\"> Status  </span>┃<span style=\"font-weight: bold\"> Freq. (Hz) </span>┃<span style=\"font-weight: bold\"> Rcv </span>┃<span style=\"font-weight: bold\"> Src </span>┃\n",
       "┡━━━━━━━╇━━━━━━━━━━━━━━━━╇━━━━━━━━━━━━━━━━━━╇━━━━━━━━━━━━━━━━━━━━━━━━━━━━━━━━━━━━━━╇━━━━━━━━━╇━━━━━━━━━━━━╇━━━━━╇━━━━━┩\n",
       "│ 0     │ simulation_0_1 │ 2025-05-25 14:34 │ cddbbca2-6ef0-4ccd-9b64-2324ba58b3a7 │ Created │ 500        │ 1   │ 1   │\n",
       "│ 1     │ simulation_2_1 │ 2025-05-25 14:34 │ 2c4f189e-26a0-4506-9ee7-2b76374a44b2 │ Created │ 500        │ 1   │ 1   │\n",
       "│ 2     │ simulation_3_1 │ 2025-05-25 14:34 │ 4bbf54b1-ba0c-4e23-a7d2-172b6a51befb │ Created │ 500        │ 1   │ 1   │\n",
       "│ 3     │ simulation_1_1 │ 2025-05-25 14:34 │ dc8daa95-29de-4621-988f-081c9e538b02 │ Created │ 500        │ 1   │ 1   │\n",
       "│ 4     │ simulation_4_1 │ 2025-05-25 14:34 │ e264eaba-4a8b-4147-9923-554a0333aecd │ Created │ 500        │ 1   │ 1   │\n",
       "│ 5     │ simulation_8_1 │ 2025-05-25 14:34 │ 076a1fc8-4b67-43bf-9ecf-8eb5d58d775a │ Created │ 500        │ 1   │ 1   │\n",
       "│ 6     │ simulation_5_1 │ 2025-05-25 14:34 │ 8bae7a7a-20c6-4760-a364-c8f2ca8bda96 │ Created │ 500        │ 1   │ 1   │\n",
       "│ 7     │ simulation_7_1 │ 2025-05-25 14:34 │ 8cdc31ce-2d67-47f0-aad3-fdd7efe0ba56 │ Created │ 500        │ 1   │ 1   │\n",
       "│ 8     │ simulation_6_1 │ 2025-05-25 14:34 │ fb3af502-535c-48f7-83f5-b46956854b27 │ Created │ 500        │ 1   │ 1   │\n",
       "│ 9     │ simulation_9_1 │ 2025-05-25 14:34 │ b44ebd64-9a1f-472e-8a7c-493068cae254 │ Created │ 500        │ 1   │ 1   │\n",
       "└───────┴────────────────┴──────────────────┴──────────────────────────────────────┴─────────┴────────────┴─────┴─────┘\n",
       "</pre>\n"
      ],
      "text/plain": [
       "\u001b[3m                                                      Simulations                                                      \u001b[0m\n",
       "┏━━━━━━━┳━━━━━━━━━━━━━━━━┳━━━━━━━━━━━━━━━━━━┳━━━━━━━━━━━━━━━━━━━━━━━━━━━━━━━━━━━━━━┳━━━━━━━━━┳━━━━━━━━━━━━┳━━━━━┳━━━━━┓\n",
       "┃\u001b[1m \u001b[0m\u001b[1mIndex\u001b[0m\u001b[1m \u001b[0m┃\u001b[1m \u001b[0m\u001b[1mName          \u001b[0m\u001b[1m \u001b[0m┃\u001b[1m \u001b[0m\u001b[1mCreated at      \u001b[0m\u001b[1m \u001b[0m┃\u001b[1m \u001b[0m\u001b[1mId                                  \u001b[0m\u001b[1m \u001b[0m┃\u001b[1m \u001b[0m\u001b[1mStatus \u001b[0m\u001b[1m \u001b[0m┃\u001b[1m \u001b[0m\u001b[1mFreq. (Hz)\u001b[0m\u001b[1m \u001b[0m┃\u001b[1m \u001b[0m\u001b[1mRcv\u001b[0m\u001b[1m \u001b[0m┃\u001b[1m \u001b[0m\u001b[1mSrc\u001b[0m\u001b[1m \u001b[0m┃\n",
       "┡━━━━━━━╇━━━━━━━━━━━━━━━━╇━━━━━━━━━━━━━━━━━━╇━━━━━━━━━━━━━━━━━━━━━━━━━━━━━━━━━━━━━━╇━━━━━━━━━╇━━━━━━━━━━━━╇━━━━━╇━━━━━┩\n",
       "│ 0     │ simulation_0_1 │ 2025-05-25 14:34 │ cddbbca2-6ef0-4ccd-9b64-2324ba58b3a7 │ Created │ 500        │ 1   │ 1   │\n",
       "│ 1     │ simulation_2_1 │ 2025-05-25 14:34 │ 2c4f189e-26a0-4506-9ee7-2b76374a44b2 │ Created │ 500        │ 1   │ 1   │\n",
       "│ 2     │ simulation_3_1 │ 2025-05-25 14:34 │ 4bbf54b1-ba0c-4e23-a7d2-172b6a51befb │ Created │ 500        │ 1   │ 1   │\n",
       "│ 3     │ simulation_1_1 │ 2025-05-25 14:34 │ dc8daa95-29de-4621-988f-081c9e538b02 │ Created │ 500        │ 1   │ 1   │\n",
       "│ 4     │ simulation_4_1 │ 2025-05-25 14:34 │ e264eaba-4a8b-4147-9923-554a0333aecd │ Created │ 500        │ 1   │ 1   │\n",
       "│ 5     │ simulation_8_1 │ 2025-05-25 14:34 │ 076a1fc8-4b67-43bf-9ecf-8eb5d58d775a │ Created │ 500        │ 1   │ 1   │\n",
       "│ 6     │ simulation_5_1 │ 2025-05-25 14:34 │ 8bae7a7a-20c6-4760-a364-c8f2ca8bda96 │ Created │ 500        │ 1   │ 1   │\n",
       "│ 7     │ simulation_7_1 │ 2025-05-25 14:34 │ 8cdc31ce-2d67-47f0-aad3-fdd7efe0ba56 │ Created │ 500        │ 1   │ 1   │\n",
       "│ 8     │ simulation_6_1 │ 2025-05-25 14:34 │ fb3af502-535c-48f7-83f5-b46956854b27 │ Created │ 500        │ 1   │ 1   │\n",
       "│ 9     │ simulation_9_1 │ 2025-05-25 14:34 │ b44ebd64-9a1f-472e-8a7c-493068cae254 │ Created │ 500        │ 1   │ 1   │\n",
       "└───────┴────────────────┴──────────────────┴──────────────────────────────────────┴─────────┴────────────┴─────┴─────┘\n"
      ]
     },
     "metadata": {},
     "output_type": "display_data"
    }
   ],
   "source": [
    "all_sims = project.get_simulations()\n",
    "dd.display(all_sims)"
   ]
  },
  {
   "cell_type": "code",
   "execution_count": 41,
   "id": "f7a75242",
   "metadata": {},
   "outputs": [
    {
     "data": {
      "text/html": [
       "\n",
       "        <iframe\n",
       "            width=\"100%\"\n",
       "            height=\"700\"\n",
       "            src=\"http://127.0.0.1:55660/\"\n",
       "            frameborder=\"0\"\n",
       "            allowfullscreen\n",
       "            \n",
       "        ></iframe>\n",
       "        "
      ],
      "text/plain": [
       "<IPython.lib.display.IFrame at 0x7f26a702bbb0>"
      ]
     },
     "metadata": {},
     "output_type": "display_data"
    }
   ],
   "source": [
    "random_sim = random.choice(all_sims)\n",
    "random_sim.plot()"
   ]
  },
  {
   "cell_type": "code",
   "execution_count": 42,
   "id": "9958b0bb",
   "metadata": {},
   "outputs": [
    {
     "data": {
      "text/html": [
       "<pre style=\"white-space:pre;overflow-x:auto;line-height:normal;font-family:Menlo,'DejaVu Sans Mono',consolas,'Courier New',monospace\"><span style=\"font-style: italic\">                               Project 8f3ea3d4-3701-4030-b97d-949ac2b566e3 estimate                               </span>\n",
       "┏━━━━━━━━━━━━━━━━━━━━━━━━━━━━━━━━━━━━━━━━━━━━━━━━━━━━━━━┳━━━━━━━━━━━━━━━━━━┳━━━━━━━━━━━━━━━━━━━┳━━━━━━━━━━━━━━━━━━┓\n",
       "┃<span style=\"font-weight: bold\">                                                       </span>┃<span style=\"font-weight: bold\">       Simulation </span>┃<span style=\"font-weight: bold\"> Estimated runtime </span>┃<span style=\"font-weight: bold\">   Estimated cost </span>┃\n",
       "┃<span style=\"font-weight: bold\">                                            Simulation </span>┃<span style=\"font-weight: bold\">           status </span>┃<span style=\"font-weight: bold\">           (hours) </span>┃<span style=\"font-weight: bold\">         (tokens) </span>┃\n",
       "┡━━━━━━━━━━━━━━━━━━━━━━━━━━━━━━━━━━━━━━━━━━━━━━━━━━━━━━━╇━━━━━━━━━━━━━━━━━━╇━━━━━━━━━━━━━━━━━━━╇━━━━━━━━━━━━━━━━━━┩\n",
       "│ simulation_0_1 (cddbbca2-6ef0-4ccd-9b64-2324ba58b3a7) │          Created │<span style=\"color: #800080; text-decoration-color: #800080\">             0.074 </span>│<span style=\"color: #008000; text-decoration-color: #008000\">            0.103 </span>│\n",
       "│ simulation_2_1 (2c4f189e-26a0-4506-9ee7-2b76374a44b2) │          Created │<span style=\"color: #800080; text-decoration-color: #800080\">             0.262 </span>│<span style=\"color: #008000; text-decoration-color: #008000\">            0.307 </span>│\n",
       "│ simulation_3_1 (4bbf54b1-ba0c-4e23-a7d2-172b6a51befb) │          Created │<span style=\"color: #800080; text-decoration-color: #800080\">             0.172 </span>│<span style=\"color: #008000; text-decoration-color: #008000\">            0.207 </span>│\n",
       "│ simulation_1_1 (dc8daa95-29de-4621-988f-081c9e538b02) │          Created │<span style=\"color: #800080; text-decoration-color: #800080\">             0.058 </span>│<span style=\"color: #008000; text-decoration-color: #008000\">            0.072 </span>│\n",
       "│ simulation_4_1 (e264eaba-4a8b-4147-9923-554a0333aecd) │          Created │<span style=\"color: #800080; text-decoration-color: #800080\">             0.261 </span>│<span style=\"color: #008000; text-decoration-color: #008000\">            0.289 </span>│\n",
       "│ simulation_8_1 (076a1fc8-4b67-43bf-9ecf-8eb5d58d775a) │          Created │<span style=\"color: #800080; text-decoration-color: #800080\">             0.064 </span>│<span style=\"color: #008000; text-decoration-color: #008000\">            0.078 </span>│\n",
       "│ simulation_5_1 (8bae7a7a-20c6-4760-a364-c8f2ca8bda96) │          Created │<span style=\"color: #800080; text-decoration-color: #800080\">             0.038 </span>│<span style=\"color: #008000; text-decoration-color: #008000\">             0.05 </span>│\n",
       "│ simulation_7_1 (8cdc31ce-2d67-47f0-aad3-fdd7efe0ba56) │          Created │<span style=\"color: #800080; text-decoration-color: #800080\">             0.101 </span>│<span style=\"color: #008000; text-decoration-color: #008000\">            0.118 </span>│\n",
       "│ simulation_6_1 (fb3af502-535c-48f7-83f5-b46956854b27) │          Created │<span style=\"color: #800080; text-decoration-color: #800080\">             0.105 </span>│<span style=\"color: #008000; text-decoration-color: #008000\">            0.139 </span>│\n",
       "│ simulation_9_1 (b44ebd64-9a1f-472e-8a7c-493068cae254) │          Created │<span style=\"color: #800080; text-decoration-color: #800080\">             0.046 </span>│<span style=\"color: #008000; text-decoration-color: #008000\">            0.064 </span>│\n",
       "├───────────────────────────────────────────────────────┼──────────────────┼───────────────────┼──────────────────┤\n",
       "│<span style=\"font-weight: bold\">                                                 Total </span>│<span style=\"font-weight: bold\">                  </span>│<span style=\"font-weight: bold\">             </span><span style=\"color: #800080; text-decoration-color: #800080; font-weight: bold\">0.262</span><span style=\"font-weight: bold\"> </span>│<span style=\"font-weight: bold\">            </span><span style=\"color: #008000; text-decoration-color: #008000; font-weight: bold\">1.427</span><span style=\"font-weight: bold\"> </span>│\n",
       "└───────────────────────────────────────────────────────┴──────────────────┴───────────────────┴──────────────────┘\n",
       "</pre>\n"
      ],
      "text/plain": [
       "\u001b[3m                               Project 8f3ea3d4-3701-4030-b97d-949ac2b566e3 estimate                               \u001b[0m\n",
       "┏━━━━━━━━━━━━━━━━━━━━━━━━━━━━━━━━━━━━━━━━━━━━━━━━━━━━━━━┳━━━━━━━━━━━━━━━━━━┳━━━━━━━━━━━━━━━━━━━┳━━━━━━━━━━━━━━━━━━┓\n",
       "┃\u001b[1m                                                       \u001b[0m┃\u001b[1m \u001b[0m\u001b[1m      Simulation\u001b[0m\u001b[1m \u001b[0m┃\u001b[1m \u001b[0m\u001b[1mEstimated runtime\u001b[0m\u001b[1m \u001b[0m┃\u001b[1m \u001b[0m\u001b[1m  Estimated cost\u001b[0m\u001b[1m \u001b[0m┃\n",
       "┃\u001b[1m \u001b[0m\u001b[1m                                           Simulation\u001b[0m\u001b[1m \u001b[0m┃\u001b[1m \u001b[0m\u001b[1m          status\u001b[0m\u001b[1m \u001b[0m┃\u001b[1m \u001b[0m\u001b[1m          (hours)\u001b[0m\u001b[1m \u001b[0m┃\u001b[1m \u001b[0m\u001b[1m        (tokens)\u001b[0m\u001b[1m \u001b[0m┃\n",
       "┡━━━━━━━━━━━━━━━━━━━━━━━━━━━━━━━━━━━━━━━━━━━━━━━━━━━━━━━╇━━━━━━━━━━━━━━━━━━╇━━━━━━━━━━━━━━━━━━━╇━━━━━━━━━━━━━━━━━━┩\n",
       "│ simulation_0_1 (cddbbca2-6ef0-4ccd-9b64-2324ba58b3a7) │          Created │\u001b[35m \u001b[0m\u001b[35m            0.074\u001b[0m\u001b[35m \u001b[0m│\u001b[32m \u001b[0m\u001b[32m           0.103\u001b[0m\u001b[32m \u001b[0m│\n",
       "│ simulation_2_1 (2c4f189e-26a0-4506-9ee7-2b76374a44b2) │          Created │\u001b[35m \u001b[0m\u001b[35m            0.262\u001b[0m\u001b[35m \u001b[0m│\u001b[32m \u001b[0m\u001b[32m           0.307\u001b[0m\u001b[32m \u001b[0m│\n",
       "│ simulation_3_1 (4bbf54b1-ba0c-4e23-a7d2-172b6a51befb) │          Created │\u001b[35m \u001b[0m\u001b[35m            0.172\u001b[0m\u001b[35m \u001b[0m│\u001b[32m \u001b[0m\u001b[32m           0.207\u001b[0m\u001b[32m \u001b[0m│\n",
       "│ simulation_1_1 (dc8daa95-29de-4621-988f-081c9e538b02) │          Created │\u001b[35m \u001b[0m\u001b[35m            0.058\u001b[0m\u001b[35m \u001b[0m│\u001b[32m \u001b[0m\u001b[32m           0.072\u001b[0m\u001b[32m \u001b[0m│\n",
       "│ simulation_4_1 (e264eaba-4a8b-4147-9923-554a0333aecd) │          Created │\u001b[35m \u001b[0m\u001b[35m            0.261\u001b[0m\u001b[35m \u001b[0m│\u001b[32m \u001b[0m\u001b[32m           0.289\u001b[0m\u001b[32m \u001b[0m│\n",
       "│ simulation_8_1 (076a1fc8-4b67-43bf-9ecf-8eb5d58d775a) │          Created │\u001b[35m \u001b[0m\u001b[35m            0.064\u001b[0m\u001b[35m \u001b[0m│\u001b[32m \u001b[0m\u001b[32m           0.078\u001b[0m\u001b[32m \u001b[0m│\n",
       "│ simulation_5_1 (8bae7a7a-20c6-4760-a364-c8f2ca8bda96) │          Created │\u001b[35m \u001b[0m\u001b[35m            0.038\u001b[0m\u001b[35m \u001b[0m│\u001b[32m \u001b[0m\u001b[32m            0.05\u001b[0m\u001b[32m \u001b[0m│\n",
       "│ simulation_7_1 (8cdc31ce-2d67-47f0-aad3-fdd7efe0ba56) │          Created │\u001b[35m \u001b[0m\u001b[35m            0.101\u001b[0m\u001b[35m \u001b[0m│\u001b[32m \u001b[0m\u001b[32m           0.118\u001b[0m\u001b[32m \u001b[0m│\n",
       "│ simulation_6_1 (fb3af502-535c-48f7-83f5-b46956854b27) │          Created │\u001b[35m \u001b[0m\u001b[35m            0.105\u001b[0m\u001b[35m \u001b[0m│\u001b[32m \u001b[0m\u001b[32m           0.139\u001b[0m\u001b[32m \u001b[0m│\n",
       "│ simulation_9_1 (b44ebd64-9a1f-472e-8a7c-493068cae254) │          Created │\u001b[35m \u001b[0m\u001b[35m            0.046\u001b[0m\u001b[35m \u001b[0m│\u001b[32m \u001b[0m\u001b[32m           0.064\u001b[0m\u001b[32m \u001b[0m│\n",
       "├───────────────────────────────────────────────────────┼──────────────────┼───────────────────┼──────────────────┤\n",
       "│\u001b[1m \u001b[0m\u001b[1m                                                \u001b[0m\u001b[1mTotal\u001b[0m\u001b[1m \u001b[0m│\u001b[1m \u001b[0m\u001b[1m                \u001b[0m\u001b[1m \u001b[0m│\u001b[1m \u001b[0m\u001b[1m            \u001b[0m\u001b[1;35m0.262\u001b[0m\u001b[1m \u001b[0m│\u001b[1m \u001b[0m\u001b[1m           \u001b[0m\u001b[1;32m1.427\u001b[0m\u001b[1m \u001b[0m│\n",
       "└───────────────────────────────────────────────────────┴──────────────────┴───────────────────┴──────────────────┘\n"
      ]
     },
     "metadata": {},
     "output_type": "display_data"
    }
   ],
   "source": [
    "runtime_estimate = project.estimate()\n",
    "dd.display(runtime_estimate)\n"
   ]
  },
  {
   "cell_type": "code",
   "execution_count": 44,
   "id": "1fdb41e2",
   "metadata": {},
   "outputs": [
    {
     "data": {
      "text/html": [
       "<pre style=\"white-space:pre;overflow-x:auto;line-height:normal;font-family:Menlo,'DejaVu Sans Mono',consolas,'Courier New',monospace\"><span style=\"font-style: italic\">                                      ertsi_2                                      </span>\n",
       "┏━━━━━━━━━━━━━━━━━┳━━━━━━━━━━━━━━━━━━━━━━━━━━━━━━━━━━━━━━┳━━━━━━━━━━━┳━━━━━━━━━━━━┓\n",
       "┃<span style=\"font-weight: bold\"> Simulation Name </span>┃<span style=\"font-weight: bold\"> Id                                   </span>┃<span style=\"font-weight: bold\"> Status    </span>┃<span style=\"font-weight: bold\"> Progress % </span>┃\n",
       "┡━━━━━━━━━━━━━━━━━╇━━━━━━━━━━━━━━━━━━━━━━━━━━━━━━━━━━━━━━╇━━━━━━━━━━━╇━━━━━━━━━━━━┩\n",
       "│ simulation_8_1  │ 076a1fc8-4b67-43bf-9ecf-8eb5d58d775a │ <span style=\"color: #008000; text-decoration-color: #008000\">Completed</span> │ 100%       │\n",
       "│ simulation_2_1  │ 2c4f189e-26a0-4506-9ee7-2b76374a44b2 │ <span style=\"color: #008000; text-decoration-color: #008000\">Completed</span> │ 100%       │\n",
       "│ simulation_3_1  │ 4bbf54b1-ba0c-4e23-a7d2-172b6a51befb │ <span style=\"color: #008000; text-decoration-color: #008000\">Completed</span> │ 100%       │\n",
       "│ simulation_5_1  │ 8bae7a7a-20c6-4760-a364-c8f2ca8bda96 │ <span style=\"color: #008000; text-decoration-color: #008000\">Completed</span> │ 100%       │\n",
       "│ simulation_7_1  │ 8cdc31ce-2d67-47f0-aad3-fdd7efe0ba56 │ <span style=\"color: #008000; text-decoration-color: #008000\">Completed</span> │ 100%       │\n",
       "│ simulation_9_1  │ b44ebd64-9a1f-472e-8a7c-493068cae254 │ <span style=\"color: #008000; text-decoration-color: #008000\">Completed</span> │ 100%       │\n",
       "│ simulation_0_1  │ cddbbca2-6ef0-4ccd-9b64-2324ba58b3a7 │ <span style=\"color: #008000; text-decoration-color: #008000\">Completed</span> │ 100%       │\n",
       "│ simulation_1_1  │ dc8daa95-29de-4621-988f-081c9e538b02 │ <span style=\"color: #008000; text-decoration-color: #008000\">Completed</span> │ 100%       │\n",
       "│ simulation_4_1  │ e264eaba-4a8b-4147-9923-554a0333aecd │ <span style=\"color: #008000; text-decoration-color: #008000\">Completed</span> │ 102.44%    │\n",
       "│ simulation_6_1  │ fb3af502-535c-48f7-83f5-b46956854b27 │ <span style=\"color: #008000; text-decoration-color: #008000\">Completed</span> │ 100%       │\n",
       "├─────────────────┼──────────────────────────────────────┼───────────┼────────────┤\n",
       "│<span style=\"font-weight: bold\">                 </span>│<span style=\"font-weight: bold\">                                      </span>│<span style=\"font-weight: bold\"> </span><span style=\"color: #008000; text-decoration-color: #008000; font-weight: bold\">Completed</span><span style=\"font-weight: bold\"> </span>│<span style=\"font-weight: bold\"> 100.24%    </span>│\n",
       "└─────────────────┴──────────────────────────────────────┴───────────┴────────────┘\n",
       "</pre>\n"
      ],
      "text/plain": [
       "\u001b[3m                                      ertsi_2                                      \u001b[0m\n",
       "┏━━━━━━━━━━━━━━━━━┳━━━━━━━━━━━━━━━━━━━━━━━━━━━━━━━━━━━━━━┳━━━━━━━━━━━┳━━━━━━━━━━━━┓\n",
       "┃\u001b[1m \u001b[0m\u001b[1mSimulation Name\u001b[0m\u001b[1m \u001b[0m┃\u001b[1m \u001b[0m\u001b[1mId                                  \u001b[0m\u001b[1m \u001b[0m┃\u001b[1m \u001b[0m\u001b[1mStatus   \u001b[0m\u001b[1m \u001b[0m┃\u001b[1m \u001b[0m\u001b[1mProgress %\u001b[0m\u001b[1m \u001b[0m┃\n",
       "┡━━━━━━━━━━━━━━━━━╇━━━━━━━━━━━━━━━━━━━━━━━━━━━━━━━━━━━━━━╇━━━━━━━━━━━╇━━━━━━━━━━━━┩\n",
       "│ simulation_8_1  │ 076a1fc8-4b67-43bf-9ecf-8eb5d58d775a │ \u001b[32mCompleted\u001b[0m │ 100%       │\n",
       "│ simulation_2_1  │ 2c4f189e-26a0-4506-9ee7-2b76374a44b2 │ \u001b[32mCompleted\u001b[0m │ 100%       │\n",
       "│ simulation_3_1  │ 4bbf54b1-ba0c-4e23-a7d2-172b6a51befb │ \u001b[32mCompleted\u001b[0m │ 100%       │\n",
       "│ simulation_5_1  │ 8bae7a7a-20c6-4760-a364-c8f2ca8bda96 │ \u001b[32mCompleted\u001b[0m │ 100%       │\n",
       "│ simulation_7_1  │ 8cdc31ce-2d67-47f0-aad3-fdd7efe0ba56 │ \u001b[32mCompleted\u001b[0m │ 100%       │\n",
       "│ simulation_9_1  │ b44ebd64-9a1f-472e-8a7c-493068cae254 │ \u001b[32mCompleted\u001b[0m │ 100%       │\n",
       "│ simulation_0_1  │ cddbbca2-6ef0-4ccd-9b64-2324ba58b3a7 │ \u001b[32mCompleted\u001b[0m │ 100%       │\n",
       "│ simulation_1_1  │ dc8daa95-29de-4621-988f-081c9e538b02 │ \u001b[32mCompleted\u001b[0m │ 100%       │\n",
       "│ simulation_4_1  │ e264eaba-4a8b-4147-9923-554a0333aecd │ \u001b[32mCompleted\u001b[0m │ 102.44%    │\n",
       "│ simulation_6_1  │ fb3af502-535c-48f7-83f5-b46956854b27 │ \u001b[32mCompleted\u001b[0m │ 100%       │\n",
       "├─────────────────┼──────────────────────────────────────┼───────────┼────────────┤\n",
       "│\u001b[1m \u001b[0m\u001b[1m               \u001b[0m\u001b[1m \u001b[0m│\u001b[1m \u001b[0m\u001b[1m                                    \u001b[0m\u001b[1m \u001b[0m│\u001b[1m \u001b[0m\u001b[1;32mCompleted\u001b[0m\u001b[1m \u001b[0m│\u001b[1m \u001b[0m\u001b[1m100.24%   \u001b[0m\u001b[1m \u001b[0m│\n",
       "└─────────────────┴──────────────────────────────────────┴───────────┴────────────┘\n"
      ]
     },
     "metadata": {},
     "output_type": "display_data"
    },
    {
     "data": {
      "text/html": [
       "<pre style=\"white-space:pre;overflow-x:auto;line-height:normal;font-family:Menlo,'DejaVu Sans Mono',consolas,'Courier New',monospace\">Done\n",
       "</pre>\n"
      ],
      "text/plain": [
       "Done\n"
      ]
     },
     "metadata": {},
     "output_type": "display_data"
    }
   ],
   "source": [
    "project.start_simulations()\n",
    "project.as_live_progress()"
   ]
  },
  {
   "cell_type": "code",
   "execution_count": 66,
   "id": "b0083bc0",
   "metadata": {},
   "outputs": [
    {
     "name": "stdout",
     "output_type": "stream",
     "text": [
      "Room leo_2 already exists, skipping download.\n",
      "Room leo_4 already exists, skipping download.\n",
      "Room leo_10 already exists, skipping download.\n",
      "Room leo_8 already exists, skipping download.\n",
      "Room leo_7 already exists, skipping download.\n",
      "Room leo_6 already exists, skipping download.\n",
      "Room leo_1 already exists, skipping download.\n",
      "Room leo_5 already exists, skipping download.\n",
      "Room leo_9 already exists, skipping download.\n",
      "Room leo_3 already exists, skipping download.\n"
     ]
    }
   ],
   "source": [
    "for sim, room in zip(all_sims, rooms_data):\n",
    "    room_name = room[\"room_name\"]\n",
    "    \n",
    "    try:\n",
    "        r = sim.download_results(f'data/{room_name}')\n",
    "    except ValueError as e:\n",
    "        print(f\"Room {room_name} already exists, skipping download.\")\n",
    "        r = None"
   ]
  },
  {
   "cell_type": "code",
   "execution_count": 71,
   "id": "4bc5038d",
   "metadata": {},
   "outputs": [
    {
     "name": "stdout",
     "output_type": "stream",
     "text": [
      "Results not found for room leo_7: 'Unable to synchronously open object (component not found)'\n"
     ]
    }
   ],
   "source": [
    "for simulation, room in zip(all_sims, rooms_data):\n",
    "    try:\n",
    "        results = simulation.get_results_object(f'data/{room[\"room_name\"]}')\n",
    "        mono_ir = results.get_mono_ir(source=simulation.sources[0], receiver=simulation.receivers[0])\n",
    "        mono_ir.write_to_wav(path_to_file=f\"data/{room['room_name']}/ir.wav\")\n",
    "    except KeyError as e:\n",
    "        print(f\"Results not found for room {room['room_name']}: {e}\")\n"
   ]
  }
 ],
 "metadata": {
  "kernelspec": {
   "display_name": ".venv",
   "language": "python",
   "name": "python3"
  },
  "language_info": {
   "codemirror_mode": {
    "name": "ipython",
    "version": 3
   },
   "file_extension": ".py",
   "mimetype": "text/x-python",
   "name": "python",
   "nbconvert_exporter": "python",
   "pygments_lexer": "ipython3",
   "version": "3.13.3"
  }
 },
 "nbformat": 4,
 "nbformat_minor": 5
}
