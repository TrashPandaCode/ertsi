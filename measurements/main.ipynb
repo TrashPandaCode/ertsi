{
 "cells": [
  {
   "cell_type": "code",
   "execution_count": 55,
   "id": "c1e2baf5",
   "metadata": {},
   "outputs": [],
   "source": [
    "import numpy as np\n",
    "import matplotlib.pyplot as plt\n",
    "import sounddevice as sd\n",
    "import pyfar as pf\n",
    "import time\n",
    "import pyroomacoustics as pra\n"
   ]
  },
  {
   "cell_type": "code",
   "execution_count": 56,
   "id": "a00e74a4",
   "metadata": {},
   "outputs": [],
   "source": [
    "def measure_rt60(sample_rate=48000, duration=3):\n",
    "\n",
    "    print(\"Preparing measurement...\")\n",
    "    \n",
    "    # Create exponential sine sweep\n",
    "    f_start = 20  # Hz\n",
    "    f_stop = 20000  # Hz\n",
    "    sweep_samples = int(duration * sample_rate)\n",
    "    \n",
    "    # Using pyfar to generate the sweep\n",
    "    sweep = pf.signals.exponential_sweep_freq(\n",
    "        n_samples=sweep_samples,\n",
    "        frequency_range=[f_start, f_stop],\n",
    "        sampling_rate=sample_rate,\n",
    "        start_margin=5000,\n",
    "        stop_margin=1000,\n",
    "    )\n",
    "    \n",
    "    # # Apply fade-in and fade-out to avoid clicks\n",
    "    # fade_samples = int(0.01 * sample_rate)  # 10 ms fade\n",
    "    # fade_in = np.linspace(0, 1, fade_samples)\n",
    "    # fade_out = np.linspace(1, 0, fade_samples)\n",
    "    \n",
    "    # sweep_signal = sweep.time.copy()\n",
    "    # sweep_signal[:fade_samples] *= fade_in\n",
    "    # sweep_signal[-fade_samples:] *= fade_out\n",
    "    \n",
    "    # Normalize to avoid clipping\n",
    "    # sweep_signal = 0.9 * sweep / np.max(np.abs(sweep))\n",
    "    \n",
    "    silence = pf.Signal(\n",
    "        np.zeros(int(sample_rate * 2)),  # 2 seconds of silence\n",
    "        sampling_rate=sample_rate,\n",
    "    )\n",
    "    playback_signal = np.append(sweep.time, silence.time)\n",
    "    playback_signal = pf.Signal(\n",
    "        playback_signal,\n",
    "        sampling_rate=sample_rate,\n",
    "    )\n",
    "\n",
    "    # Add silence at the end to capture full reverb tail\n",
    "    # silence_duration = 2  # seconds\n",
    "    # silence_samples = int(silence_duration * sample_rate)\n",
    "    # playback_signal = np.concatenate([sweep, np.zeros(silence_samples)])\n",
    "\n",
    "    \n",
    "    # Prepare for playback and recording\n",
    "    print(\"Starting measurement. Please ensure the room is quiet...\")\n",
    "    time.sleep(1)\n",
    "    \n",
    "    # Perform the measurement\n",
    "    recorded_signal = sd.playrec(\n",
    "        playback_signal.time.T,\n",
    "        sample_rate,\n",
    "        channels=1,\n",
    "        blocking=True\n",
    "    ).flatten()\n",
    "    \n",
    "    print(\"Measurement completed. Processing data...\")\n",
    "    \n",
    "    #remove the first 3 seconds of the recorded signal to avoid the initial transient\n",
    "    recorded_signal = recorded_signal[3 * sample_rate:]\n",
    "\n",
    "    # Calculate RT60 using Schroeder integration method\n",
    "    rt60_values = pra.experimental.rt60.measure_rt60(\n",
    "        recorded_signal,\n",
    "        sample_rate,\n",
    "        plot=True,\n",
    "    )\n",
    "    \n",
    "    return recorded_signal, rt60_values"
   ]
  },
  {
   "cell_type": "code",
   "execution_count": 57,
   "id": "054bd7ef",
   "metadata": {},
   "outputs": [
    {
     "name": "stdout",
     "output_type": "stream",
     "text": [
      "Preparing to measure RT60 with sample rate 48000 Hz and duration 3 s.\n",
      "Preparing measurement...\n",
      "Starting measurement. Please ensure the room is quiet...\n",
      "Measurement completed. Processing data...\n"
     ]
    }
   ],
   "source": [
    "sample_rate = 48000\n",
    "duration = 3\n",
    "print(\"Preparing to measure RT60 with sample rate\", sample_rate, \"Hz and duration\", duration, \"s.\")\n",
    "\n",
    "# Run the measurement\n",
    "ir, rt60_values = measure_rt60(sample_rate, duration)"
   ]
  },
  {
   "cell_type": "code",
   "execution_count": 58,
   "id": "9044285f",
   "metadata": {},
   "outputs": [
    {
     "name": "stdout",
     "output_type": "stream",
     "text": [
      "0.48860764275016383\n"
     ]
    },
    {
     "data": {
      "text/plain": [
       "<Axes: xlabel='Time in s', ylabel='Amplitude'>"
      ]
     },
     "execution_count": 58,
     "metadata": {},
     "output_type": "execute_result"
    },
    {
     "name": "stderr",
     "output_type": "stream",
     "text": [
      "h:\\ertsi\\measurements\\.venv\\Lib\\site-packages\\IPython\\core\\events.py:82: UserWarning: Creating legend with loc=\"best\" can be slow with large amounts of data.\n",
      "  func(*args, **kwargs)\n",
      "h:\\ertsi\\measurements\\.venv\\Lib\\site-packages\\IPython\\core\\events.py:82: UserWarning: constrained_layout not applied because axes sizes collapsed to zero.  Try making figure larger or Axes decorations smaller.\n",
      "  func(*args, **kwargs)\n"
     ]
    }
   ],
   "source": [
    "print(rt60_values)\n",
    "ir = pf.Signal(ir, sampling_rate=sample_rate)\n",
    "pf.plot.time(ir)"
   ]
  }
 ],
 "metadata": {
  "kernelspec": {
   "display_name": ".venv",
   "language": "python",
   "name": "python3"
  },
  "language_info": {
   "codemirror_mode": {
    "name": "ipython",
    "version": 3
   },
   "file_extension": ".py",
   "mimetype": "text/x-python",
   "name": "python",
   "nbconvert_exporter": "python",
   "pygments_lexer": "ipython3",
   "version": "3.13.3"
  }
 },
 "nbformat": 4,
 "nbformat_minor": 5
}
